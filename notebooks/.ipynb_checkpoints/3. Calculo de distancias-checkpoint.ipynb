{
 "cells": [
  {
   "cell_type": "code",
   "execution_count": 3,
   "metadata": {},
   "outputs": [],
   "source": [
    "import pandas as pd"
   ]
  },
  {
   "cell_type": "markdown",
   "metadata": {},
   "source": [
    "## Calculo distacias entre dos variables"
   ]
  },
  {
   "cell_type": "markdown",
   "metadata": {},
   "source": [
    "* Calculamos la distacias entre el hostpiral y la farmacia"
   ]
  },
  {
   "cell_type": "code",
   "execution_count": 4,
   "metadata": {},
   "outputs": [
    {
     "data": {
      "text/html": [
       "<div>\n",
       "<style scoped>\n",
       "    .dataframe tbody tr th:only-of-type {\n",
       "        vertical-align: middle;\n",
       "    }\n",
       "\n",
       "    .dataframe tbody tr th {\n",
       "        vertical-align: top;\n",
       "    }\n",
       "\n",
       "    .dataframe thead th {\n",
       "        text-align: right;\n",
       "    }\n",
       "</style>\n",
       "<table border=\"1\" class=\"dataframe\">\n",
       "  <thead>\n",
       "    <tr style=\"text-align: right;\">\n",
       "      <th></th>\n",
       "      <th>Unnamed: 0</th>\n",
       "      <th>NOMBRE</th>\n",
       "      <th>DIRECCION</th>\n",
       "      <th>DISTRITO</th>\n",
       "      <th>COD_POSTAL</th>\n",
       "      <th>COORDENADA-X</th>\n",
       "      <th>COORDENADA-Y</th>\n",
       "      <th>LATITUD</th>\n",
       "      <th>LONGITUD</th>\n",
       "      <th>TIPO</th>\n",
       "    </tr>\n",
       "  </thead>\n",
       "  <tbody>\n",
       "    <tr>\n",
       "      <th>0</th>\n",
       "      <td>0</td>\n",
       "      <td>Centro Concertado de Atención a las Adicciones...</td>\n",
       "      <td>CALLE SANTA HORTENSIA 1</td>\n",
       "      <td>CHAMARTIN</td>\n",
       "      <td>28002</td>\n",
       "      <td>443159</td>\n",
       "      <td>4477482</td>\n",
       "      <td>40.446053</td>\n",
       "      <td>-3.670277</td>\n",
       "      <td>CentrosAsistenciaDrogodependientes</td>\n",
       "    </tr>\n",
       "    <tr>\n",
       "      <th>1</th>\n",
       "      <td>1</td>\n",
       "      <td>Centro Concertado de Atención a las Adicciones...</td>\n",
       "      <td>AVENIDA PORTUGAL 0</td>\n",
       "      <td>LATINA</td>\n",
       "      <td>28011</td>\n",
       "      <td>438577</td>\n",
       "      <td>4474219</td>\n",
       "      <td>40.416331</td>\n",
       "      <td>-3.723991</td>\n",
       "      <td>CentrosAsistenciaDrogodependientes</td>\n",
       "    </tr>\n",
       "    <tr>\n",
       "      <th>2</th>\n",
       "      <td>2</td>\n",
       "      <td>Centro de Atención a las Adicciones (CAD) de A...</td>\n",
       "      <td>PASEO CHOPERA 12</td>\n",
       "      <td>ARGANZUELA</td>\n",
       "      <td>28045</td>\n",
       "      <td>440757</td>\n",
       "      <td>4471619</td>\n",
       "      <td>40.393057</td>\n",
       "      <td>-3.698067</td>\n",
       "      <td>CentrosAsistenciaDrogodependientes</td>\n",
       "    </tr>\n",
       "    <tr>\n",
       "      <th>3</th>\n",
       "      <td>3</td>\n",
       "      <td>Centro de Atención a las Adicciones (CAD) de H...</td>\n",
       "      <td>CALLE MINAYA 7</td>\n",
       "      <td>HORTALEZA</td>\n",
       "      <td>28043</td>\n",
       "      <td>446072</td>\n",
       "      <td>4479929</td>\n",
       "      <td>40.468289</td>\n",
       "      <td>-3.636150</td>\n",
       "      <td>CentrosAsistenciaDrogodependientes</td>\n",
       "    </tr>\n",
       "    <tr>\n",
       "      <th>4</th>\n",
       "      <td>4</td>\n",
       "      <td>Centro de Atención a las Adicciones (CAD) de L...</td>\n",
       "      <td>CALLE CAMARENA 10</td>\n",
       "      <td>LATINA</td>\n",
       "      <td>28047</td>\n",
       "      <td>435820</td>\n",
       "      <td>4471982</td>\n",
       "      <td>40.395971</td>\n",
       "      <td>-3.756272</td>\n",
       "      <td>CentrosAsistenciaDrogodependientes</td>\n",
       "    </tr>\n",
       "  </tbody>\n",
       "</table>\n",
       "</div>"
      ],
      "text/plain": [
       "   Unnamed: 0                                             NOMBRE  \\\n",
       "0           0  Centro Concertado de Atención a las Adicciones...   \n",
       "1           1  Centro Concertado de Atención a las Adicciones...   \n",
       "2           2  Centro de Atención a las Adicciones (CAD) de A...   \n",
       "3           3  Centro de Atención a las Adicciones (CAD) de H...   \n",
       "4           4  Centro de Atención a las Adicciones (CAD) de L...   \n",
       "\n",
       "                 DIRECCION    DISTRITO  COD_POSTAL  COORDENADA-X  \\\n",
       "0  CALLE SANTA HORTENSIA 1   CHAMARTIN       28002        443159   \n",
       "1       AVENIDA PORTUGAL 0      LATINA       28011        438577   \n",
       "2         PASEO CHOPERA 12  ARGANZUELA       28045        440757   \n",
       "3           CALLE MINAYA 7   HORTALEZA       28043        446072   \n",
       "4        CALLE CAMARENA 10      LATINA       28047        435820   \n",
       "\n",
       "   COORDENADA-Y    LATITUD  LONGITUD                                TIPO  \n",
       "0       4477482  40.446053 -3.670277  CentrosAsistenciaDrogodependientes  \n",
       "1       4474219  40.416331 -3.723991  CentrosAsistenciaDrogodependientes  \n",
       "2       4471619  40.393057 -3.698067  CentrosAsistenciaDrogodependientes  \n",
       "3       4479929  40.468289 -3.636150  CentrosAsistenciaDrogodependientes  \n",
       "4       4471982  40.395971 -3.756272  CentrosAsistenciaDrogodependientes  "
      ]
     },
     "execution_count": 4,
     "metadata": {},
     "output_type": "execute_result"
    }
   ],
   "source": [
    "centros_medicos_clean = pd.read_csv(\"../data/centros_medicos_clean.csv\")\n",
    "centros_medicos_clean.head()"
   ]
  },
  {
   "cell_type": "code",
   "execution_count": null,
   "metadata": {},
   "outputs": [],
   "source": [
    "def haversine(coord1, coord2):\n",
    "    R = 6372800  # Earth radius in meters\n",
    "    lat1, lon1 = coord1\n",
    "    lat2, lon2 = coord2\n",
    "    \n",
    "    phi1, phi2 = math.radians(lat1), math.radians(lat2) \n",
    "    dphi       = math.radians(lat2 - lat1)\n",
    "    dlambda    = math.radians(lon2 - lon1)\n",
    "    \n",
    "    a = math.sin(dphi/2)**2 + \\\n",
    "        math.cos(phi1)*math.cos(phi2)*math.sin(dlambda/2)**2\n",
    "    \n",
    "    return 2*R*math.atan2(math.sqrt(a), math.sqrt(1 - a))"
   ]
  },
  {
   "cell_type": "code",
   "execution_count": null,
   "metadata": {},
   "outputs": [],
   "source": []
  },
  {
   "cell_type": "markdown",
   "metadata": {},
   "source": [
    "## Calaculo distacias tres variables"
   ]
  },
  {
   "cell_type": "code",
   "execution_count": null,
   "metadata": {},
   "outputs": [],
   "source": [
    "def haversine(coord1, coord2):\n",
    "    R = 6372800  # Earth radius in meters\n",
    "    lat1, lon1 = coord1\n",
    "    lat2, lon2 = coord2\n",
    "    \n",
    "    phi1, phi2 = math.radians(lat1), math.radians(lat2) \n",
    "    dphi       = math.radians(lat2 - lat1)\n",
    "    dlambda    = math.radians(lon2 - lon1)\n",
    "    \n",
    "    a = math.sin(dphi/2)**2 + \\\n",
    "        math.cos(phi1)*math.cos(phi2)*math.sin(dlambda/2)**2\n",
    "    \n",
    "    return 2*R*math.atan2(math.sqrt(a), math.sqrt(1 - a))"
   ]
  },
  {
   "cell_type": "code",
   "execution_count": null,
   "metadata": {},
   "outputs": [],
   "source": []
  },
  {
   "cell_type": "code",
   "execution_count": null,
   "metadata": {},
   "outputs": [],
   "source": []
  },
  {
   "cell_type": "code",
   "execution_count": null,
   "metadata": {},
   "outputs": [],
   "source": []
  }
 ],
 "metadata": {
  "kernelspec": {
   "display_name": "Python 3",
   "language": "python",
   "name": "python3"
  },
  "language_info": {
   "codemirror_mode": {
    "name": "ipython",
    "version": 3
   },
   "file_extension": ".py",
   "mimetype": "text/x-python",
   "name": "python",
   "nbconvert_exporter": "python",
   "pygments_lexer": "ipython3",
   "version": "3.8.3"
  },
  "toc": {
   "base_numbering": 1,
   "nav_menu": {},
   "number_sections": true,
   "sideBar": true,
   "skip_h1_title": false,
   "title_cell": "Table of Contents",
   "title_sidebar": "Contents",
   "toc_cell": false,
   "toc_position": {},
   "toc_section_display": true,
   "toc_window_display": false
  }
 },
 "nbformat": 4,
 "nbformat_minor": 4
}
