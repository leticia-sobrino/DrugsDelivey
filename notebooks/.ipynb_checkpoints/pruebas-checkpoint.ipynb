{
 "cells": [
  {
   "cell_type": "code",
   "execution_count": 4,
   "metadata": {},
   "outputs": [],
   "source": [
    "import pandas as pd\n",
    "import numpy as np"
   ]
  },
  {
   "cell_type": "markdown",
   "metadata": {},
   "source": [
    "## Centros medicos"
   ]
  },
  {
   "cell_type": "code",
   "execution_count": 2,
   "metadata": {},
   "outputs": [
    {
     "data": {
      "text/html": [
       "<div>\n",
       "<style scoped>\n",
       "    .dataframe tbody tr th:only-of-type {\n",
       "        vertical-align: middle;\n",
       "    }\n",
       "\n",
       "    .dataframe tbody tr th {\n",
       "        vertical-align: top;\n",
       "    }\n",
       "\n",
       "    .dataframe thead th {\n",
       "        text-align: right;\n",
       "    }\n",
       "</style>\n",
       "<table border=\"1\" class=\"dataframe\">\n",
       "  <thead>\n",
       "    <tr style=\"text-align: right;\">\n",
       "      <th></th>\n",
       "      <th>Unnamed: 0</th>\n",
       "      <th>NOMBRE</th>\n",
       "      <th>DIRECCION</th>\n",
       "      <th>DISTRITO</th>\n",
       "      <th>COD_POSTAL</th>\n",
       "      <th>COORDENADA-X</th>\n",
       "      <th>COORDENADA-Y</th>\n",
       "      <th>LATITUD</th>\n",
       "      <th>LONGITUD</th>\n",
       "      <th>TIPO</th>\n",
       "    </tr>\n",
       "  </thead>\n",
       "  <tbody>\n",
       "    <tr>\n",
       "      <th>0</th>\n",
       "      <td>0</td>\n",
       "      <td>Centro Concertado de Atención a las Adicciones...</td>\n",
       "      <td>CALLE SANTA HORTENSIA 1</td>\n",
       "      <td>CHAMARTIN</td>\n",
       "      <td>28002</td>\n",
       "      <td>443159</td>\n",
       "      <td>4477482</td>\n",
       "      <td>40.446.053.313.442.700</td>\n",
       "      <td>-36.702.766.124.516.500</td>\n",
       "      <td>/contenido/entidadesYorganismos/CentrosAtencio...</td>\n",
       "    </tr>\n",
       "    <tr>\n",
       "      <th>1</th>\n",
       "      <td>1</td>\n",
       "      <td>Centro Concertado de Atención a las Adicciones...</td>\n",
       "      <td>AVENIDA PORTUGAL 0</td>\n",
       "      <td>LATINA</td>\n",
       "      <td>28011</td>\n",
       "      <td>438577</td>\n",
       "      <td>4474219</td>\n",
       "      <td>4.041.633.059.885.880</td>\n",
       "      <td>-37.239.914.257.003.300</td>\n",
       "      <td>/contenido/entidadesYorganismos/CentrosAtencio...</td>\n",
       "    </tr>\n",
       "    <tr>\n",
       "      <th>2</th>\n",
       "      <td>2</td>\n",
       "      <td>Centro de Atención a las Adicciones (CAD) de A...</td>\n",
       "      <td>PASEO CHOPERA 12</td>\n",
       "      <td>ARGANZUELA</td>\n",
       "      <td>28045</td>\n",
       "      <td>440757</td>\n",
       "      <td>4471619</td>\n",
       "      <td>4.039.305.745.803.060</td>\n",
       "      <td>-36.980.673.403.694.100</td>\n",
       "      <td>/contenido/entidadesYorganismos/CentrosAtencio...</td>\n",
       "    </tr>\n",
       "    <tr>\n",
       "      <th>3</th>\n",
       "      <td>3</td>\n",
       "      <td>Centro de Atención a las Adicciones (CAD) de H...</td>\n",
       "      <td>CALLE MINAYA 7</td>\n",
       "      <td>HORTALEZA</td>\n",
       "      <td>28043</td>\n",
       "      <td>446072</td>\n",
       "      <td>4479929</td>\n",
       "      <td>40.468.288.815.918.500</td>\n",
       "      <td>-3.636.150.078.507.100</td>\n",
       "      <td>/contenido/entidadesYorganismos/CentrosAtencio...</td>\n",
       "    </tr>\n",
       "    <tr>\n",
       "      <th>4</th>\n",
       "      <td>4</td>\n",
       "      <td>Centro de Atención a las Adicciones (CAD) de L...</td>\n",
       "      <td>CALLE CAMARENA 10</td>\n",
       "      <td>LATINA</td>\n",
       "      <td>28047</td>\n",
       "      <td>435820</td>\n",
       "      <td>4471982</td>\n",
       "      <td>4.039.597.072.367.930</td>\n",
       "      <td>-37.562.716.852.987.800</td>\n",
       "      <td>/contenido/entidadesYorganismos/CentrosAtencio...</td>\n",
       "    </tr>\n",
       "  </tbody>\n",
       "</table>\n",
       "</div>"
      ],
      "text/plain": [
       "   Unnamed: 0                                             NOMBRE  \\\n",
       "0           0  Centro Concertado de Atención a las Adicciones...   \n",
       "1           1  Centro Concertado de Atención a las Adicciones...   \n",
       "2           2  Centro de Atención a las Adicciones (CAD) de A...   \n",
       "3           3  Centro de Atención a las Adicciones (CAD) de H...   \n",
       "4           4  Centro de Atención a las Adicciones (CAD) de L...   \n",
       "\n",
       "                 DIRECCION    DISTRITO  COD_POSTAL  COORDENADA-X  \\\n",
       "0  CALLE SANTA HORTENSIA 1   CHAMARTIN       28002        443159   \n",
       "1       AVENIDA PORTUGAL 0      LATINA       28011        438577   \n",
       "2         PASEO CHOPERA 12  ARGANZUELA       28045        440757   \n",
       "3           CALLE MINAYA 7   HORTALEZA       28043        446072   \n",
       "4        CALLE CAMARENA 10      LATINA       28047        435820   \n",
       "\n",
       "   COORDENADA-Y                 LATITUD                 LONGITUD  \\\n",
       "0       4477482  40.446.053.313.442.700  -36.702.766.124.516.500   \n",
       "1       4474219   4.041.633.059.885.880  -37.239.914.257.003.300   \n",
       "2       4471619   4.039.305.745.803.060  -36.980.673.403.694.100   \n",
       "3       4479929  40.468.288.815.918.500   -3.636.150.078.507.100   \n",
       "4       4471982   4.039.597.072.367.930  -37.562.716.852.987.800   \n",
       "\n",
       "                                                TIPO  \n",
       "0  /contenido/entidadesYorganismos/CentrosAtencio...  \n",
       "1  /contenido/entidadesYorganismos/CentrosAtencio...  \n",
       "2  /contenido/entidadesYorganismos/CentrosAtencio...  \n",
       "3  /contenido/entidadesYorganismos/CentrosAtencio...  \n",
       "4  /contenido/entidadesYorganismos/CentrosAtencio...  "
      ]
     },
     "execution_count": 2,
     "metadata": {},
     "output_type": "execute_result"
    }
   ],
   "source": [
    "centros_medicos_clean = pd.read_csv(\"../data/centros_medicos_clean.csv\")\n",
    "centros_medicos_clean.head()"
   ]
  },
  {
   "cell_type": "markdown",
   "metadata": {},
   "source": [
    "### LATITUD"
   ]
  },
  {
   "cell_type": "code",
   "execution_count": 3,
   "metadata": {},
   "outputs": [],
   "source": [
    "centros_medicos_clean['LATITUD'] = centros_medicos_clean['LATITUD'].str.replace('.', '')"
   ]
  },
  {
   "cell_type": "code",
   "execution_count": 4,
   "metadata": {},
   "outputs": [
    {
     "data": {
      "text/plain": [
       "0      40446053313442700\n",
       "1       4041633059885880\n",
       "2       4039305745803060\n",
       "3      40468288815918500\n",
       "4       4039597072367930\n",
       "             ...        \n",
       "265     4047277245807720\n",
       "266     4046548064796590\n",
       "267     4042054836583690\n",
       "268    40428976927386800\n",
       "269    40449787026276600\n",
       "Name: LATITUD, Length: 270, dtype: object"
      ]
     },
     "execution_count": 4,
     "metadata": {},
     "output_type": "execute_result"
    }
   ],
   "source": [
    "centros_medicos_clean['LATITUD']"
   ]
  },
  {
   "cell_type": "code",
   "execution_count": 5,
   "metadata": {},
   "outputs": [
    {
     "data": {
      "text/plain": [
       "0      40.446053313442700\n",
       "1       40.41633059885880\n",
       "2       40.39305745803060\n",
       "3      40.468288815918500\n",
       "4       40.39597072367930\n",
       "              ...        \n",
       "265     40.47277245807720\n",
       "266     40.46548064796590\n",
       "267     40.42054836583690\n",
       "268    40.428976927386800\n",
       "269    40.449787026276600\n",
       "Name: LATITUD, Length: 270, dtype: object"
      ]
     },
     "execution_count": 5,
     "metadata": {},
     "output_type": "execute_result"
    }
   ],
   "source": [
    "centros_medicos_clean['LATITUD'] = centros_medicos_clean['LATITUD'].apply(lambda x: x[:2] + '.' + x[2:])\n",
    "centros_medicos_clean['LATITUD']"
   ]
  },
  {
   "cell_type": "code",
   "execution_count": 6,
   "metadata": {},
   "outputs": [
    {
     "data": {
      "text/plain": [
       "'40.446053313442700'"
      ]
     },
     "execution_count": 6,
     "metadata": {},
     "output_type": "execute_result"
    }
   ],
   "source": [
    "centros_medicos_clean['LATITUD'][0]"
   ]
  },
  {
   "cell_type": "markdown",
   "metadata": {},
   "source": [
    "### LONGITUD"
   ]
  },
  {
   "cell_type": "code",
   "execution_count": 9,
   "metadata": {},
   "outputs": [],
   "source": [
    "centros_medicos_clean['LONGITUD'] = centros_medicos_clean['LONGITUD'].str.replace('.', '')"
   ]
  },
  {
   "cell_type": "code",
   "execution_count": 10,
   "metadata": {},
   "outputs": [
    {
     "data": {
      "text/plain": [
       "0      -36702766124516500\n",
       "1      -37239914257003300\n",
       "2      -36980673403694100\n",
       "3       -3636150078507100\n",
       "4      -37562716852987800\n",
       "              ...        \n",
       "265      -371813267268184\n",
       "266    -36936383781020600\n",
       "267    -37179660205926200\n",
       "268    -36721607026353800\n",
       "269     -3651729403937950\n",
       "Name: LONGITUD, Length: 270, dtype: object"
      ]
     },
     "execution_count": 10,
     "metadata": {},
     "output_type": "execute_result"
    }
   ],
   "source": [
    "centros_medicos_clean['LONGITUD']"
   ]
  },
  {
   "cell_type": "code",
   "execution_count": 11,
   "metadata": {},
   "outputs": [
    {
     "data": {
      "text/plain": [
       "0      -3.6702766124516500\n",
       "1      -3.7239914257003300\n",
       "2      -3.6980673403694100\n",
       "3       -3.636150078507100\n",
       "4      -3.7562716852987800\n",
       "              ...         \n",
       "265      -3.71813267268184\n",
       "266    -3.6936383781020600\n",
       "267    -3.7179660205926200\n",
       "268    -3.6721607026353800\n",
       "269     -3.651729403937950\n",
       "Name: LONGITUD, Length: 270, dtype: object"
      ]
     },
     "execution_count": 11,
     "metadata": {},
     "output_type": "execute_result"
    }
   ],
   "source": [
    "centros_medicos_clean['LONGITUD'] = centros_medicos_clean['LONGITUD'].apply(lambda x: x[:2] + '.' + x[2:])\n",
    "centros_medicos_clean['LONGITUD']"
   ]
  },
  {
   "cell_type": "code",
   "execution_count": 12,
   "metadata": {},
   "outputs": [
    {
     "data": {
      "text/plain": [
       "'-3.6702766124516500'"
      ]
     },
     "execution_count": 12,
     "metadata": {},
     "output_type": "execute_result"
    }
   ],
   "source": [
    "centros_medicos_clean['LONGITUD'][0]"
   ]
  },
  {
   "cell_type": "code",
   "execution_count": 14,
   "metadata": {},
   "outputs": [
    {
     "data": {
      "text/html": [
       "<div>\n",
       "<style scoped>\n",
       "    .dataframe tbody tr th:only-of-type {\n",
       "        vertical-align: middle;\n",
       "    }\n",
       "\n",
       "    .dataframe tbody tr th {\n",
       "        vertical-align: top;\n",
       "    }\n",
       "\n",
       "    .dataframe thead th {\n",
       "        text-align: right;\n",
       "    }\n",
       "</style>\n",
       "<table border=\"1\" class=\"dataframe\">\n",
       "  <thead>\n",
       "    <tr style=\"text-align: right;\">\n",
       "      <th></th>\n",
       "      <th>Unnamed: 0</th>\n",
       "      <th>NOMBRE</th>\n",
       "      <th>DIRECCION</th>\n",
       "      <th>DISTRITO</th>\n",
       "      <th>COD_POSTAL</th>\n",
       "      <th>COORDENADA-X</th>\n",
       "      <th>COORDENADA-Y</th>\n",
       "      <th>LATITUD</th>\n",
       "      <th>LONGITUD</th>\n",
       "      <th>TIPO</th>\n",
       "    </tr>\n",
       "  </thead>\n",
       "  <tbody>\n",
       "    <tr>\n",
       "      <th>0</th>\n",
       "      <td>0</td>\n",
       "      <td>Centro Concertado de Atención a las Adicciones...</td>\n",
       "      <td>CALLE SANTA HORTENSIA 1</td>\n",
       "      <td>CHAMARTIN</td>\n",
       "      <td>28002</td>\n",
       "      <td>443159</td>\n",
       "      <td>4477482</td>\n",
       "      <td>40.446053313442700</td>\n",
       "      <td>-3.6702766124516500</td>\n",
       "      <td>/contenido/entidadesYorganismos/CentrosAtencio...</td>\n",
       "    </tr>\n",
       "    <tr>\n",
       "      <th>1</th>\n",
       "      <td>1</td>\n",
       "      <td>Centro Concertado de Atención a las Adicciones...</td>\n",
       "      <td>AVENIDA PORTUGAL 0</td>\n",
       "      <td>LATINA</td>\n",
       "      <td>28011</td>\n",
       "      <td>438577</td>\n",
       "      <td>4474219</td>\n",
       "      <td>40.41633059885880</td>\n",
       "      <td>-3.7239914257003300</td>\n",
       "      <td>/contenido/entidadesYorganismos/CentrosAtencio...</td>\n",
       "    </tr>\n",
       "    <tr>\n",
       "      <th>2</th>\n",
       "      <td>2</td>\n",
       "      <td>Centro de Atención a las Adicciones (CAD) de A...</td>\n",
       "      <td>PASEO CHOPERA 12</td>\n",
       "      <td>ARGANZUELA</td>\n",
       "      <td>28045</td>\n",
       "      <td>440757</td>\n",
       "      <td>4471619</td>\n",
       "      <td>40.39305745803060</td>\n",
       "      <td>-3.6980673403694100</td>\n",
       "      <td>/contenido/entidadesYorganismos/CentrosAtencio...</td>\n",
       "    </tr>\n",
       "    <tr>\n",
       "      <th>3</th>\n",
       "      <td>3</td>\n",
       "      <td>Centro de Atención a las Adicciones (CAD) de H...</td>\n",
       "      <td>CALLE MINAYA 7</td>\n",
       "      <td>HORTALEZA</td>\n",
       "      <td>28043</td>\n",
       "      <td>446072</td>\n",
       "      <td>4479929</td>\n",
       "      <td>40.468288815918500</td>\n",
       "      <td>-3.636150078507100</td>\n",
       "      <td>/contenido/entidadesYorganismos/CentrosAtencio...</td>\n",
       "    </tr>\n",
       "    <tr>\n",
       "      <th>4</th>\n",
       "      <td>4</td>\n",
       "      <td>Centro de Atención a las Adicciones (CAD) de L...</td>\n",
       "      <td>CALLE CAMARENA 10</td>\n",
       "      <td>LATINA</td>\n",
       "      <td>28047</td>\n",
       "      <td>435820</td>\n",
       "      <td>4471982</td>\n",
       "      <td>40.39597072367930</td>\n",
       "      <td>-3.7562716852987800</td>\n",
       "      <td>/contenido/entidadesYorganismos/CentrosAtencio...</td>\n",
       "    </tr>\n",
       "    <tr>\n",
       "      <th>...</th>\n",
       "      <td>...</td>\n",
       "      <td>...</td>\n",
       "      <td>...</td>\n",
       "      <td>...</td>\n",
       "      <td>...</td>\n",
       "      <td>...</td>\n",
       "      <td>...</td>\n",
       "      <td>...</td>\n",
       "      <td>...</td>\n",
       "      <td>...</td>\n",
       "    </tr>\n",
       "    <tr>\n",
       "      <th>265</th>\n",
       "      <td>265</td>\n",
       "      <td>Unidad de Salud Mental de niños y adolescentes...</td>\n",
       "      <td>CALLE CANDIDO MATEOS 11</td>\n",
       "      <td>FUENCARRAL-EL PARDO</td>\n",
       "      <td>28035</td>\n",
       "      <td>439125</td>\n",
       "      <td>4480481</td>\n",
       "      <td>40.47277245807720</td>\n",
       "      <td>-3.71813267268184</td>\n",
       "      <td>/contenido/entidadesYorganismos/CentrosAtencio...</td>\n",
       "    </tr>\n",
       "    <tr>\n",
       "      <th>266</th>\n",
       "      <td>266</td>\n",
       "      <td>Unidad de Salud Mental de niños y adolescentes...</td>\n",
       "      <td>CALLE AGUILEÑAS 1</td>\n",
       "      <td>TETUAN</td>\n",
       "      <td>28029</td>\n",
       "      <td>441196</td>\n",
       "      <td>4479654</td>\n",
       "      <td>40.46548064796590</td>\n",
       "      <td>-3.6936383781020600</td>\n",
       "      <td>/contenido/entidadesYorganismos/CentrosAtencio...</td>\n",
       "    </tr>\n",
       "    <tr>\n",
       "      <th>267</th>\n",
       "      <td>267</td>\n",
       "      <td>Unidad móvil Madroño</td>\n",
       "      <td>PASEO REY 0</td>\n",
       "      <td>MONCLOA-ARAVACA</td>\n",
       "      <td>28008</td>\n",
       "      <td>439092</td>\n",
       "      <td>4474684</td>\n",
       "      <td>40.42054836583690</td>\n",
       "      <td>-3.7179660205926200</td>\n",
       "      <td>/contenido/entidadesYorganismos/CentrosAtencio...</td>\n",
       "    </tr>\n",
       "    <tr>\n",
       "      <th>268</th>\n",
       "      <td>268</td>\n",
       "      <td>Unidad Técnica de Apoyo Diagnóstico</td>\n",
       "      <td>CALLE MONTESA 22</td>\n",
       "      <td>SALAMANCA</td>\n",
       "      <td>28006</td>\n",
       "      <td>442986</td>\n",
       "      <td>4475588</td>\n",
       "      <td>40.428976927386800</td>\n",
       "      <td>-3.6721607026353800</td>\n",
       "      <td>/contenido/entidadesYorganismos/CentrosAtencio...</td>\n",
       "    </tr>\n",
       "    <tr>\n",
       "      <th>269</th>\n",
       "      <td>269</td>\n",
       "      <td>Vithas Madrid Arturo Soria</td>\n",
       "      <td>CALLE ARTURO SORIA 103</td>\n",
       "      <td>CIUDAD LINEAL</td>\n",
       "      <td>28043</td>\n",
       "      <td>444735</td>\n",
       "      <td>4477885</td>\n",
       "      <td>40.449787026276600</td>\n",
       "      <td>-3.651729403937950</td>\n",
       "      <td>/contenido/entidadesYorganismos/CentrosAtencio...</td>\n",
       "    </tr>\n",
       "  </tbody>\n",
       "</table>\n",
       "<p>270 rows × 10 columns</p>\n",
       "</div>"
      ],
      "text/plain": [
       "     Unnamed: 0                                             NOMBRE  \\\n",
       "0             0  Centro Concertado de Atención a las Adicciones...   \n",
       "1             1  Centro Concertado de Atención a las Adicciones...   \n",
       "2             2  Centro de Atención a las Adicciones (CAD) de A...   \n",
       "3             3  Centro de Atención a las Adicciones (CAD) de H...   \n",
       "4             4  Centro de Atención a las Adicciones (CAD) de L...   \n",
       "..          ...                                                ...   \n",
       "265         265  Unidad de Salud Mental de niños y adolescentes...   \n",
       "266         266  Unidad de Salud Mental de niños y adolescentes...   \n",
       "267         267                               Unidad móvil Madroño   \n",
       "268         268                Unidad Técnica de Apoyo Diagnóstico   \n",
       "269         269                         Vithas Madrid Arturo Soria   \n",
       "\n",
       "                   DIRECCION             DISTRITO  COD_POSTAL  COORDENADA-X  \\\n",
       "0    CALLE SANTA HORTENSIA 1            CHAMARTIN       28002        443159   \n",
       "1         AVENIDA PORTUGAL 0               LATINA       28011        438577   \n",
       "2           PASEO CHOPERA 12           ARGANZUELA       28045        440757   \n",
       "3             CALLE MINAYA 7            HORTALEZA       28043        446072   \n",
       "4          CALLE CAMARENA 10               LATINA       28047        435820   \n",
       "..                       ...                  ...         ...           ...   \n",
       "265  CALLE CANDIDO MATEOS 11  FUENCARRAL-EL PARDO       28035        439125   \n",
       "266        CALLE AGUILEÑAS 1               TETUAN       28029        441196   \n",
       "267              PASEO REY 0      MONCLOA-ARAVACA       28008        439092   \n",
       "268         CALLE MONTESA 22            SALAMANCA       28006        442986   \n",
       "269   CALLE ARTURO SORIA 103        CIUDAD LINEAL       28043        444735   \n",
       "\n",
       "     COORDENADA-Y             LATITUD             LONGITUD  \\\n",
       "0         4477482  40.446053313442700  -3.6702766124516500   \n",
       "1         4474219   40.41633059885880  -3.7239914257003300   \n",
       "2         4471619   40.39305745803060  -3.6980673403694100   \n",
       "3         4479929  40.468288815918500   -3.636150078507100   \n",
       "4         4471982   40.39597072367930  -3.7562716852987800   \n",
       "..            ...                 ...                  ...   \n",
       "265       4480481   40.47277245807720    -3.71813267268184   \n",
       "266       4479654   40.46548064796590  -3.6936383781020600   \n",
       "267       4474684   40.42054836583690  -3.7179660205926200   \n",
       "268       4475588  40.428976927386800  -3.6721607026353800   \n",
       "269       4477885  40.449787026276600   -3.651729403937950   \n",
       "\n",
       "                                                  TIPO  \n",
       "0    /contenido/entidadesYorganismos/CentrosAtencio...  \n",
       "1    /contenido/entidadesYorganismos/CentrosAtencio...  \n",
       "2    /contenido/entidadesYorganismos/CentrosAtencio...  \n",
       "3    /contenido/entidadesYorganismos/CentrosAtencio...  \n",
       "4    /contenido/entidadesYorganismos/CentrosAtencio...  \n",
       "..                                                 ...  \n",
       "265  /contenido/entidadesYorganismos/CentrosAtencio...  \n",
       "266  /contenido/entidadesYorganismos/CentrosAtencio...  \n",
       "267  /contenido/entidadesYorganismos/CentrosAtencio...  \n",
       "268  /contenido/entidadesYorganismos/CentrosAtencio...  \n",
       "269  /contenido/entidadesYorganismos/CentrosAtencio...  \n",
       "\n",
       "[270 rows x 10 columns]"
      ]
     },
     "execution_count": 14,
     "metadata": {},
     "output_type": "execute_result"
    }
   ],
   "source": [
    "centros_medicos_clean"
   ]
  },
  {
   "cell_type": "markdown",
   "metadata": {},
   "source": [
    "### TIPOS"
   ]
  },
  {
   "cell_type": "code",
   "execution_count": 16,
   "metadata": {},
   "outputs": [
    {
     "data": {
      "text/plain": [
       "0      /contenido/entidadesYorganismos/CentrosAtencio...\n",
       "1      /contenido/entidadesYorganismos/CentrosAtencio...\n",
       "2      /contenido/entidadesYorganismos/CentrosAtencio...\n",
       "3      /contenido/entidadesYorganismos/CentrosAtencio...\n",
       "4      /contenido/entidadesYorganismos/CentrosAtencio...\n",
       "                             ...                        \n",
       "265    /contenido/entidadesYorganismos/CentrosAtencio...\n",
       "266    /contenido/entidadesYorganismos/CentrosAtencio...\n",
       "267    /contenido/entidadesYorganismos/CentrosAtencio...\n",
       "268    /contenido/entidadesYorganismos/CentrosAtencio...\n",
       "269    /contenido/entidadesYorganismos/CentrosAtencio...\n",
       "Name: TIPO, Length: 270, dtype: object"
      ]
     },
     "execution_count": 16,
     "metadata": {},
     "output_type": "execute_result"
    }
   ],
   "source": [
    "centros_medicos_clean['TIPO']"
   ]
  },
  {
   "cell_type": "code",
   "execution_count": 17,
   "metadata": {},
   "outputs": [
    {
     "data": {
      "text/plain": [
       "array(['/contenido/entidadesYorganismos/CentrosAtencionMedica/CentrosAsistenciaDrogodependientes',\n",
       "       '/contenido/entidadesYorganismos/CentrosAtencionMedica/OtrosCentrosMedicos',\n",
       "       '/contenido/entidadesYorganismos/CentrosAtencionMedica/CentrosEspecialidadesMedicas',\n",
       "       '/contenido/entidadesYorganismos/CentrosAtencionMedica/CentrosSalud',\n",
       "       '/contenido/entidadesYorganismos/CentrosAtencionSocial/CentrosRehabilitacionPsicosocial',\n",
       "       '/contenido/entidadesYorganismos/CentrosAtencionMedica/CentrosPrevencionEnfermedades',\n",
       "       '/contenido/entidadesYorganismos/CentrosAtencionMedica/CentrosSaludMental',\n",
       "       '/contenido/entidadesYorganismos/CentrosAtencionMedica/HospitalesClinicasSanatorios'],\n",
       "      dtype=object)"
      ]
     },
     "execution_count": 17,
     "metadata": {},
     "output_type": "execute_result"
    }
   ],
   "source": [
    "centros_medicos_clean['TIPO'].unique()"
   ]
  },
  {
   "cell_type": "markdown",
   "metadata": {},
   "source": [
    "* Voy a eliminar los primeros 54 caracteres porque en todos son los mismo y asi vamos a poder diferencias mucho mejor los tipos de centros medicos que hay en madrid."
   ]
  },
  {
   "cell_type": "code",
   "execution_count": 22,
   "metadata": {},
   "outputs": [
    {
     "data": {
      "text/plain": [
       "'CentrosAsistenciaDrogodependientes'"
      ]
     },
     "execution_count": 22,
     "metadata": {},
     "output_type": "execute_result"
    }
   ],
   "source": [
    "centros_medicos_clean['TIPO'][0][54:]"
   ]
  },
  {
   "cell_type": "code",
   "execution_count": 23,
   "metadata": {},
   "outputs": [
    {
     "data": {
      "text/plain": [
       "0      CentrosAsistenciaDrogodependientes\n",
       "1      CentrosAsistenciaDrogodependientes\n",
       "2      CentrosAsistenciaDrogodependientes\n",
       "3      CentrosAsistenciaDrogodependientes\n",
       "4      CentrosAsistenciaDrogodependientes\n",
       "                      ...                \n",
       "265                    CentrosSaludMental\n",
       "266                    CentrosSaludMental\n",
       "267    CentrosAsistenciaDrogodependientes\n",
       "268         CentrosPrevencionEnfermedades\n",
       "269          HospitalesClinicasSanatorios\n",
       "Name: TIPO, Length: 270, dtype: object"
      ]
     },
     "execution_count": 23,
     "metadata": {},
     "output_type": "execute_result"
    }
   ],
   "source": [
    "centros_medicos_clean['TIPO'] = centros_medicos_clean['TIPO'].apply(lambda x: x[54:])\n",
    "centros_medicos_clean['TIPO']"
   ]
  },
  {
   "cell_type": "code",
   "execution_count": 26,
   "metadata": {
    "scrolled": true
   },
   "outputs": [
    {
     "data": {
      "text/plain": [
       "array(['CentrosAsistenciaDrogodependientes', 'OtrosCentrosMedicos',\n",
       "       'CentrosEspecialidadesMedicas', 'CentrosSalud',\n",
       "       'CentrosRehabilitacionPsicosocial',\n",
       "       'CentrosPrevencionEnfermedades', 'CentrosSaludMental',\n",
       "       'HospitalesClinicasSanatorios'], dtype=object)"
      ]
     },
     "execution_count": 26,
     "metadata": {},
     "output_type": "execute_result"
    }
   ],
   "source": [
    "centros_medicos_clean['TIPO'].unique()"
   ]
  },
  {
   "cell_type": "markdown",
   "metadata": {},
   "source": [
    "## Farmacias"
   ]
  },
  {
   "cell_type": "code",
   "execution_count": 5,
   "metadata": {},
   "outputs": [
    {
     "data": {
      "text/html": [
       "<div>\n",
       "<style scoped>\n",
       "    .dataframe tbody tr th:only-of-type {\n",
       "        vertical-align: middle;\n",
       "    }\n",
       "\n",
       "    .dataframe tbody tr th {\n",
       "        vertical-align: top;\n",
       "    }\n",
       "\n",
       "    .dataframe thead th {\n",
       "        text-align: right;\n",
       "    }\n",
       "</style>\n",
       "<table border=\"1\" class=\"dataframe\">\n",
       "  <thead>\n",
       "    <tr style=\"text-align: right;\">\n",
       "      <th></th>\n",
       "      <th>Unnamed: 0</th>\n",
       "      <th>titular_nombre</th>\n",
       "      <th>direccion</th>\n",
       "      <th>municipio_nombre</th>\n",
       "      <th>localizacion_coordenada_x</th>\n",
       "      <th>localizacion_coordenada_y</th>\n",
       "    </tr>\n",
       "  </thead>\n",
       "  <tbody>\n",
       "    <tr>\n",
       "      <th>0</th>\n",
       "      <td>0</td>\n",
       "      <td>Amaya Corral Palomino</td>\n",
       "      <td>PLAZA del Dos de Mayo 6</td>\n",
       "      <td>Madrid</td>\n",
       "      <td>440267.0</td>\n",
       "      <td>4475426.0</td>\n",
       "    </tr>\n",
       "    <tr>\n",
       "      <th>1</th>\n",
       "      <td>1</td>\n",
       "      <td>Montserrat Gimenez Mestre</td>\n",
       "      <td>CALLE de Ríos Rosas 50</td>\n",
       "      <td>Madrid</td>\n",
       "      <td>440954.0</td>\n",
       "      <td>4477004.0</td>\n",
       "    </tr>\n",
       "    <tr>\n",
       "      <th>2</th>\n",
       "      <td>2</td>\n",
       "      <td>Justo Aquilino Corral Aragon</td>\n",
       "      <td>CALLE de Argensola 12</td>\n",
       "      <td>Madrid</td>\n",
       "      <td>441063.0</td>\n",
       "      <td>4475193.0</td>\n",
       "    </tr>\n",
       "    <tr>\n",
       "      <th>3</th>\n",
       "      <td>3</td>\n",
       "      <td>Irene Arroita Del Campo</td>\n",
       "      <td>CALLE de Alcalá 98</td>\n",
       "      <td>Madrid</td>\n",
       "      <td>442754.0</td>\n",
       "      <td>4475148.0</td>\n",
       "    </tr>\n",
       "    <tr>\n",
       "      <th>4</th>\n",
       "      <td>4</td>\n",
       "      <td>Esther Sansi Ponsico</td>\n",
       "      <td>PLAZA de Salesas 7</td>\n",
       "      <td>Madrid</td>\n",
       "      <td>441090.0</td>\n",
       "      <td>4475021.0</td>\n",
       "    </tr>\n",
       "  </tbody>\n",
       "</table>\n",
       "</div>"
      ],
      "text/plain": [
       "   Unnamed: 0                titular_nombre                direccion  \\\n",
       "0           0         Amaya Corral Palomino  PLAZA del Dos de Mayo 6   \n",
       "1           1     Montserrat Gimenez Mestre   CALLE de Ríos Rosas 50   \n",
       "2           2  Justo Aquilino Corral Aragon    CALLE de Argensola 12   \n",
       "3           3       Irene Arroita Del Campo       CALLE de Alcalá 98   \n",
       "4           4          Esther Sansi Ponsico       PLAZA de Salesas 7   \n",
       "\n",
       "  municipio_nombre  localizacion_coordenada_x  localizacion_coordenada_y  \n",
       "0           Madrid                   440267.0                  4475426.0  \n",
       "1           Madrid                   440954.0                  4477004.0  \n",
       "2           Madrid                   441063.0                  4475193.0  \n",
       "3           Madrid                   442754.0                  4475148.0  \n",
       "4           Madrid                   441090.0                  4475021.0  "
      ]
     },
     "execution_count": 5,
     "metadata": {},
     "output_type": "execute_result"
    }
   ],
   "source": [
    "farmacias_clean = pd.read_csv(\"../data/farmacias_clean.csv\")\n",
    "farmacias_clean.head()"
   ]
  },
  {
   "cell_type": "code",
   "execution_count": 13,
   "metadata": {},
   "outputs": [],
   "source": [
    "from pyproj import Proj, transform"
   ]
  },
  {
   "cell_type": "code",
   "execution_count": 20,
   "metadata": {},
   "outputs": [
    {
     "name": "stdout",
     "output_type": "stream",
     "text": [
      "-3.9549857519344935\n",
      "37.26011679963639\n"
     ]
    },
    {
     "name": "stderr",
     "output_type": "stream",
     "text": [
      "c:\\users\\leticia\\documents\\miniconda3\\lib\\site-packages\\pyproj\\crs\\crs.py:53: FutureWarning: '+init=<authority>:<code>' syntax is deprecated. '<authority>:<code>' is the preferred initialization method. When making the change, be mindful of axis order changes: https://pyproj4.github.io/pyproj/stable/gotchas.html#axis-order-changes-in-proj-6\n",
      "  return _prepare_from_string(\" \".join(pjargs))\n",
      "c:\\users\\leticia\\documents\\miniconda3\\lib\\site-packages\\pyproj\\crs\\crs.py:294: FutureWarning: '+init=<authority>:<code>' syntax is deprecated. '<authority>:<code>' is the preferred initialization method. When making the change, be mindful of axis order changes: https://pyproj4.github.io/pyproj/stable/gotchas.html#axis-order-changes-in-proj-6\n",
      "  projstring = _prepare_from_string(\" \".join((projstring, projkwargs)))\n",
      "c:\\users\\leticia\\documents\\miniconda3\\lib\\site-packages\\pyproj\\crs\\crs.py:53: FutureWarning: '+init=<authority>:<code>' syntax is deprecated. '<authority>:<code>' is the preferred initialization method. When making the change, be mindful of axis order changes: https://pyproj4.github.io/pyproj/stable/gotchas.html#axis-order-changes-in-proj-6\n",
      "  return _prepare_from_string(\" \".join(pjargs))\n",
      "c:\\users\\leticia\\documents\\miniconda3\\lib\\site-packages\\pyproj\\crs\\crs.py:294: FutureWarning: '+init=<authority>:<code>' syntax is deprecated. '<authority>:<code>' is the preferred initialization method. When making the change, be mindful of axis order changes: https://pyproj4.github.io/pyproj/stable/gotchas.html#axis-order-changes-in-proj-6\n",
      "  projstring = _prepare_from_string(\" \".join((projstring, projkwargs)))\n",
      "<ipython-input-20-34bf3315c9ad>:4: DeprecationWarning: This function is deprecated. See: https://pyproj4.github.io/pyproj/stable/gotchas.html#upgrading-to-pyproj-2-from-pyproj-1\n",
      "  x2,y2 = transform(inProj,outProj,x1,y1)\n"
     ]
    }
   ],
   "source": [
    "inProj = Proj(init='epsg:3857')\n",
    "outProj = Proj(init='epsg:4326')\n",
    "x1,y1 = 440267.0,4475426.0\n",
    "x2,y2 = transform(inProj,outProj,x1,y1)\n",
    "\n",
    "print(- x2)\n",
    "print(y2)"
   ]
  },
  {
   "cell_type": "code",
   "execution_count": null,
   "metadata": {},
   "outputs": [],
   "source": []
  }
 ],
 "metadata": {
  "kernelspec": {
   "display_name": "Python 3",
   "language": "python",
   "name": "python3"
  },
  "language_info": {
   "codemirror_mode": {
    "name": "ipython",
    "version": 3
   },
   "file_extension": ".py",
   "mimetype": "text/x-python",
   "name": "python",
   "nbconvert_exporter": "python",
   "pygments_lexer": "ipython3",
   "version": "3.8.3"
  },
  "toc": {
   "base_numbering": 1,
   "nav_menu": {},
   "number_sections": true,
   "sideBar": true,
   "skip_h1_title": false,
   "title_cell": "Table of Contents",
   "title_sidebar": "Contents",
   "toc_cell": false,
   "toc_position": {},
   "toc_section_display": true,
   "toc_window_display": false
  }
 },
 "nbformat": 4,
 "nbformat_minor": 4
}
