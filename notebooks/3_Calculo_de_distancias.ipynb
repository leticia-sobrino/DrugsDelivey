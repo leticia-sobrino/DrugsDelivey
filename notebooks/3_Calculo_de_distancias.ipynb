{
 "cells": [
  {
   "cell_type": "code",
   "execution_count": 1,
   "metadata": {},
   "outputs": [],
   "source": [
    "import pandas as pd\n",
    "import math\n",
    "import numpy as np"
   ]
  },
  {
   "cell_type": "markdown",
   "metadata": {},
   "source": [
    "## Cálculo distacias: YourHome - YourHospital\n",
    "### ¡ Vamos a ver cuánto de podrías ahorrar evitando ir a por una receta médica al Hospital!"
   ]
  },
  {
   "cell_type": "markdown",
   "metadata": {},
   "source": [
    "* Calculamos la distacias entre el hostpiral y a tu casa"
   ]
  },
  {
   "cell_type": "code",
   "execution_count": 2,
   "metadata": {},
   "outputs": [
    {
     "data": {
      "text/html": [
       "<div>\n",
       "<style scoped>\n",
       "    .dataframe tbody tr th:only-of-type {\n",
       "        vertical-align: middle;\n",
       "    }\n",
       "\n",
       "    .dataframe tbody tr th {\n",
       "        vertical-align: top;\n",
       "    }\n",
       "\n",
       "    .dataframe thead th {\n",
       "        text-align: right;\n",
       "    }\n",
       "</style>\n",
       "<table border=\"1\" class=\"dataframe\">\n",
       "  <thead>\n",
       "    <tr style=\"text-align: right;\">\n",
       "      <th></th>\n",
       "      <th>Unnamed: 0</th>\n",
       "      <th>NOMBRE</th>\n",
       "      <th>DIRECCION</th>\n",
       "      <th>DISTRITO</th>\n",
       "      <th>COD_POSTAL</th>\n",
       "      <th>LATITUD</th>\n",
       "      <th>LONGITUD</th>\n",
       "      <th>TIPO</th>\n",
       "    </tr>\n",
       "  </thead>\n",
       "  <tbody>\n",
       "    <tr>\n",
       "      <th>0</th>\n",
       "      <td>0</td>\n",
       "      <td>Centro Concertado de Atención a las Adicciones...</td>\n",
       "      <td>CALLE SANTA HORTENSIA 1</td>\n",
       "      <td>CHAMARTIN</td>\n",
       "      <td>28002</td>\n",
       "      <td>40.446053</td>\n",
       "      <td>-3.670277</td>\n",
       "      <td>CentrosAsistenciaDrogodependientes</td>\n",
       "    </tr>\n",
       "    <tr>\n",
       "      <th>1</th>\n",
       "      <td>1</td>\n",
       "      <td>Centro Concertado de Atención a las Adicciones...</td>\n",
       "      <td>AVENIDA PORTUGAL 0</td>\n",
       "      <td>LATINA</td>\n",
       "      <td>28011</td>\n",
       "      <td>40.416331</td>\n",
       "      <td>-3.723991</td>\n",
       "      <td>CentrosAsistenciaDrogodependientes</td>\n",
       "    </tr>\n",
       "    <tr>\n",
       "      <th>2</th>\n",
       "      <td>2</td>\n",
       "      <td>Centro de Atención a las Adicciones (CAD) de A...</td>\n",
       "      <td>PASEO CHOPERA 12</td>\n",
       "      <td>ARGANZUELA</td>\n",
       "      <td>28045</td>\n",
       "      <td>40.393057</td>\n",
       "      <td>-3.698067</td>\n",
       "      <td>CentrosAsistenciaDrogodependientes</td>\n",
       "    </tr>\n",
       "    <tr>\n",
       "      <th>3</th>\n",
       "      <td>3</td>\n",
       "      <td>Centro de Atención a las Adicciones (CAD) de H...</td>\n",
       "      <td>CALLE MINAYA 7</td>\n",
       "      <td>HORTALEZA</td>\n",
       "      <td>28043</td>\n",
       "      <td>40.468289</td>\n",
       "      <td>-3.636150</td>\n",
       "      <td>CentrosAsistenciaDrogodependientes</td>\n",
       "    </tr>\n",
       "    <tr>\n",
       "      <th>4</th>\n",
       "      <td>4</td>\n",
       "      <td>Centro de Atención a las Adicciones (CAD) de L...</td>\n",
       "      <td>CALLE CAMARENA 10</td>\n",
       "      <td>LATINA</td>\n",
       "      <td>28047</td>\n",
       "      <td>40.395971</td>\n",
       "      <td>-3.756272</td>\n",
       "      <td>CentrosAsistenciaDrogodependientes</td>\n",
       "    </tr>\n",
       "  </tbody>\n",
       "</table>\n",
       "</div>"
      ],
      "text/plain": [
       "   Unnamed: 0                                             NOMBRE  \\\n",
       "0           0  Centro Concertado de Atención a las Adicciones...   \n",
       "1           1  Centro Concertado de Atención a las Adicciones...   \n",
       "2           2  Centro de Atención a las Adicciones (CAD) de A...   \n",
       "3           3  Centro de Atención a las Adicciones (CAD) de H...   \n",
       "4           4  Centro de Atención a las Adicciones (CAD) de L...   \n",
       "\n",
       "                 DIRECCION    DISTRITO  COD_POSTAL    LATITUD  LONGITUD  \\\n",
       "0  CALLE SANTA HORTENSIA 1   CHAMARTIN       28002  40.446053 -3.670277   \n",
       "1       AVENIDA PORTUGAL 0      LATINA       28011  40.416331 -3.723991   \n",
       "2         PASEO CHOPERA 12  ARGANZUELA       28045  40.393057 -3.698067   \n",
       "3           CALLE MINAYA 7   HORTALEZA       28043  40.468289 -3.636150   \n",
       "4        CALLE CAMARENA 10      LATINA       28047  40.395971 -3.756272   \n",
       "\n",
       "                                 TIPO  \n",
       "0  CentrosAsistenciaDrogodependientes  \n",
       "1  CentrosAsistenciaDrogodependientes  \n",
       "2  CentrosAsistenciaDrogodependientes  \n",
       "3  CentrosAsistenciaDrogodependientes  \n",
       "4  CentrosAsistenciaDrogodependientes  "
      ]
     },
     "execution_count": 2,
     "metadata": {},
     "output_type": "execute_result"
    }
   ],
   "source": [
    "centros_medicos_clean = pd.read_csv(\"../data/centros_medicos_clean.csv\")\n",
    "centros_medicos_clean.head()"
   ]
  },
  {
   "cell_type": "code",
   "execution_count": 3,
   "metadata": {},
   "outputs": [],
   "source": [
    "def haversine(coord1, coord2):\n",
    "    R = 6372800  # Earth radius in meters\n",
    "    lat1, lon1 = coord1\n",
    "    lat2, lon2 = coord2\n",
    "    \n",
    "    phi1, phi2 = math.radians(lat1), math.radians(lat2) \n",
    "    dphi       = math.radians(lat2 - lat1)\n",
    "    dlambda    = math.radians(lon2 - lon1)\n",
    "    \n",
    "    a = math.sin(dphi/2)**2 + \\\n",
    "        math.cos(phi1)*math.cos(phi2)*math.sin(dlambda/2)**2\n",
    "    \n",
    "    return 2*R*math.atan2(math.sqrt(a), math.sqrt(1 - a))"
   ]
  },
  {
   "cell_type": "code",
   "execution_count": 4,
   "metadata": {},
   "outputs": [],
   "source": [
    "# row = (centros_medicos_clean.LATITUD, centros_medicos_clean.LONGITUD)"
   ]
  },
  {
   "cell_type": "code",
   "execution_count": 5,
   "metadata": {},
   "outputs": [],
   "source": [
    "home = (40.4969434, -3.712521117)"
   ]
  },
  {
   "cell_type": "code",
   "execution_count": 6,
   "metadata": {},
   "outputs": [],
   "source": [
    "for index, row in centros_medicos_clean.iterrows(): \n",
    "    row['LATITUD']\n",
    "    row['LONGITUD']"
   ]
  },
  {
   "cell_type": "code",
   "execution_count": 7,
   "metadata": {},
   "outputs": [],
   "source": [
    "centros_medicos_clean['DISTANCIA'] = 0 "
   ]
  },
  {
   "cell_type": "code",
   "execution_count": 8,
   "metadata": {},
   "outputs": [],
   "source": [
    "centros_medicos_clean['DISTANCIA'] = centros_medicos_clean.apply(lambda row: haversine(home, (row['LATITUD'], row['LONGITUD'])), axis=1)"
   ]
  },
  {
   "cell_type": "code",
   "execution_count": 9,
   "metadata": {
    "scrolled": true
   },
   "outputs": [
    {
     "data": {
      "text/html": [
       "<div>\n",
       "<style scoped>\n",
       "    .dataframe tbody tr th:only-of-type {\n",
       "        vertical-align: middle;\n",
       "    }\n",
       "\n",
       "    .dataframe tbody tr th {\n",
       "        vertical-align: top;\n",
       "    }\n",
       "\n",
       "    .dataframe thead th {\n",
       "        text-align: right;\n",
       "    }\n",
       "</style>\n",
       "<table border=\"1\" class=\"dataframe\">\n",
       "  <thead>\n",
       "    <tr style=\"text-align: right;\">\n",
       "      <th></th>\n",
       "      <th>Unnamed: 0</th>\n",
       "      <th>NOMBRE</th>\n",
       "      <th>DIRECCION</th>\n",
       "      <th>DISTRITO</th>\n",
       "      <th>COD_POSTAL</th>\n",
       "      <th>LATITUD</th>\n",
       "      <th>LONGITUD</th>\n",
       "      <th>TIPO</th>\n",
       "      <th>DISTANCIA</th>\n",
       "    </tr>\n",
       "  </thead>\n",
       "  <tbody>\n",
       "    <tr>\n",
       "      <th>0</th>\n",
       "      <td>0</td>\n",
       "      <td>Centro Concertado de Atención a las Adicciones...</td>\n",
       "      <td>CALLE SANTA HORTENSIA 1</td>\n",
       "      <td>CHAMARTIN</td>\n",
       "      <td>28002</td>\n",
       "      <td>40.446053</td>\n",
       "      <td>-3.670277</td>\n",
       "      <td>CentrosAsistenciaDrogodependientes</td>\n",
       "      <td>6694.461065</td>\n",
       "    </tr>\n",
       "    <tr>\n",
       "      <th>1</th>\n",
       "      <td>1</td>\n",
       "      <td>Centro Concertado de Atención a las Adicciones...</td>\n",
       "      <td>AVENIDA PORTUGAL 0</td>\n",
       "      <td>LATINA</td>\n",
       "      <td>28011</td>\n",
       "      <td>40.416331</td>\n",
       "      <td>-3.723991</td>\n",
       "      <td>CentrosAsistenciaDrogodependientes</td>\n",
       "      <td>9018.664294</td>\n",
       "    </tr>\n",
       "    <tr>\n",
       "      <th>2</th>\n",
       "      <td>2</td>\n",
       "      <td>Centro de Atención a las Adicciones (CAD) de A...</td>\n",
       "      <td>PASEO CHOPERA 12</td>\n",
       "      <td>ARGANZUELA</td>\n",
       "      <td>28045</td>\n",
       "      <td>40.393057</td>\n",
       "      <td>-3.698067</td>\n",
       "      <td>CentrosAsistenciaDrogodependientes</td>\n",
       "      <td>11619.444588</td>\n",
       "    </tr>\n",
       "    <tr>\n",
       "      <th>3</th>\n",
       "      <td>3</td>\n",
       "      <td>Centro de Atención a las Adicciones (CAD) de H...</td>\n",
       "      <td>CALLE MINAYA 7</td>\n",
       "      <td>HORTALEZA</td>\n",
       "      <td>28043</td>\n",
       "      <td>40.468289</td>\n",
       "      <td>-3.636150</td>\n",
       "      <td>CentrosAsistenciaDrogodependientes</td>\n",
       "      <td>7204.260853</td>\n",
       "    </tr>\n",
       "    <tr>\n",
       "      <th>4</th>\n",
       "      <td>4</td>\n",
       "      <td>Centro de Atención a las Adicciones (CAD) de L...</td>\n",
       "      <td>CALLE CAMARENA 10</td>\n",
       "      <td>LATINA</td>\n",
       "      <td>28047</td>\n",
       "      <td>40.395971</td>\n",
       "      <td>-3.756272</td>\n",
       "      <td>CentrosAsistenciaDrogodependientes</td>\n",
       "      <td>11825.625101</td>\n",
       "    </tr>\n",
       "  </tbody>\n",
       "</table>\n",
       "</div>"
      ],
      "text/plain": [
       "   Unnamed: 0                                             NOMBRE  \\\n",
       "0           0  Centro Concertado de Atención a las Adicciones...   \n",
       "1           1  Centro Concertado de Atención a las Adicciones...   \n",
       "2           2  Centro de Atención a las Adicciones (CAD) de A...   \n",
       "3           3  Centro de Atención a las Adicciones (CAD) de H...   \n",
       "4           4  Centro de Atención a las Adicciones (CAD) de L...   \n",
       "\n",
       "                 DIRECCION    DISTRITO  COD_POSTAL    LATITUD  LONGITUD  \\\n",
       "0  CALLE SANTA HORTENSIA 1   CHAMARTIN       28002  40.446053 -3.670277   \n",
       "1       AVENIDA PORTUGAL 0      LATINA       28011  40.416331 -3.723991   \n",
       "2         PASEO CHOPERA 12  ARGANZUELA       28045  40.393057 -3.698067   \n",
       "3           CALLE MINAYA 7   HORTALEZA       28043  40.468289 -3.636150   \n",
       "4        CALLE CAMARENA 10      LATINA       28047  40.395971 -3.756272   \n",
       "\n",
       "                                 TIPO     DISTANCIA  \n",
       "0  CentrosAsistenciaDrogodependientes   6694.461065  \n",
       "1  CentrosAsistenciaDrogodependientes   9018.664294  \n",
       "2  CentrosAsistenciaDrogodependientes  11619.444588  \n",
       "3  CentrosAsistenciaDrogodependientes   7204.260853  \n",
       "4  CentrosAsistenciaDrogodependientes  11825.625101  "
      ]
     },
     "execution_count": 9,
     "metadata": {},
     "output_type": "execute_result"
    }
   ],
   "source": [
    "centros_medicos_clean.head()"
   ]
  },
  {
   "cell_type": "code",
   "execution_count": 10,
   "metadata": {},
   "outputs": [
    {
     "data": {
      "text/plain": [
       "'Clínica CEMTRO'"
      ]
     },
     "execution_count": 10,
     "metadata": {},
     "output_type": "execute_result"
    }
   ],
   "source": [
    "centros_medicos_clean.loc[centros_medicos_clean.DISTANCIA.argmin(), \"NOMBRE\"]"
   ]
  },
  {
   "cell_type": "code",
   "execution_count": 11,
   "metadata": {},
   "outputs": [
    {
     "data": {
      "text/plain": [
       "'AVENIDA VENTISQUERO DE LA CONDESA 42'"
      ]
     },
     "execution_count": 11,
     "metadata": {},
     "output_type": "execute_result"
    }
   ],
   "source": [
    "centros_medicos_clean.loc[centros_medicos_clean.DISTANCIA.argmin(), \"DIRECCION\"]"
   ]
  },
  {
   "cell_type": "code",
   "execution_count": 12,
   "metadata": {},
   "outputs": [
    {
     "data": {
      "text/plain": [
       "526.4759679848166"
      ]
     },
     "execution_count": 12,
     "metadata": {},
     "output_type": "execute_result"
    }
   ],
   "source": [
    "# LA DISTANCIA ESTÁ CALCULADA EN MENTROS\n",
    "\n",
    "centros_medicos_clean.loc[centros_medicos_clean.DISTANCIA.argmin(), \"DISTANCIA\"]"
   ]
  },
  {
   "cell_type": "markdown",
   "metadata": {},
   "source": [
    "* FUNCIONA!!!!! ES LA CLINICA MAS CERCANA DE MI CASA!!!1 QUE ILUSION POR DIOS!!!"
   ]
  },
  {
   "cell_type": "markdown",
   "metadata": {},
   "source": [
    "###  Funciones para aplicar en visual"
   ]
  },
  {
   "cell_type": "code",
   "execution_count": 13,
   "metadata": {},
   "outputs": [],
   "source": [
    "def haversine(coord1, coord2):\n",
    "    \n",
    "    '''\n",
    "    Funcion en donde al meterle dos parametros de coordenadas te va a devolver la distancia que hay entre ambos puntos\n",
    "    '''\n",
    "    \n",
    "    R = 6372800  # Earth radius in meters\n",
    "    lat1, lon1 = coord1\n",
    "    lat2, lon2 = coord2\n",
    "    \n",
    "    phi1, phi2 = math.radians(lat1), math.radians(lat2) \n",
    "    dphi       = math.radians(lat2 - lat1)\n",
    "    dlambda    = math.radians(lon2 - lon1)\n",
    "    \n",
    "    a = math.sin(dphi/2)**2 + \\\n",
    "        math.cos(phi1)*math.cos(phi2)*math.sin(dlambda/2)**2\n",
    "    \n",
    "    return 2*R*math.atan2(math.sqrt(a), math.sqrt(1 - a))"
   ]
  },
  {
   "cell_type": "code",
   "execution_count": 35,
   "metadata": {},
   "outputs": [],
   "source": [
    "def distancia_entre_hospital_casa(lat, lon):\n",
    "    '''\n",
    "    Esta funcion lo que coge es la latitud y longitud de la ubicacion de tu casa y te evuelve el nombre del centro medico \n",
    "    mas cercano a tu casa\n",
    "    '''\n",
    "    \n",
    "    for index, row in centros_medicos_clean.iterrows(): \n",
    "        row['LATITUD']\n",
    "        row['LONGITUD']\n",
    "    \n",
    "    centros_medicos_clean['DISTANCIA'] = 0 \n",
    "    \n",
    "    centros_medicos_clean['DISTANCIA'] = centros_medicos_clean.apply(lambda row: haversine((lat, lon), (row['LATITUD'], row['LONGITUD'])), axis=1)\n",
    "    \n",
    "    return (centros_medicos_clean.loc[centros_medicos_clean.DISTANCIA.argmin(), \"NOMBRE\"], math.trunc(centros_medicos_clean.loc[centros_medicos_clean.DISTANCIA.argmin(), \"DISTANCIA\"]))\n",
    "    "
   ]
  },
  {
   "cell_type": "code",
   "execution_count": 15,
   "metadata": {},
   "outputs": [
    {
     "data": {
      "text/plain": [
       "('Clínica CEMTRO', 526)"
      ]
     },
     "execution_count": 15,
     "metadata": {},
     "output_type": "execute_result"
    }
   ],
   "source": [
    "distancia_entre_hospital_casa(40.4969434, -3.712521117)"
   ]
  },
  {
   "cell_type": "code",
   "execution_count": 16,
   "metadata": {},
   "outputs": [
    {
     "data": {
      "text/plain": [
       "('Clínica CEMTRO', 664)"
      ]
     },
     "execution_count": 16,
     "metadata": {},
     "output_type": "execute_result"
    }
   ],
   "source": [
    "# PRUEBA CON LA DISTANCIAS QUE ME HA DADO GEOCODE (no es tan excata porque las coordenadas tienen menos decimales, salen redondeadas por defecto)\n",
    "# Pero acierta!\n",
    "\n",
    "distancia_entre_hospital_casa(40.4969, -3.71037)"
   ]
  },
  {
   "cell_type": "code",
   "execution_count": 17,
   "metadata": {},
   "outputs": [
    {
     "data": {
      "text/plain": [
       "('Centro de Salud Núñez Morgado', 42)"
      ]
     },
     "execution_count": 17,
     "metadata": {},
     "output_type": "execute_result"
    }
   ],
   "source": [
    "# SEGUNA PRUEBA CON LAS COORDENADAS QUE ME DEVUELVE LA API\n",
    "distancia_entre_hospital_casa(40.4687, -3.68553)"
   ]
  },
  {
   "cell_type": "markdown",
   "metadata": {},
   "source": [
    "## Cálculo distacias: Home-Pharmacies\n",
    "### ¡Vamos a encontrar las farmacias más cercana a tu casa!"
   ]
  },
  {
   "cell_type": "code",
   "execution_count": 18,
   "metadata": {},
   "outputs": [],
   "source": [
    "def haversine(coord1, coord2):\n",
    "    R = 6372800  # Earth radius in meters\n",
    "    lat1, lon1 = coord1\n",
    "    lat2, lon2 = coord2\n",
    "    \n",
    "    phi1, phi2 = math.radians(lat1), math.radians(lat2) \n",
    "    dphi       = math.radians(lat2 - lat1)\n",
    "    dlambda    = math.radians(lon2 - lon1)\n",
    "    \n",
    "    a = math.sin(dphi/2)**2 + \\\n",
    "        math.cos(phi1)*math.cos(phi2)*math.sin(dlambda/2)**2\n",
    "    \n",
    "    return 2*R*math.atan2(math.sqrt(a), math.sqrt(1 - a))"
   ]
  },
  {
   "cell_type": "code",
   "execution_count": 19,
   "metadata": {},
   "outputs": [
    {
     "data": {
      "text/html": [
       "<div>\n",
       "<style scoped>\n",
       "    .dataframe tbody tr th:only-of-type {\n",
       "        vertical-align: middle;\n",
       "    }\n",
       "\n",
       "    .dataframe tbody tr th {\n",
       "        vertical-align: top;\n",
       "    }\n",
       "\n",
       "    .dataframe thead th {\n",
       "        text-align: right;\n",
       "    }\n",
       "</style>\n",
       "<table border=\"1\" class=\"dataframe\">\n",
       "  <thead>\n",
       "    <tr style=\"text-align: right;\">\n",
       "      <th></th>\n",
       "      <th>Unnamed: 0</th>\n",
       "      <th>titular_nombre</th>\n",
       "      <th>direccion</th>\n",
       "      <th>municipio_nombre</th>\n",
       "      <th>latitud</th>\n",
       "      <th>longitud</th>\n",
       "    </tr>\n",
       "  </thead>\n",
       "  <tbody>\n",
       "    <tr>\n",
       "      <th>0</th>\n",
       "      <td>0</td>\n",
       "      <td>Amaya Corral Palomino</td>\n",
       "      <td>PLAZA del Dos de Mayo 6</td>\n",
       "      <td>Madrid</td>\n",
       "      <td>40.427326</td>\n",
       "      <td>-3.704186</td>\n",
       "    </tr>\n",
       "    <tr>\n",
       "      <th>1</th>\n",
       "      <td>1</td>\n",
       "      <td>Montserrat Gimenez Mestre</td>\n",
       "      <td>CALLE de Ríos Rosas 50</td>\n",
       "      <td>Madrid</td>\n",
       "      <td>40.441590</td>\n",
       "      <td>-3.696234</td>\n",
       "    </tr>\n",
       "    <tr>\n",
       "      <th>2</th>\n",
       "      <td>2</td>\n",
       "      <td>Justo Aquilino Corral Aragon</td>\n",
       "      <td>CALLE de Argensola 12</td>\n",
       "      <td>Madrid</td>\n",
       "      <td>40.425284</td>\n",
       "      <td>-3.694781</td>\n",
       "    </tr>\n",
       "    <tr>\n",
       "      <th>3</th>\n",
       "      <td>3</td>\n",
       "      <td>Irene Arroita Del Campo</td>\n",
       "      <td>CALLE de Alcalá 98</td>\n",
       "      <td>Madrid</td>\n",
       "      <td>40.424996</td>\n",
       "      <td>-3.674844</td>\n",
       "    </tr>\n",
       "    <tr>\n",
       "      <th>4</th>\n",
       "      <td>4</td>\n",
       "      <td>Esther Sansi Ponsico</td>\n",
       "      <td>PLAZA de Salesas 7</td>\n",
       "      <td>Madrid</td>\n",
       "      <td>40.423736</td>\n",
       "      <td>-3.694447</td>\n",
       "    </tr>\n",
       "  </tbody>\n",
       "</table>\n",
       "</div>"
      ],
      "text/plain": [
       "   Unnamed: 0                titular_nombre                direccion  \\\n",
       "0           0         Amaya Corral Palomino  PLAZA del Dos de Mayo 6   \n",
       "1           1     Montserrat Gimenez Mestre   CALLE de Ríos Rosas 50   \n",
       "2           2  Justo Aquilino Corral Aragon    CALLE de Argensola 12   \n",
       "3           3       Irene Arroita Del Campo       CALLE de Alcalá 98   \n",
       "4           4          Esther Sansi Ponsico       PLAZA de Salesas 7   \n",
       "\n",
       "  municipio_nombre    latitud  longitud  \n",
       "0           Madrid  40.427326 -3.704186  \n",
       "1           Madrid  40.441590 -3.696234  \n",
       "2           Madrid  40.425284 -3.694781  \n",
       "3           Madrid  40.424996 -3.674844  \n",
       "4           Madrid  40.423736 -3.694447  "
      ]
     },
     "execution_count": 19,
     "metadata": {},
     "output_type": "execute_result"
    }
   ],
   "source": [
    "farmacias_clean = pd.read_csv(\"../data/farmacias_clean.csv\")\n",
    "farmacias_clean.head()"
   ]
  },
  {
   "cell_type": "code",
   "execution_count": 20,
   "metadata": {},
   "outputs": [],
   "source": [
    "home = (40.4969434, -3.712521117)"
   ]
  },
  {
   "cell_type": "markdown",
   "metadata": {},
   "source": [
    "* La columna de DISTACIA será la distancia que hay entre tus casa y todas las farmacias de Madrid\n",
    "* Luego encontraremos la farmacia más cercana a tu casa"
   ]
  },
  {
   "cell_type": "code",
   "execution_count": 21,
   "metadata": {},
   "outputs": [],
   "source": [
    "farmacias_clean['DISTANCIA'] = 0 "
   ]
  },
  {
   "cell_type": "code",
   "execution_count": 22,
   "metadata": {},
   "outputs": [
    {
     "data": {
      "text/html": [
       "<div>\n",
       "<style scoped>\n",
       "    .dataframe tbody tr th:only-of-type {\n",
       "        vertical-align: middle;\n",
       "    }\n",
       "\n",
       "    .dataframe tbody tr th {\n",
       "        vertical-align: top;\n",
       "    }\n",
       "\n",
       "    .dataframe thead th {\n",
       "        text-align: right;\n",
       "    }\n",
       "</style>\n",
       "<table border=\"1\" class=\"dataframe\">\n",
       "  <thead>\n",
       "    <tr style=\"text-align: right;\">\n",
       "      <th></th>\n",
       "      <th>Unnamed: 0</th>\n",
       "      <th>titular_nombre</th>\n",
       "      <th>direccion</th>\n",
       "      <th>municipio_nombre</th>\n",
       "      <th>latitud</th>\n",
       "      <th>longitud</th>\n",
       "      <th>DISTANCIA</th>\n",
       "    </tr>\n",
       "  </thead>\n",
       "  <tbody>\n",
       "    <tr>\n",
       "      <th>0</th>\n",
       "      <td>0</td>\n",
       "      <td>Amaya Corral Palomino</td>\n",
       "      <td>PLAZA del Dos de Mayo 6</td>\n",
       "      <td>Madrid</td>\n",
       "      <td>40.427326</td>\n",
       "      <td>-3.704186</td>\n",
       "      <td>0</td>\n",
       "    </tr>\n",
       "    <tr>\n",
       "      <th>1</th>\n",
       "      <td>1</td>\n",
       "      <td>Montserrat Gimenez Mestre</td>\n",
       "      <td>CALLE de Ríos Rosas 50</td>\n",
       "      <td>Madrid</td>\n",
       "      <td>40.441590</td>\n",
       "      <td>-3.696234</td>\n",
       "      <td>0</td>\n",
       "    </tr>\n",
       "    <tr>\n",
       "      <th>2</th>\n",
       "      <td>2</td>\n",
       "      <td>Justo Aquilino Corral Aragon</td>\n",
       "      <td>CALLE de Argensola 12</td>\n",
       "      <td>Madrid</td>\n",
       "      <td>40.425284</td>\n",
       "      <td>-3.694781</td>\n",
       "      <td>0</td>\n",
       "    </tr>\n",
       "    <tr>\n",
       "      <th>3</th>\n",
       "      <td>3</td>\n",
       "      <td>Irene Arroita Del Campo</td>\n",
       "      <td>CALLE de Alcalá 98</td>\n",
       "      <td>Madrid</td>\n",
       "      <td>40.424996</td>\n",
       "      <td>-3.674844</td>\n",
       "      <td>0</td>\n",
       "    </tr>\n",
       "    <tr>\n",
       "      <th>4</th>\n",
       "      <td>4</td>\n",
       "      <td>Esther Sansi Ponsico</td>\n",
       "      <td>PLAZA de Salesas 7</td>\n",
       "      <td>Madrid</td>\n",
       "      <td>40.423736</td>\n",
       "      <td>-3.694447</td>\n",
       "      <td>0</td>\n",
       "    </tr>\n",
       "  </tbody>\n",
       "</table>\n",
       "</div>"
      ],
      "text/plain": [
       "   Unnamed: 0                titular_nombre                direccion  \\\n",
       "0           0         Amaya Corral Palomino  PLAZA del Dos de Mayo 6   \n",
       "1           1     Montserrat Gimenez Mestre   CALLE de Ríos Rosas 50   \n",
       "2           2  Justo Aquilino Corral Aragon    CALLE de Argensola 12   \n",
       "3           3       Irene Arroita Del Campo       CALLE de Alcalá 98   \n",
       "4           4          Esther Sansi Ponsico       PLAZA de Salesas 7   \n",
       "\n",
       "  municipio_nombre    latitud  longitud  DISTANCIA  \n",
       "0           Madrid  40.427326 -3.704186          0  \n",
       "1           Madrid  40.441590 -3.696234          0  \n",
       "2           Madrid  40.425284 -3.694781          0  \n",
       "3           Madrid  40.424996 -3.674844          0  \n",
       "4           Madrid  40.423736 -3.694447          0  "
      ]
     },
     "execution_count": 22,
     "metadata": {},
     "output_type": "execute_result"
    }
   ],
   "source": [
    "farmacias_clean.head()"
   ]
  },
  {
   "cell_type": "code",
   "execution_count": 23,
   "metadata": {},
   "outputs": [],
   "source": [
    "for index, row in farmacias_clean.iterrows(): \n",
    "    row['latitud']\n",
    "    row['longitud']"
   ]
  },
  {
   "cell_type": "code",
   "execution_count": 24,
   "metadata": {},
   "outputs": [],
   "source": [
    "farmacias_clean['DISTANCIA'] = farmacias_clean.apply(lambda row: haversine(home, (row['latitud'], row['longitud'])), axis=1)"
   ]
  },
  {
   "cell_type": "code",
   "execution_count": 25,
   "metadata": {},
   "outputs": [
    {
     "data": {
      "text/html": [
       "<div>\n",
       "<style scoped>\n",
       "    .dataframe tbody tr th:only-of-type {\n",
       "        vertical-align: middle;\n",
       "    }\n",
       "\n",
       "    .dataframe tbody tr th {\n",
       "        vertical-align: top;\n",
       "    }\n",
       "\n",
       "    .dataframe thead th {\n",
       "        text-align: right;\n",
       "    }\n",
       "</style>\n",
       "<table border=\"1\" class=\"dataframe\">\n",
       "  <thead>\n",
       "    <tr style=\"text-align: right;\">\n",
       "      <th></th>\n",
       "      <th>Unnamed: 0</th>\n",
       "      <th>titular_nombre</th>\n",
       "      <th>direccion</th>\n",
       "      <th>municipio_nombre</th>\n",
       "      <th>latitud</th>\n",
       "      <th>longitud</th>\n",
       "      <th>DISTANCIA</th>\n",
       "    </tr>\n",
       "  </thead>\n",
       "  <tbody>\n",
       "    <tr>\n",
       "      <th>0</th>\n",
       "      <td>0</td>\n",
       "      <td>Amaya Corral Palomino</td>\n",
       "      <td>PLAZA del Dos de Mayo 6</td>\n",
       "      <td>Madrid</td>\n",
       "      <td>40.427326</td>\n",
       "      <td>-3.704186</td>\n",
       "      <td>7775.372770</td>\n",
       "    </tr>\n",
       "    <tr>\n",
       "      <th>1</th>\n",
       "      <td>1</td>\n",
       "      <td>Montserrat Gimenez Mestre</td>\n",
       "      <td>CALLE de Ríos Rosas 50</td>\n",
       "      <td>Madrid</td>\n",
       "      <td>40.441590</td>\n",
       "      <td>-3.696234</td>\n",
       "      <td>6309.090059</td>\n",
       "    </tr>\n",
       "    <tr>\n",
       "      <th>2</th>\n",
       "      <td>2</td>\n",
       "      <td>Justo Aquilino Corral Aragon</td>\n",
       "      <td>CALLE de Argensola 12</td>\n",
       "      <td>Madrid</td>\n",
       "      <td>40.425284</td>\n",
       "      <td>-3.694781</td>\n",
       "      <td>8110.610217</td>\n",
       "    </tr>\n",
       "    <tr>\n",
       "      <th>3</th>\n",
       "      <td>3</td>\n",
       "      <td>Irene Arroita Del Campo</td>\n",
       "      <td>CALLE de Alcalá 98</td>\n",
       "      <td>Madrid</td>\n",
       "      <td>40.424996</td>\n",
       "      <td>-3.674844</td>\n",
       "      <td>8614.230254</td>\n",
       "    </tr>\n",
       "    <tr>\n",
       "      <th>4</th>\n",
       "      <td>4</td>\n",
       "      <td>Esther Sansi Ponsico</td>\n",
       "      <td>PLAZA de Salesas 7</td>\n",
       "      <td>Madrid</td>\n",
       "      <td>40.423736</td>\n",
       "      <td>-3.694447</td>\n",
       "      <td>8285.002988</td>\n",
       "    </tr>\n",
       "  </tbody>\n",
       "</table>\n",
       "</div>"
      ],
      "text/plain": [
       "   Unnamed: 0                titular_nombre                direccion  \\\n",
       "0           0         Amaya Corral Palomino  PLAZA del Dos de Mayo 6   \n",
       "1           1     Montserrat Gimenez Mestre   CALLE de Ríos Rosas 50   \n",
       "2           2  Justo Aquilino Corral Aragon    CALLE de Argensola 12   \n",
       "3           3       Irene Arroita Del Campo       CALLE de Alcalá 98   \n",
       "4           4          Esther Sansi Ponsico       PLAZA de Salesas 7   \n",
       "\n",
       "  municipio_nombre    latitud  longitud    DISTANCIA  \n",
       "0           Madrid  40.427326 -3.704186  7775.372770  \n",
       "1           Madrid  40.441590 -3.696234  6309.090059  \n",
       "2           Madrid  40.425284 -3.694781  8110.610217  \n",
       "3           Madrid  40.424996 -3.674844  8614.230254  \n",
       "4           Madrid  40.423736 -3.694447  8285.002988  "
      ]
     },
     "execution_count": 25,
     "metadata": {},
     "output_type": "execute_result"
    }
   ],
   "source": [
    "farmacias_clean.head()"
   ]
  },
  {
   "cell_type": "code",
   "execution_count": 26,
   "metadata": {},
   "outputs": [
    {
     "data": {
      "text/plain": [
       "397.0193409840688"
      ]
     },
     "execution_count": 26,
     "metadata": {},
     "output_type": "execute_result"
    }
   ],
   "source": [
    "farmacias_clean.loc[farmacias_clean.DISTANCIA.argmin(), \"DISTANCIA\"]"
   ]
  },
  {
   "cell_type": "code",
   "execution_count": 27,
   "metadata": {},
   "outputs": [
    {
     "data": {
      "text/plain": [
       "'CALLE del Cerro del Castañar 74'"
      ]
     },
     "execution_count": 27,
     "metadata": {},
     "output_type": "execute_result"
    }
   ],
   "source": [
    "farmacias_clean.loc[farmacias_clean.DISTANCIA.argmin(), \"direccion\"]"
   ]
  },
  {
   "cell_type": "code",
   "execution_count": 28,
   "metadata": {},
   "outputs": [
    {
     "data": {
      "text/plain": [
       "'Alicia Hernanz Rincon'"
      ]
     },
     "execution_count": 28,
     "metadata": {},
     "output_type": "execute_result"
    }
   ],
   "source": [
    "farmacias_clean.loc[farmacias_clean.DISTANCIA.argmin(), \"titular_nombre\"]"
   ]
  },
  {
   "cell_type": "markdown",
   "metadata": {},
   "source": [
    "### Funciones para calcular la distacias de tu casa a la farmcaia más cercana (el recorrido que va a hacer el repartidor por ti)\n"
   ]
  },
  {
   "cell_type": "code",
   "execution_count": 29,
   "metadata": {},
   "outputs": [],
   "source": [
    "def distancia_entre_farmacia_casa(lat, lon):\n",
    "    for index, row in farmacias_clean.iterrows(): \n",
    "        row['latitud']\n",
    "        row['longitud']\n",
    "    \n",
    "    farmacias_clean['DISTANCIA'] = 0 \n",
    "    \n",
    "    farmacias_clean['DISTANCIA'] = farmacias_clean.apply(lambda row: haversine(home, (row['latitud'], row['longitud'])), axis=1)\n",
    "    \n",
    "    return (farmacias_clean.loc[farmacias_clean.DISTANCIA.argmin(), \"titular_nombre\"], farmacias_clean.loc[farmacias_clean.DISTANCIA.argmin(), \"DISTANCIA\"])"
   ]
  },
  {
   "cell_type": "code",
   "execution_count": 34,
   "metadata": {},
   "outputs": [
    {
     "data": {
      "text/plain": [
       "('Alicia Hernanz Rincon', 397.0193409840688)"
      ]
     },
     "execution_count": 34,
     "metadata": {},
     "output_type": "execute_result"
    }
   ],
   "source": [
    "distancia_entre_farmacia_casa(40.4969434, -3.712521117)"
   ]
  },
  {
   "cell_type": "code",
   "execution_count": 33,
   "metadata": {},
   "outputs": [
    {
     "data": {
      "text/plain": [
       "('Alicia Hernanz Rincon', 397.0193409840688)"
      ]
     },
     "execution_count": 33,
     "metadata": {},
     "output_type": "execute_result"
    }
   ],
   "source": [
    "# ACIERTAAAA!! SON LAS COORDENADAS QUE ME DA MI API AL METER YO MI CALLE\n",
    "distancia_entre_farmacia_casa(40.4969, -3.71037)"
   ]
  },
  {
   "cell_type": "code",
   "execution_count": 32,
   "metadata": {},
   "outputs": [
    {
     "data": {
      "text/plain": [
       "('Alicia Hernanz Rincon', 397.0193409840688)"
      ]
     },
     "execution_count": 32,
     "metadata": {},
     "output_type": "execute_result"
    }
   ],
   "source": [
    "distancia_entre_farmacia_casa(40.4687, -3.68553)"
   ]
  }
 ],
 "metadata": {
  "kernelspec": {
   "display_name": "Python 3",
   "language": "python",
   "name": "python3"
  },
  "language_info": {
   "codemirror_mode": {
    "name": "ipython",
    "version": 3
   },
   "file_extension": ".py",
   "mimetype": "text/x-python",
   "name": "python",
   "nbconvert_exporter": "python",
   "pygments_lexer": "ipython3",
   "version": "3.8.3"
  },
  "toc": {
   "base_numbering": 1,
   "nav_menu": {},
   "number_sections": true,
   "sideBar": true,
   "skip_h1_title": false,
   "title_cell": "Table of Contents",
   "title_sidebar": "Contents",
   "toc_cell": false,
   "toc_position": {},
   "toc_section_display": true,
   "toc_window_display": true
  }
 },
 "nbformat": 4,
 "nbformat_minor": 4
}
