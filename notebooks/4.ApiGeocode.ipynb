{
 "cells": [
  {
   "cell_type": "code",
   "execution_count": 74,
   "metadata": {},
   "outputs": [],
   "source": [
    "import requests\n",
    "import json\n",
    "from dotenv import load_dotenv\n",
    "import os\n",
    "import pandas as pd\n",
    "\n",
    "\n",
    "import pandas as pd\n",
    "import math\n",
    "import numpy as np"
   ]
  },
  {
   "cell_type": "markdown",
   "metadata": {},
   "source": [
    "## API GEOCODE\n",
    "### Añadiendo el key ID para poder utilizar la API"
   ]
  },
  {
   "cell_type": "code",
   "execution_count": 2,
   "metadata": {},
   "outputs": [
    {
     "data": {
      "text/plain": [
       "True"
      ]
     },
     "execution_count": 2,
     "metadata": {},
     "output_type": "execute_result"
    }
   ],
   "source": [
    "load_dotenv()"
   ]
  },
  {
   "cell_type": "code",
   "execution_count": 4,
   "metadata": {},
   "outputs": [],
   "source": [
    "key = os.getenv(\"key\")"
   ]
  },
  {
   "cell_type": "markdown",
   "metadata": {},
   "source": [
    "### Función que va a convertir tu direccion en latitud y longitud"
   ]
  },
  {
   "cell_type": "code",
   "execution_count": 67,
   "metadata": {},
   "outputs": [],
   "source": [
    "def geocode(calle):\n",
    "    \"\"\"\n",
    "    Saca las coordenadas de una dirección que le des.\n",
    "    \"\"\"\n",
    "    data = requests.get(f\"https://geocode.xyz/{calle}?json=1\").json()\n",
    "    try:\n",
    "        return [float(data[\"latt\"]),float(data[\"longt\"])]\n",
    "    except:\n",
    "        return data"
   ]
  },
  {
   "cell_type": "code",
   "execution_count": 68,
   "metadata": {},
   "outputs": [],
   "source": [
    "calle = \"Calle Marbella 83 28034, Madrid\""
   ]
  },
  {
   "cell_type": "code",
   "execution_count": 70,
   "metadata": {},
   "outputs": [
    {
     "data": {
      "text/plain": [
       "[40.4969, -3.71037]"
      ]
     },
     "execution_count": 70,
     "metadata": {},
     "output_type": "execute_result"
    }
   ],
   "source": [
    "geocode(calle)"
   ]
  },
  {
   "cell_type": "markdown",
   "metadata": {},
   "source": [
    "#### Primer ejemplo"
   ]
  },
  {
   "cell_type": "code",
   "execution_count": 35,
   "metadata": {},
   "outputs": [],
   "source": [
    "calle = \"Calle Marbella 83 28034, Madrid\""
   ]
  },
  {
   "cell_type": "code",
   "execution_count": 36,
   "metadata": {},
   "outputs": [
    {
     "data": {
      "text/plain": [
       "{'standard': {'stnumber': '83',\n",
       "  'addresst': 'Marbella',\n",
       "  'postal': '28034',\n",
       "  'region': 'Comunidad de Madrid',\n",
       "  'prov': 'ES',\n",
       "  'city': 'Madrid',\n",
       "  'countryname': 'Spain',\n",
       "  'confidence': '0.8'},\n",
       " 'longt': '-3.71037',\n",
       " 'alt': {},\n",
       " 'elevation': {},\n",
       " 'latt': '40.49690'}"
      ]
     },
     "execution_count": 36,
     "metadata": {},
     "output_type": "execute_result"
    }
   ],
   "source": [
    "data = requests.get(f\"https://geocode.xyz/{calle}?json=1\").json()\n",
    "data"
   ]
  },
  {
   "cell_type": "code",
   "execution_count": 71,
   "metadata": {},
   "outputs": [
    {
     "data": {
      "text/plain": [
       "[40.4969, -3.71037]"
      ]
     },
     "execution_count": 71,
     "metadata": {},
     "output_type": "execute_result"
    }
   ],
   "source": [
    "home = geocode(calle)\n",
    "home"
   ]
  },
  {
   "cell_type": "code",
   "execution_count": 48,
   "metadata": {},
   "outputs": [
    {
     "data": {
      "text/plain": [
       "dict_keys(['type', 'coordinates'])"
      ]
     },
     "execution_count": 48,
     "metadata": {},
     "output_type": "execute_result"
    }
   ],
   "source": [
    "home.keys()"
   ]
  },
  {
   "cell_type": "markdown",
   "metadata": {},
   "source": [
    "#### Segundo ejemplo"
   ]
  },
  {
   "cell_type": "code",
   "execution_count": 72,
   "metadata": {},
   "outputs": [],
   "source": [
    "calle = \"Calle Nuñez Morgado 9, Madrid\""
   ]
  },
  {
   "cell_type": "code",
   "execution_count": 73,
   "metadata": {},
   "outputs": [
    {
     "data": {
      "text/plain": [
       "[40.4687, -3.68553]"
      ]
     },
     "execution_count": 73,
     "metadata": {},
     "output_type": "execute_result"
    }
   ],
   "source": [
    "geocode(calle)"
   ]
  },
  {
   "cell_type": "markdown",
   "metadata": {},
   "source": [
    "####  Tercer ejemplo"
   ]
  },
  {
   "cell_type": "code",
   "execution_count": 44,
   "metadata": {},
   "outputs": [],
   "source": [
    "calle = \"Calle de Villanueva, 11 29001 Madrid\""
   ]
  },
  {
   "cell_type": "code",
   "execution_count": 51,
   "metadata": {},
   "outputs": [],
   "source": [
    "coordenadas = geocode(calle)"
   ]
  },
  {
   "cell_type": "code",
   "execution_count": 54,
   "metadata": {},
   "outputs": [
    {
     "data": {
      "text/plain": [
       "[40.42253, -3.68632]"
      ]
     },
     "execution_count": 54,
     "metadata": {},
     "output_type": "execute_result"
    }
   ],
   "source": [
    "coordenadas['coordinates']"
   ]
  },
  {
   "cell_type": "markdown",
   "metadata": {},
   "source": [
    "## JUGANDO CON FUNCIONES"
   ]
  },
  {
   "cell_type": "markdown",
   "metadata": {},
   "source": [
    "### Calculamos con la calle dada por el paciente el centro medico más cercano\n",
    "\n",
    "- La calle dada es en froma de string. Este string recorreria nuestra funcion formada por la API de Geocode.\n",
    "- Posteriormente las coordenadas sacadas se introcuden en la funcion de calculo con todos los centros medicos y te devuelve el centro más cercano a tu casa"
   ]
  },
  {
   "cell_type": "code",
   "execution_count": 90,
   "metadata": {},
   "outputs": [
    {
     "data": {
      "text/html": [
       "<div>\n",
       "<style scoped>\n",
       "    .dataframe tbody tr th:only-of-type {\n",
       "        vertical-align: middle;\n",
       "    }\n",
       "\n",
       "    .dataframe tbody tr th {\n",
       "        vertical-align: top;\n",
       "    }\n",
       "\n",
       "    .dataframe thead th {\n",
       "        text-align: right;\n",
       "    }\n",
       "</style>\n",
       "<table border=\"1\" class=\"dataframe\">\n",
       "  <thead>\n",
       "    <tr style=\"text-align: right;\">\n",
       "      <th></th>\n",
       "      <th>Unnamed: 0</th>\n",
       "      <th>NOMBRE</th>\n",
       "      <th>DIRECCION</th>\n",
       "      <th>DISTRITO</th>\n",
       "      <th>COD_POSTAL</th>\n",
       "      <th>LATITUD</th>\n",
       "      <th>LONGITUD</th>\n",
       "      <th>TIPO</th>\n",
       "    </tr>\n",
       "  </thead>\n",
       "  <tbody>\n",
       "    <tr>\n",
       "      <th>0</th>\n",
       "      <td>0</td>\n",
       "      <td>Centro Concertado de Atención a las Adicciones...</td>\n",
       "      <td>CALLE SANTA HORTENSIA 1</td>\n",
       "      <td>CHAMARTIN</td>\n",
       "      <td>28002</td>\n",
       "      <td>40.446053</td>\n",
       "      <td>-3.670277</td>\n",
       "      <td>CentrosAsistenciaDrogodependientes</td>\n",
       "    </tr>\n",
       "    <tr>\n",
       "      <th>1</th>\n",
       "      <td>1</td>\n",
       "      <td>Centro Concertado de Atención a las Adicciones...</td>\n",
       "      <td>AVENIDA PORTUGAL 0</td>\n",
       "      <td>LATINA</td>\n",
       "      <td>28011</td>\n",
       "      <td>40.416331</td>\n",
       "      <td>-3.723991</td>\n",
       "      <td>CentrosAsistenciaDrogodependientes</td>\n",
       "    </tr>\n",
       "    <tr>\n",
       "      <th>2</th>\n",
       "      <td>2</td>\n",
       "      <td>Centro de Atención a las Adicciones (CAD) de A...</td>\n",
       "      <td>PASEO CHOPERA 12</td>\n",
       "      <td>ARGANZUELA</td>\n",
       "      <td>28045</td>\n",
       "      <td>40.393057</td>\n",
       "      <td>-3.698067</td>\n",
       "      <td>CentrosAsistenciaDrogodependientes</td>\n",
       "    </tr>\n",
       "    <tr>\n",
       "      <th>3</th>\n",
       "      <td>3</td>\n",
       "      <td>Centro de Atención a las Adicciones (CAD) de H...</td>\n",
       "      <td>CALLE MINAYA 7</td>\n",
       "      <td>HORTALEZA</td>\n",
       "      <td>28043</td>\n",
       "      <td>40.468289</td>\n",
       "      <td>-3.636150</td>\n",
       "      <td>CentrosAsistenciaDrogodependientes</td>\n",
       "    </tr>\n",
       "    <tr>\n",
       "      <th>4</th>\n",
       "      <td>4</td>\n",
       "      <td>Centro de Atención a las Adicciones (CAD) de L...</td>\n",
       "      <td>CALLE CAMARENA 10</td>\n",
       "      <td>LATINA</td>\n",
       "      <td>28047</td>\n",
       "      <td>40.395971</td>\n",
       "      <td>-3.756272</td>\n",
       "      <td>CentrosAsistenciaDrogodependientes</td>\n",
       "    </tr>\n",
       "  </tbody>\n",
       "</table>\n",
       "</div>"
      ],
      "text/plain": [
       "   Unnamed: 0                                             NOMBRE  \\\n",
       "0           0  Centro Concertado de Atención a las Adicciones...   \n",
       "1           1  Centro Concertado de Atención a las Adicciones...   \n",
       "2           2  Centro de Atención a las Adicciones (CAD) de A...   \n",
       "3           3  Centro de Atención a las Adicciones (CAD) de H...   \n",
       "4           4  Centro de Atención a las Adicciones (CAD) de L...   \n",
       "\n",
       "                 DIRECCION    DISTRITO  COD_POSTAL    LATITUD  LONGITUD  \\\n",
       "0  CALLE SANTA HORTENSIA 1   CHAMARTIN       28002  40.446053 -3.670277   \n",
       "1       AVENIDA PORTUGAL 0      LATINA       28011  40.416331 -3.723991   \n",
       "2         PASEO CHOPERA 12  ARGANZUELA       28045  40.393057 -3.698067   \n",
       "3           CALLE MINAYA 7   HORTALEZA       28043  40.468289 -3.636150   \n",
       "4        CALLE CAMARENA 10      LATINA       28047  40.395971 -3.756272   \n",
       "\n",
       "                                 TIPO  \n",
       "0  CentrosAsistenciaDrogodependientes  \n",
       "1  CentrosAsistenciaDrogodependientes  \n",
       "2  CentrosAsistenciaDrogodependientes  \n",
       "3  CentrosAsistenciaDrogodependientes  \n",
       "4  CentrosAsistenciaDrogodependientes  "
      ]
     },
     "execution_count": 90,
     "metadata": {},
     "output_type": "execute_result"
    }
   ],
   "source": [
    "centros_medicos_clean = pd.read_csv(\"../data/centros_medicos_clean.csv\")\n",
    "centros_medicos_clean.head()"
   ]
  },
  {
   "cell_type": "code",
   "execution_count": 110,
   "metadata": {},
   "outputs": [],
   "source": [
    "calle = \"Calle Marbella, 83 28034 Madrid\""
   ]
  },
  {
   "cell_type": "code",
   "execution_count": 111,
   "metadata": {},
   "outputs": [],
   "source": [
    "def geocode(calle):\n",
    "    \"\"\"\n",
    "    Saca las coordenadas de una dirección que le des.\n",
    "    \"\"\"\n",
    "    data = requests.get(f\"https://geocode.xyz/{calle}?json=1\").json()\n",
    "    try:\n",
    "        return [float(data[\"latt\"]),float(data[\"longt\"])]\n",
    "    except:\n",
    "        return data"
   ]
  },
  {
   "cell_type": "code",
   "execution_count": 112,
   "metadata": {},
   "outputs": [],
   "source": [
    "casa = geocode(calle)"
   ]
  },
  {
   "cell_type": "code",
   "execution_count": 113,
   "metadata": {},
   "outputs": [],
   "source": [
    "def haversine(coord1, coord2):\n",
    "    \n",
    "    '''\n",
    "    Funcion en donde al meterle dos parametros de coordenadas te va a devolver la distancia que hay entre ambos puntos\n",
    "    '''\n",
    "    \n",
    "    R = 6372800  # Earth radius in meters\n",
    "    lat1, lon1 = coord1\n",
    "    lat2, lon2 = coord2\n",
    "    \n",
    "    phi1, phi2 = math.radians(lat1), math.radians(lat2) \n",
    "    dphi       = math.radians(lat2 - lat1)\n",
    "    dlambda    = math.radians(lon2 - lon1)\n",
    "    \n",
    "    a = math.sin(dphi/2)**2 + \\\n",
    "        math.cos(phi1)*math.cos(phi2)*math.sin(dlambda/2)**2\n",
    "    \n",
    "    return 2*R*math.atan2(math.sqrt(a), math.sqrt(1 - a))"
   ]
  },
  {
   "cell_type": "code",
   "execution_count": 114,
   "metadata": {},
   "outputs": [],
   "source": [
    "def distancia_entre_hospital_casa(casa):\n",
    "    '''\n",
    "    Esta funcion lo que coge es la latitud y longitud de la ubicacion de tu casa y te evuelve el nombre del centro medico \n",
    "    mas cercano a tu casa\n",
    "    '''\n",
    "    \n",
    "    for index, row in centros_medicos_clean.iterrows(): \n",
    "        row['LATITUD']\n",
    "        row['LONGITUD']\n",
    "    \n",
    "    centros_medicos_clean['DISTANCIA'] = 0 \n",
    "    \n",
    "    centros_medicos_clean['DISTANCIA'] = centros_medicos_clean.apply(lambda row: haversine(casa, (row['LATITUD'], row['LONGITUD'])), axis=1)\n",
    "    \n",
    "    return (centros_medicos_clean.loc[centros_medicos_clean.DISTANCIA.argmin(), \"NOMBRE\"], math.trunc(centros_medicos_clean.loc[centros_medicos_clean.DISTANCIA.argmin(), \"DISTANCIA\"]))\n",
    "    "
   ]
  },
  {
   "cell_type": "code",
   "execution_count": 115,
   "metadata": {},
   "outputs": [
    {
     "data": {
      "text/plain": [
       "('Clínica CEMTRO', 664)"
      ]
     },
     "execution_count": 115,
     "metadata": {},
     "output_type": "execute_result"
    }
   ],
   "source": [
    "distancia_entre_hospital_casa(casa)"
   ]
  },
  {
   "cell_type": "markdown",
   "metadata": {},
   "source": [
    "###  Cálculo de la farmacia más cercana a tu casa\n",
    "\n",
    "- Introducioendo el strind de la dirreccion de tu casa en la funcion creada por la API geocode sacaremos las coordenadas de tu casa.\n",
    "- Posterirmente estas coordenadas las meteremos en otra función calculando asi la distancia con todas las farmacias de Madrid y devolviendo la farmacia más cercana a tu casa"
   ]
  },
  {
   "cell_type": "code",
   "execution_count": 105,
   "metadata": {
    "scrolled": true
   },
   "outputs": [
    {
     "data": {
      "text/html": [
       "<div>\n",
       "<style scoped>\n",
       "    .dataframe tbody tr th:only-of-type {\n",
       "        vertical-align: middle;\n",
       "    }\n",
       "\n",
       "    .dataframe tbody tr th {\n",
       "        vertical-align: top;\n",
       "    }\n",
       "\n",
       "    .dataframe thead th {\n",
       "        text-align: right;\n",
       "    }\n",
       "</style>\n",
       "<table border=\"1\" class=\"dataframe\">\n",
       "  <thead>\n",
       "    <tr style=\"text-align: right;\">\n",
       "      <th></th>\n",
       "      <th>Unnamed: 0</th>\n",
       "      <th>titular_nombre</th>\n",
       "      <th>direccion</th>\n",
       "      <th>municipio_nombre</th>\n",
       "      <th>latitud</th>\n",
       "      <th>longitud</th>\n",
       "    </tr>\n",
       "  </thead>\n",
       "  <tbody>\n",
       "    <tr>\n",
       "      <th>0</th>\n",
       "      <td>0</td>\n",
       "      <td>Amaya Corral Palomino</td>\n",
       "      <td>PLAZA del Dos de Mayo 6</td>\n",
       "      <td>Madrid</td>\n",
       "      <td>40.427326</td>\n",
       "      <td>-3.704186</td>\n",
       "    </tr>\n",
       "    <tr>\n",
       "      <th>1</th>\n",
       "      <td>1</td>\n",
       "      <td>Montserrat Gimenez Mestre</td>\n",
       "      <td>CALLE de Ríos Rosas 50</td>\n",
       "      <td>Madrid</td>\n",
       "      <td>40.441590</td>\n",
       "      <td>-3.696234</td>\n",
       "    </tr>\n",
       "    <tr>\n",
       "      <th>2</th>\n",
       "      <td>2</td>\n",
       "      <td>Justo Aquilino Corral Aragon</td>\n",
       "      <td>CALLE de Argensola 12</td>\n",
       "      <td>Madrid</td>\n",
       "      <td>40.425284</td>\n",
       "      <td>-3.694781</td>\n",
       "    </tr>\n",
       "    <tr>\n",
       "      <th>3</th>\n",
       "      <td>3</td>\n",
       "      <td>Irene Arroita Del Campo</td>\n",
       "      <td>CALLE de Alcalá 98</td>\n",
       "      <td>Madrid</td>\n",
       "      <td>40.424996</td>\n",
       "      <td>-3.674844</td>\n",
       "    </tr>\n",
       "    <tr>\n",
       "      <th>4</th>\n",
       "      <td>4</td>\n",
       "      <td>Esther Sansi Ponsico</td>\n",
       "      <td>PLAZA de Salesas 7</td>\n",
       "      <td>Madrid</td>\n",
       "      <td>40.423736</td>\n",
       "      <td>-3.694447</td>\n",
       "    </tr>\n",
       "  </tbody>\n",
       "</table>\n",
       "</div>"
      ],
      "text/plain": [
       "   Unnamed: 0                titular_nombre                direccion  \\\n",
       "0           0         Amaya Corral Palomino  PLAZA del Dos de Mayo 6   \n",
       "1           1     Montserrat Gimenez Mestre   CALLE de Ríos Rosas 50   \n",
       "2           2  Justo Aquilino Corral Aragon    CALLE de Argensola 12   \n",
       "3           3       Irene Arroita Del Campo       CALLE de Alcalá 98   \n",
       "4           4          Esther Sansi Ponsico       PLAZA de Salesas 7   \n",
       "\n",
       "  municipio_nombre    latitud  longitud  \n",
       "0           Madrid  40.427326 -3.704186  \n",
       "1           Madrid  40.441590 -3.696234  \n",
       "2           Madrid  40.425284 -3.694781  \n",
       "3           Madrid  40.424996 -3.674844  \n",
       "4           Madrid  40.423736 -3.694447  "
      ]
     },
     "execution_count": 105,
     "metadata": {},
     "output_type": "execute_result"
    }
   ],
   "source": [
    "farmacias_clean = pd.read_csv(\"../data/farmacias_clean.csv\")\n",
    "farmacias_clean.head()"
   ]
  },
  {
   "cell_type": "code",
   "execution_count": 109,
   "metadata": {},
   "outputs": [],
   "source": [
    "casa = geocode(calle)"
   ]
  },
  {
   "cell_type": "code",
   "execution_count": 107,
   "metadata": {},
   "outputs": [],
   "source": [
    "def distancia_entre_farmacia_casa(casa):\n",
    "    for index, row in farmacias_clean.iterrows(): \n",
    "        row['latitud']\n",
    "        row['longitud']\n",
    "    \n",
    "    farmacias_clean['DISTANCIA'] = 0 \n",
    "    \n",
    "    farmacias_clean['DISTANCIA'] = farmacias_clean.apply(lambda row: haversine(casa, (row['latitud'], row['longitud'])), axis=1)\n",
    "    \n",
    "    return (farmacias_clean.loc[farmacias_clean.DISTANCIA.argmin(), \"titular_nombre\"], farmacias_clean.loc[farmacias_clean.DISTANCIA.argmin(), \"DISTANCIA\"])"
   ]
  },
  {
   "cell_type": "code",
   "execution_count": 108,
   "metadata": {},
   "outputs": [
    {
     "data": {
      "text/plain": [
       "('Alicia Hernanz Rincon', 463.3263088396517)"
      ]
     },
     "execution_count": 108,
     "metadata": {},
     "output_type": "execute_result"
    }
   ],
   "source": [
    "distancia_entre_farmacia_casa(casa)"
   ]
  }
 ],
 "metadata": {
  "kernelspec": {
   "display_name": "Python 3",
   "language": "python",
   "name": "python3"
  },
  "language_info": {
   "codemirror_mode": {
    "name": "ipython",
    "version": 3
   },
   "file_extension": ".py",
   "mimetype": "text/x-python",
   "name": "python",
   "nbconvert_exporter": "python",
   "pygments_lexer": "ipython3",
   "version": "3.8.3"
  },
  "toc": {
   "base_numbering": 1,
   "nav_menu": {},
   "number_sections": true,
   "sideBar": true,
   "skip_h1_title": false,
   "title_cell": "Table of Contents",
   "title_sidebar": "Contents",
   "toc_cell": false,
   "toc_position": {},
   "toc_section_display": true,
   "toc_window_display": false
  }
 },
 "nbformat": 4,
 "nbformat_minor": 4
}
