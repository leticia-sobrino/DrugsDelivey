{
 "cells": [
  {
   "cell_type": "code",
   "execution_count": 1,
   "metadata": {},
   "outputs": [],
   "source": [
    "import requests\n",
    "import json\n",
    "from dotenv import load_dotenv\n",
    "import os\n",
    "import pandas as pd\n",
    "\n",
    "\n",
    "import pandas as pd\n",
    "import math\n",
    "import numpy as np\n",
    "\n",
    "\n",
    "import folium\n",
    "from folium import Choropleth, Circle, Marker, Icon, Map\n",
    "from folium import plugins\n",
    "from folium.plugins import HeatMap, MarkerCluster\n",
    "from folium import IFrame\n",
    "import ipywidgets\n",
    "from folium.features import CustomIcon"
   ]
  },
  {
   "cell_type": "markdown",
   "metadata": {},
   "source": [
    "## API GEOCODE\n",
    "### Añadiendo el key ID para poder utilizar la API"
   ]
  },
  {
   "cell_type": "code",
   "execution_count": 2,
   "metadata": {},
   "outputs": [
    {
     "data": {
      "text/plain": [
       "True"
      ]
     },
     "execution_count": 2,
     "metadata": {},
     "output_type": "execute_result"
    }
   ],
   "source": [
    "load_dotenv()"
   ]
  },
  {
   "cell_type": "code",
   "execution_count": 3,
   "metadata": {},
   "outputs": [],
   "source": [
    "key = os.getenv(\"key\")"
   ]
  },
  {
   "cell_type": "markdown",
   "metadata": {},
   "source": [
    "### Función que va a convertir tu direccion en latitud y longitud"
   ]
  },
  {
   "cell_type": "code",
   "execution_count": 4,
   "metadata": {},
   "outputs": [],
   "source": [
    "def geocode(calle):\n",
    "    \"\"\"\n",
    "    Saca las coordenadas de una dirección que le des.\n",
    "    \"\"\"\n",
    "    data = requests.get(f\"https://geocode.xyz/{calle}?json=1\").json()\n",
    "    try:\n",
    "        casa = [float(data[\"latt\"]),float(data[\"longt\"])]\n",
    "        return casa\n",
    "    except:\n",
    "        return data"
   ]
  },
  {
   "cell_type": "code",
   "execution_count": 9,
   "metadata": {},
   "outputs": [],
   "source": [
    "calle = \"Calle la Maso 1 28034 Madrid\""
   ]
  },
  {
   "cell_type": "code",
   "execution_count": 10,
   "metadata": {},
   "outputs": [
    {
     "data": {
      "text/plain": [
       "[40.49658, -3.70491]"
      ]
     },
     "execution_count": 10,
     "metadata": {},
     "output_type": "execute_result"
    }
   ],
   "source": [
    "geocode(calle)"
   ]
  },
  {
   "cell_type": "markdown",
   "metadata": {},
   "source": [
    "#### Primer ejemplo"
   ]
  },
  {
   "cell_type": "code",
   "execution_count": 35,
   "metadata": {},
   "outputs": [],
   "source": [
    "calle = \"Calle Marbella 83 28034, Madrid\""
   ]
  },
  {
   "cell_type": "code",
   "execution_count": 36,
   "metadata": {},
   "outputs": [
    {
     "data": {
      "text/plain": [
       "{'standard': {'stnumber': '83',\n",
       "  'addresst': 'Marbella',\n",
       "  'postal': '28034',\n",
       "  'region': 'Comunidad de Madrid',\n",
       "  'prov': 'ES',\n",
       "  'city': 'Madrid',\n",
       "  'countryname': 'Spain',\n",
       "  'confidence': '0.8'},\n",
       " 'longt': '-3.71037',\n",
       " 'alt': {},\n",
       " 'elevation': {},\n",
       " 'latt': '40.49690'}"
      ]
     },
     "execution_count": 36,
     "metadata": {},
     "output_type": "execute_result"
    }
   ],
   "source": [
    "data = requests.get(f\"https://geocode.xyz/{calle}?json=1\").json()\n",
    "data"
   ]
  },
  {
   "cell_type": "code",
   "execution_count": 71,
   "metadata": {},
   "outputs": [
    {
     "data": {
      "text/plain": [
       "[40.4969, -3.71037]"
      ]
     },
     "execution_count": 71,
     "metadata": {},
     "output_type": "execute_result"
    }
   ],
   "source": [
    "home = geocode(calle)\n",
    "home"
   ]
  },
  {
   "cell_type": "code",
   "execution_count": 48,
   "metadata": {},
   "outputs": [
    {
     "data": {
      "text/plain": [
       "dict_keys(['type', 'coordinates'])"
      ]
     },
     "execution_count": 48,
     "metadata": {},
     "output_type": "execute_result"
    }
   ],
   "source": [
    "home.keys()"
   ]
  },
  {
   "cell_type": "markdown",
   "metadata": {},
   "source": [
    "#### Segundo ejemplo"
   ]
  },
  {
   "cell_type": "code",
   "execution_count": 11,
   "metadata": {},
   "outputs": [],
   "source": [
    "calle = \"Calle Nuñez Morgado 9, Madrid\""
   ]
  },
  {
   "cell_type": "code",
   "execution_count": 12,
   "metadata": {},
   "outputs": [
    {
     "data": {
      "text/plain": [
       "[40.4687, -3.68553]"
      ]
     },
     "execution_count": 12,
     "metadata": {},
     "output_type": "execute_result"
    }
   ],
   "source": [
    "geocode(calle)"
   ]
  },
  {
   "cell_type": "markdown",
   "metadata": {},
   "source": [
    "####  Tercer ejemplo"
   ]
  },
  {
   "cell_type": "code",
   "execution_count": 13,
   "metadata": {},
   "outputs": [],
   "source": [
    "calle = \"Calle de Villanueva, 11 29001 Madrid\""
   ]
  },
  {
   "cell_type": "code",
   "execution_count": 17,
   "metadata": {},
   "outputs": [
    {
     "data": {
      "text/plain": [
       "[40.42253, -3.68632]"
      ]
     },
     "execution_count": 17,
     "metadata": {},
     "output_type": "execute_result"
    }
   ],
   "source": [
    "coordenadas = geocode(calle)\n",
    "coordenadas"
   ]
  },
  {
   "cell_type": "markdown",
   "metadata": {},
   "source": [
    "## JUGANDO CON FUNCIONES"
   ]
  },
  {
   "cell_type": "markdown",
   "metadata": {},
   "source": [
    "### Calculamos con la calle dada por el paciente el centro medico más cercano\n",
    "\n",
    "- La calle dada es en froma de string. Este string recorreria nuestra funcion formada por la API de Geocode.\n",
    "- Posteriormente las coordenadas sacadas se introcuden en la funcion de calculo con todos los centros medicos y te devuelve el centro más cercano a tu casa"
   ]
  },
  {
   "cell_type": "code",
   "execution_count": 18,
   "metadata": {},
   "outputs": [
    {
     "data": {
      "text/html": [
       "<div>\n",
       "<style scoped>\n",
       "    .dataframe tbody tr th:only-of-type {\n",
       "        vertical-align: middle;\n",
       "    }\n",
       "\n",
       "    .dataframe tbody tr th {\n",
       "        vertical-align: top;\n",
       "    }\n",
       "\n",
       "    .dataframe thead th {\n",
       "        text-align: right;\n",
       "    }\n",
       "</style>\n",
       "<table border=\"1\" class=\"dataframe\">\n",
       "  <thead>\n",
       "    <tr style=\"text-align: right;\">\n",
       "      <th></th>\n",
       "      <th>Unnamed: 0</th>\n",
       "      <th>NOMBRE</th>\n",
       "      <th>DIRECCION</th>\n",
       "      <th>DISTRITO</th>\n",
       "      <th>COD_POSTAL</th>\n",
       "      <th>LATITUD</th>\n",
       "      <th>LONGITUD</th>\n",
       "      <th>TIPO</th>\n",
       "    </tr>\n",
       "  </thead>\n",
       "  <tbody>\n",
       "    <tr>\n",
       "      <th>0</th>\n",
       "      <td>0</td>\n",
       "      <td>Centro Concertado de Atención a las Adicciones...</td>\n",
       "      <td>CALLE SANTA HORTENSIA 1</td>\n",
       "      <td>CHAMARTIN</td>\n",
       "      <td>28002</td>\n",
       "      <td>40.446053</td>\n",
       "      <td>-3.670277</td>\n",
       "      <td>CentrosAsistenciaDrogodependientes</td>\n",
       "    </tr>\n",
       "    <tr>\n",
       "      <th>1</th>\n",
       "      <td>1</td>\n",
       "      <td>Centro Concertado de Atención a las Adicciones...</td>\n",
       "      <td>AVENIDA PORTUGAL 0</td>\n",
       "      <td>LATINA</td>\n",
       "      <td>28011</td>\n",
       "      <td>40.416331</td>\n",
       "      <td>-3.723991</td>\n",
       "      <td>CentrosAsistenciaDrogodependientes</td>\n",
       "    </tr>\n",
       "    <tr>\n",
       "      <th>2</th>\n",
       "      <td>2</td>\n",
       "      <td>Centro de Atención a las Adicciones (CAD) de A...</td>\n",
       "      <td>PASEO CHOPERA 12</td>\n",
       "      <td>ARGANZUELA</td>\n",
       "      <td>28045</td>\n",
       "      <td>40.393057</td>\n",
       "      <td>-3.698067</td>\n",
       "      <td>CentrosAsistenciaDrogodependientes</td>\n",
       "    </tr>\n",
       "    <tr>\n",
       "      <th>3</th>\n",
       "      <td>3</td>\n",
       "      <td>Centro de Atención a las Adicciones (CAD) de H...</td>\n",
       "      <td>CALLE MINAYA 7</td>\n",
       "      <td>HORTALEZA</td>\n",
       "      <td>28043</td>\n",
       "      <td>40.468289</td>\n",
       "      <td>-3.636150</td>\n",
       "      <td>CentrosAsistenciaDrogodependientes</td>\n",
       "    </tr>\n",
       "    <tr>\n",
       "      <th>4</th>\n",
       "      <td>4</td>\n",
       "      <td>Centro de Atención a las Adicciones (CAD) de L...</td>\n",
       "      <td>CALLE CAMARENA 10</td>\n",
       "      <td>LATINA</td>\n",
       "      <td>28047</td>\n",
       "      <td>40.395971</td>\n",
       "      <td>-3.756272</td>\n",
       "      <td>CentrosAsistenciaDrogodependientes</td>\n",
       "    </tr>\n",
       "  </tbody>\n",
       "</table>\n",
       "</div>"
      ],
      "text/plain": [
       "   Unnamed: 0                                             NOMBRE  \\\n",
       "0           0  Centro Concertado de Atención a las Adicciones...   \n",
       "1           1  Centro Concertado de Atención a las Adicciones...   \n",
       "2           2  Centro de Atención a las Adicciones (CAD) de A...   \n",
       "3           3  Centro de Atención a las Adicciones (CAD) de H...   \n",
       "4           4  Centro de Atención a las Adicciones (CAD) de L...   \n",
       "\n",
       "                 DIRECCION    DISTRITO  COD_POSTAL    LATITUD  LONGITUD  \\\n",
       "0  CALLE SANTA HORTENSIA 1   CHAMARTIN       28002  40.446053 -3.670277   \n",
       "1       AVENIDA PORTUGAL 0      LATINA       28011  40.416331 -3.723991   \n",
       "2         PASEO CHOPERA 12  ARGANZUELA       28045  40.393057 -3.698067   \n",
       "3           CALLE MINAYA 7   HORTALEZA       28043  40.468289 -3.636150   \n",
       "4        CALLE CAMARENA 10      LATINA       28047  40.395971 -3.756272   \n",
       "\n",
       "                                 TIPO  \n",
       "0  CentrosAsistenciaDrogodependientes  \n",
       "1  CentrosAsistenciaDrogodependientes  \n",
       "2  CentrosAsistenciaDrogodependientes  \n",
       "3  CentrosAsistenciaDrogodependientes  \n",
       "4  CentrosAsistenciaDrogodependientes  "
      ]
     },
     "execution_count": 18,
     "metadata": {},
     "output_type": "execute_result"
    }
   ],
   "source": [
    "centros_medicos_clean = pd.read_csv(\"../data/centros_medicos_clean.csv\")\n",
    "centros_medicos_clean.head()"
   ]
  },
  {
   "cell_type": "code",
   "execution_count": 19,
   "metadata": {},
   "outputs": [],
   "source": [
    "calle = \"Calle Tembleque, 52 28024 Madrid\""
   ]
  },
  {
   "cell_type": "code",
   "execution_count": 20,
   "metadata": {},
   "outputs": [],
   "source": [
    "def geocode(calle):\n",
    "    \"\"\"\n",
    "    Saca las coordenadas de una dirección que le des.\n",
    "    \"\"\"\n",
    "    data = requests.get(f\"https://geocode.xyz/{calle}?json=1\").json()\n",
    "    try:\n",
    "        casa = [float(data[\"latt\"]),float(data[\"longt\"])]\n",
    "        return casa\n",
    "    except:\n",
    "        return data"
   ]
  },
  {
   "cell_type": "code",
   "execution_count": 21,
   "metadata": {},
   "outputs": [
    {
     "data": {
      "text/plain": [
       "[40.4046, -3.71294]"
      ]
     },
     "execution_count": 21,
     "metadata": {},
     "output_type": "execute_result"
    }
   ],
   "source": [
    "casa = geocode(calle)\n",
    "casa"
   ]
  },
  {
   "cell_type": "code",
   "execution_count": 22,
   "metadata": {},
   "outputs": [],
   "source": [
    "def haversine(coord1, coord2):\n",
    "    \n",
    "    '''\n",
    "    Funcion en donde al meterle dos parametros de coordenadas te va a devolver la distancia que hay entre ambos puntos\n",
    "    '''\n",
    "    \n",
    "    R = 6372800  # Earth radius in meters\n",
    "    lat1, lon1 = coord1\n",
    "    lat2, lon2 = coord2\n",
    "    \n",
    "    phi1, phi2 = math.radians(lat1), math.radians(lat2) \n",
    "    dphi       = math.radians(lat2 - lat1)\n",
    "    dlambda    = math.radians(lon2 - lon1)\n",
    "    \n",
    "    a = math.sin(dphi/2)**2 + \\\n",
    "        math.cos(phi1)*math.cos(phi2)*math.sin(dlambda/2)**2\n",
    "    \n",
    "    return 2*R*math.atan2(math.sqrt(a), math.sqrt(1 - a))"
   ]
  },
  {
   "cell_type": "code",
   "execution_count": 23,
   "metadata": {},
   "outputs": [],
   "source": [
    "def distancia_entre_hospital_casa(casa):\n",
    "\n",
    "    '''\n",
    "    Esta funcion lo que coge es la latitud y longitud de la ubicacion de tu casa y te evuelve el nombre del centro medico \n",
    "    mas cercano a tu casa\n",
    "    '''\n",
    "    \n",
    "    for index, row in centros_medicos_clean.iterrows(): \n",
    "        row['LATITUD']\n",
    "        row['LONGITUD']\n",
    "    \n",
    "    centros_medicos_clean['DISTANCIA'] = 0 \n",
    "    \n",
    "    centros_medicos_clean['DISTANCIA'] = centros_medicos_clean.apply(lambda row: haversine((casa), (row['LATITUD'], row['LONGITUD'])), axis=1)\n",
    "    \n",
    "    return (centros_medicos_clean.loc[centros_medicos_clean.DISTANCIA.argmin(), \"NOMBRE\"], math.trunc(centros_medicos_clean.loc[centros_medicos_clean.DISTANCIA.argmin(), \"DISTANCIA\"]))\n",
    "    "
   ]
  },
  {
   "cell_type": "code",
   "execution_count": 24,
   "metadata": {},
   "outputs": [
    {
     "data": {
      "text/plain": [
       "('CMSc Centro Municipal de Salud Comunitaria Arganzuela', 216)"
      ]
     },
     "execution_count": 24,
     "metadata": {},
     "output_type": "execute_result"
    }
   ],
   "source": [
    "distancia_entre_hospital_casa(casa)"
   ]
  },
  {
   "cell_type": "markdown",
   "metadata": {},
   "source": [
    "###  Cálculo de la farmacia más cercana a tu casa\n",
    "\n",
    "- Introducioendo el strind de la dirreccion de tu casa en la funcion creada por la API geocode sacaremos las coordenadas de tu casa.\n",
    "- Posterirmente estas coordenadas las meteremos en otra función calculando asi la distancia con todas las farmacias de Madrid y devolviendo la farmacia más cercana a tu casa"
   ]
  },
  {
   "cell_type": "code",
   "execution_count": 25,
   "metadata": {
    "scrolled": true
   },
   "outputs": [
    {
     "data": {
      "text/html": [
       "<div>\n",
       "<style scoped>\n",
       "    .dataframe tbody tr th:only-of-type {\n",
       "        vertical-align: middle;\n",
       "    }\n",
       "\n",
       "    .dataframe tbody tr th {\n",
       "        vertical-align: top;\n",
       "    }\n",
       "\n",
       "    .dataframe thead th {\n",
       "        text-align: right;\n",
       "    }\n",
       "</style>\n",
       "<table border=\"1\" class=\"dataframe\">\n",
       "  <thead>\n",
       "    <tr style=\"text-align: right;\">\n",
       "      <th></th>\n",
       "      <th>Unnamed: 0</th>\n",
       "      <th>titular_nombre</th>\n",
       "      <th>direccion</th>\n",
       "      <th>municipio_nombre</th>\n",
       "      <th>latitud</th>\n",
       "      <th>longitud</th>\n",
       "    </tr>\n",
       "  </thead>\n",
       "  <tbody>\n",
       "    <tr>\n",
       "      <th>0</th>\n",
       "      <td>0</td>\n",
       "      <td>Amaya Corral Palomino</td>\n",
       "      <td>PLAZA del Dos de Mayo 6</td>\n",
       "      <td>Madrid</td>\n",
       "      <td>40.427326</td>\n",
       "      <td>-3.704186</td>\n",
       "    </tr>\n",
       "    <tr>\n",
       "      <th>1</th>\n",
       "      <td>1</td>\n",
       "      <td>Montserrat Gimenez Mestre</td>\n",
       "      <td>CALLE de Ríos Rosas 50</td>\n",
       "      <td>Madrid</td>\n",
       "      <td>40.441590</td>\n",
       "      <td>-3.696234</td>\n",
       "    </tr>\n",
       "    <tr>\n",
       "      <th>2</th>\n",
       "      <td>2</td>\n",
       "      <td>Justo Aquilino Corral Aragon</td>\n",
       "      <td>CALLE de Argensola 12</td>\n",
       "      <td>Madrid</td>\n",
       "      <td>40.425284</td>\n",
       "      <td>-3.694781</td>\n",
       "    </tr>\n",
       "    <tr>\n",
       "      <th>3</th>\n",
       "      <td>3</td>\n",
       "      <td>Irene Arroita Del Campo</td>\n",
       "      <td>CALLE de Alcalá 98</td>\n",
       "      <td>Madrid</td>\n",
       "      <td>40.424996</td>\n",
       "      <td>-3.674844</td>\n",
       "    </tr>\n",
       "    <tr>\n",
       "      <th>4</th>\n",
       "      <td>4</td>\n",
       "      <td>Esther Sansi Ponsico</td>\n",
       "      <td>PLAZA de Salesas 7</td>\n",
       "      <td>Madrid</td>\n",
       "      <td>40.423736</td>\n",
       "      <td>-3.694447</td>\n",
       "    </tr>\n",
       "  </tbody>\n",
       "</table>\n",
       "</div>"
      ],
      "text/plain": [
       "   Unnamed: 0                titular_nombre                direccion  \\\n",
       "0           0         Amaya Corral Palomino  PLAZA del Dos de Mayo 6   \n",
       "1           1     Montserrat Gimenez Mestre   CALLE de Ríos Rosas 50   \n",
       "2           2  Justo Aquilino Corral Aragon    CALLE de Argensola 12   \n",
       "3           3       Irene Arroita Del Campo       CALLE de Alcalá 98   \n",
       "4           4          Esther Sansi Ponsico       PLAZA de Salesas 7   \n",
       "\n",
       "  municipio_nombre    latitud  longitud  \n",
       "0           Madrid  40.427326 -3.704186  \n",
       "1           Madrid  40.441590 -3.696234  \n",
       "2           Madrid  40.425284 -3.694781  \n",
       "3           Madrid  40.424996 -3.674844  \n",
       "4           Madrid  40.423736 -3.694447  "
      ]
     },
     "execution_count": 25,
     "metadata": {},
     "output_type": "execute_result"
    }
   ],
   "source": [
    "farmacias_clean = pd.read_csv(\"../data/farmacias_clean.csv\")\n",
    "farmacias_clean.head()"
   ]
  },
  {
   "cell_type": "code",
   "execution_count": 26,
   "metadata": {},
   "outputs": [
    {
     "data": {
      "text/plain": [
       "[40.4046, -3.71294]"
      ]
     },
     "execution_count": 26,
     "metadata": {},
     "output_type": "execute_result"
    }
   ],
   "source": [
    "casa = geocode(calle)\n",
    "casa"
   ]
  },
  {
   "cell_type": "code",
   "execution_count": 27,
   "metadata": {},
   "outputs": [],
   "source": [
    "def distancia_entre_farmacia_casa(casa):\n",
    "    for index, row in farmacias_clean.iterrows(): \n",
    "        row['latitud']\n",
    "        row['longitud']\n",
    "    \n",
    "    farmacias_clean['DISTANCIA'] = 0 \n",
    "    \n",
    "    farmacias_clean['DISTANCIA'] = farmacias_clean.apply(lambda row: haversine(casa, (row['latitud'], row['longitud'])), axis=1)\n",
    "    \n",
    "    return (farmacias_clean.loc[farmacias_clean.DISTANCIA.argmin(), \"titular_nombre\"], farmacias_clean.loc[farmacias_clean.DISTANCIA.argmin(), \"DISTANCIA\"])"
   ]
  },
  {
   "cell_type": "code",
   "execution_count": 28,
   "metadata": {},
   "outputs": [
    {
     "data": {
      "text/plain": [
       "('Maria Jose Muñoz Moya', 40.45691826489327)"
      ]
     },
     "execution_count": 28,
     "metadata": {},
     "output_type": "execute_result"
    }
   ],
   "source": [
    "distancia_entre_farmacia_casa(casa)"
   ]
  },
  {
   "cell_type": "markdown",
   "metadata": {},
   "source": [
    "### Mapa para visualizar las 3 localizaciones recibidas:\n",
    "    - Direccioón de tu casa\n",
    "    - Dirección de Hospital más cercano\n",
    "    - Dirección de la farmacia más cercana"
   ]
  },
  {
   "cell_type": "markdown",
   "metadata": {},
   "source": [
    "#### Función que saca las coordenadas de la farmacia más cercana a la dirreción que se haya introducido"
   ]
  },
  {
   "cell_type": "code",
   "execution_count": 64,
   "metadata": {},
   "outputs": [],
   "source": [
    "def coordenadas_farmacia_mas_cercana(casa):\n",
    "    for index, row in farmacias_clean.iterrows(): \n",
    "        row['latitud']\n",
    "        row['longitud']\n",
    "     \n",
    "    farmacias_clean['DISTANCIA'] = 0\n",
    "    farmacias_clean['DISTANCIA'] = farmacias_clean.apply(lambda row: haversine(casa, (row['latitud'], row['longitud'])), axis=1)\n",
    "    \n",
    "    return (farmacias_clean.loc[farmacias_clean.DISTANCIA.argmin(), \"latitud\"], farmacias_clean.loc[farmacias_clean.DISTANCIA.argmin(), \"longitud\"])"
   ]
  },
  {
   "cell_type": "code",
   "execution_count": 65,
   "metadata": {},
   "outputs": [
    {
     "data": {
      "text/plain": [
       "(40.40494855569637, -3.7128034492139332)"
      ]
     },
     "execution_count": 65,
     "metadata": {},
     "output_type": "execute_result"
    }
   ],
   "source": [
    "coord_farm_cercana = coordenadas_farmacia_mas_cercana(casa)\n",
    "coord_farm_cercana"
   ]
  },
  {
   "cell_type": "markdown",
   "metadata": {},
   "source": [
    "#### Función que saca las coordenadas del hospital más cercano a la dirección que se haya introducido"
   ]
  },
  {
   "cell_type": "code",
   "execution_count": 66,
   "metadata": {},
   "outputs": [],
   "source": [
    "def coordenadas_hospital_mas_cercano(casa):\n",
    "\n",
    "    '''\n",
    "    Esta funcion lo que coge es la latitud y longitud de la ubicacion de tu casa y te evuelve el nombre del centro medico \n",
    "    mas cercano a tu casa\n",
    "    '''\n",
    "    \n",
    "    for index, row in centros_medicos_clean.iterrows(): \n",
    "        row['LATITUD']\n",
    "        row['LONGITUD']\n",
    "    \n",
    "    centros_medicos_clean['DISTANCIA'] = 0 \n",
    "    \n",
    "    centros_medicos_clean['DISTANCIA'] = centros_medicos_clean.apply(lambda row: haversine((casa), (row['LATITUD'], row['LONGITUD'])), axis=1)\n",
    "    \n",
    "    return (centros_medicos_clean.loc[centros_medicos_clean.DISTANCIA.argmin(), \"LATITUD\"], (centros_medicos_clean.loc[centros_medicos_clean.DISTANCIA.argmin(), \"LONGITUD\"]))\n",
    "    "
   ]
  },
  {
   "cell_type": "code",
   "execution_count": 67,
   "metadata": {},
   "outputs": [
    {
     "data": {
      "text/plain": [
       "(40.4056915626929, -3.71081961282155)"
      ]
     },
     "execution_count": 67,
     "metadata": {},
     "output_type": "execute_result"
    }
   ],
   "source": [
    "coord_hospital_cercano = coordenadas_hospital_mas_cercano(casa)\n",
    "coord_hospital_cercano"
   ]
  },
  {
   "cell_type": "markdown",
   "metadata": {},
   "source": [
    "#### Mapa con las tres variables de coordenadas sacadas"
   ]
  },
  {
   "cell_type": "code",
   "execution_count": 68,
   "metadata": {},
   "outputs": [],
   "source": [
    "# VARIABLES DE LOS ICONOS (en visual no tienes que ponerlos porque ya estan definidos)\n",
    "path = \"../icons/{}\".format\n",
    "\n",
    "icon_hosp = path(\"Hospital-clinica-sanatorio-icon.png\")\n",
    "icon_farm = path(\"cruz-icon.png\")"
   ]
  },
  {
   "cell_type": "code",
   "execution_count": 69,
   "metadata": {
    "scrolled": true
   },
   "outputs": [
    {
     "name": "stdout",
     "output_type": "stream",
     "text": [
      "[40.4046, -3.71294]\n",
      "(40.40494855569637, -3.7128034492139332)\n",
      "(40.4056915626929, -3.71081961282155)\n"
     ]
    }
   ],
   "source": [
    "# Las printeo solamente para ver que no hay ningun error\n",
    "print(casa)\n",
    "print(coord_farm_cercana)\n",
    "print(coord_hospital_cercano)"
   ]
  },
  {
   "cell_type": "code",
   "execution_count": 70,
   "metadata": {},
   "outputs": [],
   "source": [
    "def distancia_visual(casa):\n",
    "    coord_farm_cercana = coordenadas_farmacia_mas_cercana(casa)\n",
    "    coord_hospital_cercano = coordenadas_hospital_mas_cercano(casa)\n",
    "    map_final = Map(location = casa, zoom_start=15, control_scale = True)\n",
    "    #HOSPiTAL\n",
    "    icon = CustomIcon( \n",
    "            icon_hosp, \n",
    "            icon_size=(40, 50))\n",
    "    \n",
    "    loc = coord_hospital_cercano\n",
    "    hospital_cercano = Marker(location = loc, icon = icon, tooltip = \"El hospital mas cercano\")\n",
    "    hospital_cercano.add_to(map_final)\n",
    "\n",
    "\n",
    "    #FARMACIA\n",
    "    icon = CustomIcon(\n",
    "            icon_farm,\n",
    "            icon_size=(40, 50))\n",
    "\n",
    "    loc = coord_farm_cercana\n",
    "    farmacia_cercana = Marker(location = loc,icon = icon, tooltip = \"La farmacia mas cercana\")\n",
    "    farmacia_cercana.add_to(map_final)\n",
    "\n",
    "    #HOME\n",
    "    icon = Icon(color = \"red\",\n",
    "                prefix = \"fa\",\n",
    "                icon = \"home\",\n",
    "                icon_color = \"white\",\n",
    "                icon_size = (40, 50))\n",
    "    loc = casa\n",
    "    mi_casa = Marker(location = loc, icon = icon, tooltip = \"Tu casa\")\n",
    "    mi_casa.add_to(map_final)\n",
    "\n",
    "\n",
    "    return map_final"
   ]
  },
  {
   "cell_type": "code",
   "execution_count": 71,
   "metadata": {},
   "outputs": [
    {
     "ename": "TypeError",
     "evalue": "cannot unpack non-iterable Map object",
     "output_type": "error",
     "traceback": [
      "\u001b[1;31m---------------------------------------------------------------------------\u001b[0m",
      "\u001b[1;31mTypeError\u001b[0m                                 Traceback (most recent call last)",
      "\u001b[1;32m<ipython-input-71-749035627567>\u001b[0m in \u001b[0;36m<module>\u001b[1;34m\u001b[0m\n\u001b[1;32m----> 1\u001b[1;33m \u001b[0mdistancia_visual\u001b[0m\u001b[1;33m(\u001b[0m\u001b[0mmap_final\u001b[0m\u001b[1;33m)\u001b[0m\u001b[1;33m\u001b[0m\u001b[1;33m\u001b[0m\u001b[0m\n\u001b[0m",
      "\u001b[1;32m<ipython-input-70-23e7ea66a78b>\u001b[0m in \u001b[0;36mdistancia_visual\u001b[1;34m(casa)\u001b[0m\n\u001b[0;32m      1\u001b[0m \u001b[1;32mdef\u001b[0m \u001b[0mdistancia_visual\u001b[0m\u001b[1;33m(\u001b[0m\u001b[0mcasa\u001b[0m\u001b[1;33m)\u001b[0m\u001b[1;33m:\u001b[0m\u001b[1;33m\u001b[0m\u001b[1;33m\u001b[0m\u001b[0m\n\u001b[1;32m----> 2\u001b[1;33m     \u001b[0mcoord_farm_cercana\u001b[0m \u001b[1;33m=\u001b[0m \u001b[0mcoordenadas_farmacia_mas_cercana\u001b[0m\u001b[1;33m(\u001b[0m\u001b[0mcasa\u001b[0m\u001b[1;33m)\u001b[0m\u001b[1;33m\u001b[0m\u001b[1;33m\u001b[0m\u001b[0m\n\u001b[0m\u001b[0;32m      3\u001b[0m     \u001b[0mcoord_hospital_cercano\u001b[0m \u001b[1;33m=\u001b[0m \u001b[0mcoordenadas_hospital_mas_cercano\u001b[0m\u001b[1;33m(\u001b[0m\u001b[0mcasa\u001b[0m\u001b[1;33m)\u001b[0m\u001b[1;33m\u001b[0m\u001b[1;33m\u001b[0m\u001b[0m\n\u001b[0;32m      4\u001b[0m     \u001b[0mmap_final\u001b[0m \u001b[1;33m=\u001b[0m \u001b[0mMap\u001b[0m\u001b[1;33m(\u001b[0m\u001b[0mlocation\u001b[0m \u001b[1;33m=\u001b[0m \u001b[0mcasa\u001b[0m\u001b[1;33m,\u001b[0m \u001b[0mzoom_start\u001b[0m\u001b[1;33m=\u001b[0m\u001b[1;36m15\u001b[0m\u001b[1;33m,\u001b[0m \u001b[0mcontrol_scale\u001b[0m \u001b[1;33m=\u001b[0m \u001b[1;32mTrue\u001b[0m\u001b[1;33m)\u001b[0m\u001b[1;33m\u001b[0m\u001b[1;33m\u001b[0m\u001b[0m\n\u001b[0;32m      5\u001b[0m     \u001b[1;31m#HOSPiTAL\u001b[0m\u001b[1;33m\u001b[0m\u001b[1;33m\u001b[0m\u001b[1;33m\u001b[0m\u001b[0m\n",
      "\u001b[1;32m<ipython-input-64-e404e7531ff8>\u001b[0m in \u001b[0;36mcoordenadas_farmacia_mas_cercana\u001b[1;34m(casa)\u001b[0m\n\u001b[0;32m      5\u001b[0m \u001b[1;33m\u001b[0m\u001b[0m\n\u001b[0;32m      6\u001b[0m     \u001b[0mfarmacias_clean\u001b[0m\u001b[1;33m[\u001b[0m\u001b[1;34m'DISTANCIA'\u001b[0m\u001b[1;33m]\u001b[0m \u001b[1;33m=\u001b[0m \u001b[1;36m0\u001b[0m\u001b[1;33m\u001b[0m\u001b[1;33m\u001b[0m\u001b[0m\n\u001b[1;32m----> 7\u001b[1;33m     \u001b[0mfarmacias_clean\u001b[0m\u001b[1;33m[\u001b[0m\u001b[1;34m'DISTANCIA'\u001b[0m\u001b[1;33m]\u001b[0m \u001b[1;33m=\u001b[0m \u001b[0mfarmacias_clean\u001b[0m\u001b[1;33m.\u001b[0m\u001b[0mapply\u001b[0m\u001b[1;33m(\u001b[0m\u001b[1;32mlambda\u001b[0m \u001b[0mrow\u001b[0m\u001b[1;33m:\u001b[0m \u001b[0mhaversine\u001b[0m\u001b[1;33m(\u001b[0m\u001b[0mcasa\u001b[0m\u001b[1;33m,\u001b[0m \u001b[1;33m(\u001b[0m\u001b[0mrow\u001b[0m\u001b[1;33m[\u001b[0m\u001b[1;34m'latitud'\u001b[0m\u001b[1;33m]\u001b[0m\u001b[1;33m,\u001b[0m \u001b[0mrow\u001b[0m\u001b[1;33m[\u001b[0m\u001b[1;34m'longitud'\u001b[0m\u001b[1;33m]\u001b[0m\u001b[1;33m)\u001b[0m\u001b[1;33m)\u001b[0m\u001b[1;33m,\u001b[0m \u001b[0maxis\u001b[0m\u001b[1;33m=\u001b[0m\u001b[1;36m1\u001b[0m\u001b[1;33m)\u001b[0m\u001b[1;33m\u001b[0m\u001b[1;33m\u001b[0m\u001b[0m\n\u001b[0m\u001b[0;32m      8\u001b[0m \u001b[1;33m\u001b[0m\u001b[0m\n\u001b[0;32m      9\u001b[0m     \u001b[1;32mreturn\u001b[0m \u001b[1;33m(\u001b[0m\u001b[0mfarmacias_clean\u001b[0m\u001b[1;33m.\u001b[0m\u001b[0mloc\u001b[0m\u001b[1;33m[\u001b[0m\u001b[0mfarmacias_clean\u001b[0m\u001b[1;33m.\u001b[0m\u001b[0mDISTANCIA\u001b[0m\u001b[1;33m.\u001b[0m\u001b[0margmin\u001b[0m\u001b[1;33m(\u001b[0m\u001b[1;33m)\u001b[0m\u001b[1;33m,\u001b[0m \u001b[1;34m\"latitud\"\u001b[0m\u001b[1;33m]\u001b[0m\u001b[1;33m,\u001b[0m \u001b[0mfarmacias_clean\u001b[0m\u001b[1;33m.\u001b[0m\u001b[0mloc\u001b[0m\u001b[1;33m[\u001b[0m\u001b[0mfarmacias_clean\u001b[0m\u001b[1;33m.\u001b[0m\u001b[0mDISTANCIA\u001b[0m\u001b[1;33m.\u001b[0m\u001b[0margmin\u001b[0m\u001b[1;33m(\u001b[0m\u001b[1;33m)\u001b[0m\u001b[1;33m,\u001b[0m \u001b[1;34m\"longitud\"\u001b[0m\u001b[1;33m]\u001b[0m\u001b[1;33m)\u001b[0m\u001b[1;33m\u001b[0m\u001b[1;33m\u001b[0m\u001b[0m\n",
      "\u001b[1;32mc:\\users\\leticia\\documents\\miniconda3\\lib\\site-packages\\pandas\\core\\frame.py\u001b[0m in \u001b[0;36mapply\u001b[1;34m(self, func, axis, raw, result_type, args, **kwds)\u001b[0m\n\u001b[0;32m   7546\u001b[0m             \u001b[0mkwds\u001b[0m\u001b[1;33m=\u001b[0m\u001b[0mkwds\u001b[0m\u001b[1;33m,\u001b[0m\u001b[1;33m\u001b[0m\u001b[1;33m\u001b[0m\u001b[0m\n\u001b[0;32m   7547\u001b[0m         )\n\u001b[1;32m-> 7548\u001b[1;33m         \u001b[1;32mreturn\u001b[0m \u001b[0mop\u001b[0m\u001b[1;33m.\u001b[0m\u001b[0mget_result\u001b[0m\u001b[1;33m(\u001b[0m\u001b[1;33m)\u001b[0m\u001b[1;33m\u001b[0m\u001b[1;33m\u001b[0m\u001b[0m\n\u001b[0m\u001b[0;32m   7549\u001b[0m \u001b[1;33m\u001b[0m\u001b[0m\n\u001b[0;32m   7550\u001b[0m     \u001b[1;32mdef\u001b[0m \u001b[0mapplymap\u001b[0m\u001b[1;33m(\u001b[0m\u001b[0mself\u001b[0m\u001b[1;33m,\u001b[0m \u001b[0mfunc\u001b[0m\u001b[1;33m)\u001b[0m \u001b[1;33m->\u001b[0m \u001b[1;34m\"DataFrame\"\u001b[0m\u001b[1;33m:\u001b[0m\u001b[1;33m\u001b[0m\u001b[1;33m\u001b[0m\u001b[0m\n",
      "\u001b[1;32mc:\\users\\leticia\\documents\\miniconda3\\lib\\site-packages\\pandas\\core\\apply.py\u001b[0m in \u001b[0;36mget_result\u001b[1;34m(self)\u001b[0m\n\u001b[0;32m    178\u001b[0m             \u001b[1;32mreturn\u001b[0m \u001b[0mself\u001b[0m\u001b[1;33m.\u001b[0m\u001b[0mapply_raw\u001b[0m\u001b[1;33m(\u001b[0m\u001b[1;33m)\u001b[0m\u001b[1;33m\u001b[0m\u001b[1;33m\u001b[0m\u001b[0m\n\u001b[0;32m    179\u001b[0m \u001b[1;33m\u001b[0m\u001b[0m\n\u001b[1;32m--> 180\u001b[1;33m         \u001b[1;32mreturn\u001b[0m \u001b[0mself\u001b[0m\u001b[1;33m.\u001b[0m\u001b[0mapply_standard\u001b[0m\u001b[1;33m(\u001b[0m\u001b[1;33m)\u001b[0m\u001b[1;33m\u001b[0m\u001b[1;33m\u001b[0m\u001b[0m\n\u001b[0m\u001b[0;32m    181\u001b[0m \u001b[1;33m\u001b[0m\u001b[0m\n\u001b[0;32m    182\u001b[0m     \u001b[1;32mdef\u001b[0m \u001b[0mapply_empty_result\u001b[0m\u001b[1;33m(\u001b[0m\u001b[0mself\u001b[0m\u001b[1;33m)\u001b[0m\u001b[1;33m:\u001b[0m\u001b[1;33m\u001b[0m\u001b[1;33m\u001b[0m\u001b[0m\n",
      "\u001b[1;32mc:\\users\\leticia\\documents\\miniconda3\\lib\\site-packages\\pandas\\core\\apply.py\u001b[0m in \u001b[0;36mapply_standard\u001b[1;34m(self)\u001b[0m\n\u001b[0;32m    269\u001b[0m \u001b[1;33m\u001b[0m\u001b[0m\n\u001b[0;32m    270\u001b[0m     \u001b[1;32mdef\u001b[0m \u001b[0mapply_standard\u001b[0m\u001b[1;33m(\u001b[0m\u001b[0mself\u001b[0m\u001b[1;33m)\u001b[0m\u001b[1;33m:\u001b[0m\u001b[1;33m\u001b[0m\u001b[1;33m\u001b[0m\u001b[0m\n\u001b[1;32m--> 271\u001b[1;33m         \u001b[0mresults\u001b[0m\u001b[1;33m,\u001b[0m \u001b[0mres_index\u001b[0m \u001b[1;33m=\u001b[0m \u001b[0mself\u001b[0m\u001b[1;33m.\u001b[0m\u001b[0mapply_series_generator\u001b[0m\u001b[1;33m(\u001b[0m\u001b[1;33m)\u001b[0m\u001b[1;33m\u001b[0m\u001b[1;33m\u001b[0m\u001b[0m\n\u001b[0m\u001b[0;32m    272\u001b[0m \u001b[1;33m\u001b[0m\u001b[0m\n\u001b[0;32m    273\u001b[0m         \u001b[1;31m# wrap results\u001b[0m\u001b[1;33m\u001b[0m\u001b[1;33m\u001b[0m\u001b[1;33m\u001b[0m\u001b[0m\n",
      "\u001b[1;32mc:\\users\\leticia\\documents\\miniconda3\\lib\\site-packages\\pandas\\core\\apply.py\u001b[0m in \u001b[0;36mapply_series_generator\u001b[1;34m(self)\u001b[0m\n\u001b[0;32m    298\u001b[0m                 \u001b[1;32mfor\u001b[0m \u001b[0mi\u001b[0m\u001b[1;33m,\u001b[0m \u001b[0mv\u001b[0m \u001b[1;32min\u001b[0m \u001b[0menumerate\u001b[0m\u001b[1;33m(\u001b[0m\u001b[0mseries_gen\u001b[0m\u001b[1;33m)\u001b[0m\u001b[1;33m:\u001b[0m\u001b[1;33m\u001b[0m\u001b[1;33m\u001b[0m\u001b[0m\n\u001b[0;32m    299\u001b[0m                     \u001b[1;31m# ignore SettingWithCopy here in case the user mutates\u001b[0m\u001b[1;33m\u001b[0m\u001b[1;33m\u001b[0m\u001b[1;33m\u001b[0m\u001b[0m\n\u001b[1;32m--> 300\u001b[1;33m                     \u001b[0mresults\u001b[0m\u001b[1;33m[\u001b[0m\u001b[0mi\u001b[0m\u001b[1;33m]\u001b[0m \u001b[1;33m=\u001b[0m \u001b[0mself\u001b[0m\u001b[1;33m.\u001b[0m\u001b[0mf\u001b[0m\u001b[1;33m(\u001b[0m\u001b[0mv\u001b[0m\u001b[1;33m)\u001b[0m\u001b[1;33m\u001b[0m\u001b[1;33m\u001b[0m\u001b[0m\n\u001b[0m\u001b[0;32m    301\u001b[0m                     \u001b[1;32mif\u001b[0m \u001b[0misinstance\u001b[0m\u001b[1;33m(\u001b[0m\u001b[0mresults\u001b[0m\u001b[1;33m[\u001b[0m\u001b[0mi\u001b[0m\u001b[1;33m]\u001b[0m\u001b[1;33m,\u001b[0m \u001b[0mABCSeries\u001b[0m\u001b[1;33m)\u001b[0m\u001b[1;33m:\u001b[0m\u001b[1;33m\u001b[0m\u001b[1;33m\u001b[0m\u001b[0m\n\u001b[0;32m    302\u001b[0m                         \u001b[1;31m# If we have a view on v, we need to make a copy because\u001b[0m\u001b[1;33m\u001b[0m\u001b[1;33m\u001b[0m\u001b[1;33m\u001b[0m\u001b[0m\n",
      "\u001b[1;32m<ipython-input-64-e404e7531ff8>\u001b[0m in \u001b[0;36m<lambda>\u001b[1;34m(row)\u001b[0m\n\u001b[0;32m      5\u001b[0m \u001b[1;33m\u001b[0m\u001b[0m\n\u001b[0;32m      6\u001b[0m     \u001b[0mfarmacias_clean\u001b[0m\u001b[1;33m[\u001b[0m\u001b[1;34m'DISTANCIA'\u001b[0m\u001b[1;33m]\u001b[0m \u001b[1;33m=\u001b[0m \u001b[1;36m0\u001b[0m\u001b[1;33m\u001b[0m\u001b[1;33m\u001b[0m\u001b[0m\n\u001b[1;32m----> 7\u001b[1;33m     \u001b[0mfarmacias_clean\u001b[0m\u001b[1;33m[\u001b[0m\u001b[1;34m'DISTANCIA'\u001b[0m\u001b[1;33m]\u001b[0m \u001b[1;33m=\u001b[0m \u001b[0mfarmacias_clean\u001b[0m\u001b[1;33m.\u001b[0m\u001b[0mapply\u001b[0m\u001b[1;33m(\u001b[0m\u001b[1;32mlambda\u001b[0m \u001b[0mrow\u001b[0m\u001b[1;33m:\u001b[0m \u001b[0mhaversine\u001b[0m\u001b[1;33m(\u001b[0m\u001b[0mcasa\u001b[0m\u001b[1;33m,\u001b[0m \u001b[1;33m(\u001b[0m\u001b[0mrow\u001b[0m\u001b[1;33m[\u001b[0m\u001b[1;34m'latitud'\u001b[0m\u001b[1;33m]\u001b[0m\u001b[1;33m,\u001b[0m \u001b[0mrow\u001b[0m\u001b[1;33m[\u001b[0m\u001b[1;34m'longitud'\u001b[0m\u001b[1;33m]\u001b[0m\u001b[1;33m)\u001b[0m\u001b[1;33m)\u001b[0m\u001b[1;33m,\u001b[0m \u001b[0maxis\u001b[0m\u001b[1;33m=\u001b[0m\u001b[1;36m1\u001b[0m\u001b[1;33m)\u001b[0m\u001b[1;33m\u001b[0m\u001b[1;33m\u001b[0m\u001b[0m\n\u001b[0m\u001b[0;32m      8\u001b[0m \u001b[1;33m\u001b[0m\u001b[0m\n\u001b[0;32m      9\u001b[0m     \u001b[1;32mreturn\u001b[0m \u001b[1;33m(\u001b[0m\u001b[0mfarmacias_clean\u001b[0m\u001b[1;33m.\u001b[0m\u001b[0mloc\u001b[0m\u001b[1;33m[\u001b[0m\u001b[0mfarmacias_clean\u001b[0m\u001b[1;33m.\u001b[0m\u001b[0mDISTANCIA\u001b[0m\u001b[1;33m.\u001b[0m\u001b[0margmin\u001b[0m\u001b[1;33m(\u001b[0m\u001b[1;33m)\u001b[0m\u001b[1;33m,\u001b[0m \u001b[1;34m\"latitud\"\u001b[0m\u001b[1;33m]\u001b[0m\u001b[1;33m,\u001b[0m \u001b[0mfarmacias_clean\u001b[0m\u001b[1;33m.\u001b[0m\u001b[0mloc\u001b[0m\u001b[1;33m[\u001b[0m\u001b[0mfarmacias_clean\u001b[0m\u001b[1;33m.\u001b[0m\u001b[0mDISTANCIA\u001b[0m\u001b[1;33m.\u001b[0m\u001b[0margmin\u001b[0m\u001b[1;33m(\u001b[0m\u001b[1;33m)\u001b[0m\u001b[1;33m,\u001b[0m \u001b[1;34m\"longitud\"\u001b[0m\u001b[1;33m]\u001b[0m\u001b[1;33m)\u001b[0m\u001b[1;33m\u001b[0m\u001b[1;33m\u001b[0m\u001b[0m\n",
      "\u001b[1;32m<ipython-input-22-d99285051170>\u001b[0m in \u001b[0;36mhaversine\u001b[1;34m(coord1, coord2)\u001b[0m\n\u001b[0;32m      6\u001b[0m \u001b[1;33m\u001b[0m\u001b[0m\n\u001b[0;32m      7\u001b[0m     \u001b[0mR\u001b[0m \u001b[1;33m=\u001b[0m \u001b[1;36m6372800\u001b[0m  \u001b[1;31m# Earth radius in meters\u001b[0m\u001b[1;33m\u001b[0m\u001b[1;33m\u001b[0m\u001b[0m\n\u001b[1;32m----> 8\u001b[1;33m     \u001b[0mlat1\u001b[0m\u001b[1;33m,\u001b[0m \u001b[0mlon1\u001b[0m \u001b[1;33m=\u001b[0m \u001b[0mcoord1\u001b[0m\u001b[1;33m\u001b[0m\u001b[1;33m\u001b[0m\u001b[0m\n\u001b[0m\u001b[0;32m      9\u001b[0m     \u001b[0mlat2\u001b[0m\u001b[1;33m,\u001b[0m \u001b[0mlon2\u001b[0m \u001b[1;33m=\u001b[0m \u001b[0mcoord2\u001b[0m\u001b[1;33m\u001b[0m\u001b[1;33m\u001b[0m\u001b[0m\n\u001b[0;32m     10\u001b[0m \u001b[1;33m\u001b[0m\u001b[0m\n",
      "\u001b[1;31mTypeError\u001b[0m: cannot unpack non-iterable Map object"
     ]
    }
   ],
   "source": [
    "distancia_visual(map_final)"
   ]
  },
  {
   "cell_type": "code",
   "execution_count": 72,
   "metadata": {},
   "outputs": [
    {
     "data": {
      "text/html": [
       "<div style=\"width:100%;\"><div style=\"position:relative;width:100%;height:0;padding-bottom:60%;\"><span style=\"color:#565656\">Make this Notebook Trusted to load map: File -> Trust Notebook</span><iframe src=\"about:blank\" style=\"position:absolute;width:100%;height:100%;left:0;top:0;border:none !important;\" data-html=PCFET0NUWVBFIGh0bWw+CjxoZWFkPiAgICAKICAgIDxtZXRhIGh0dHAtZXF1aXY9ImNvbnRlbnQtdHlwZSIgY29udGVudD0idGV4dC9odG1sOyBjaGFyc2V0PVVURi04IiAvPgogICAgCiAgICAgICAgPHNjcmlwdD4KICAgICAgICAgICAgTF9OT19UT1VDSCA9IGZhbHNlOwogICAgICAgICAgICBMX0RJU0FCTEVfM0QgPSBmYWxzZTsKICAgICAgICA8L3NjcmlwdD4KICAgIAogICAgPHNjcmlwdCBzcmM9Imh0dHBzOi8vY2RuLmpzZGVsaXZyLm5ldC9ucG0vbGVhZmxldEAxLjYuMC9kaXN0L2xlYWZsZXQuanMiPjwvc2NyaXB0PgogICAgPHNjcmlwdCBzcmM9Imh0dHBzOi8vY29kZS5qcXVlcnkuY29tL2pxdWVyeS0xLjEyLjQubWluLmpzIj48L3NjcmlwdD4KICAgIDxzY3JpcHQgc3JjPSJodHRwczovL21heGNkbi5ib290c3RyYXBjZG4uY29tL2Jvb3RzdHJhcC8zLjIuMC9qcy9ib290c3RyYXAubWluLmpzIj48L3NjcmlwdD4KICAgIDxzY3JpcHQgc3JjPSJodHRwczovL2NkbmpzLmNsb3VkZmxhcmUuY29tL2FqYXgvbGlicy9MZWFmbGV0LmF3ZXNvbWUtbWFya2Vycy8yLjAuMi9sZWFmbGV0LmF3ZXNvbWUtbWFya2Vycy5qcyI+PC9zY3JpcHQ+CiAgICA8bGluayByZWw9InN0eWxlc2hlZXQiIGhyZWY9Imh0dHBzOi8vY2RuLmpzZGVsaXZyLm5ldC9ucG0vbGVhZmxldEAxLjYuMC9kaXN0L2xlYWZsZXQuY3NzIi8+CiAgICA8bGluayByZWw9InN0eWxlc2hlZXQiIGhyZWY9Imh0dHBzOi8vbWF4Y2RuLmJvb3RzdHJhcGNkbi5jb20vYm9vdHN0cmFwLzMuMi4wL2Nzcy9ib290c3RyYXAubWluLmNzcyIvPgogICAgPGxpbmsgcmVsPSJzdHlsZXNoZWV0IiBocmVmPSJodHRwczovL21heGNkbi5ib290c3RyYXBjZG4uY29tL2Jvb3RzdHJhcC8zLjIuMC9jc3MvYm9vdHN0cmFwLXRoZW1lLm1pbi5jc3MiLz4KICAgIDxsaW5rIHJlbD0ic3R5bGVzaGVldCIgaHJlZj0iaHR0cHM6Ly9tYXhjZG4uYm9vdHN0cmFwY2RuLmNvbS9mb250LWF3ZXNvbWUvNC42LjMvY3NzL2ZvbnQtYXdlc29tZS5taW4uY3NzIi8+CiAgICA8bGluayByZWw9InN0eWxlc2hlZXQiIGhyZWY9Imh0dHBzOi8vY2RuanMuY2xvdWRmbGFyZS5jb20vYWpheC9saWJzL0xlYWZsZXQuYXdlc29tZS1tYXJrZXJzLzIuMC4yL2xlYWZsZXQuYXdlc29tZS1tYXJrZXJzLmNzcyIvPgogICAgPGxpbmsgcmVsPSJzdHlsZXNoZWV0IiBocmVmPSJodHRwczovL3Jhd2Nkbi5naXRoYWNrLmNvbS9weXRob24tdmlzdWFsaXphdGlvbi9mb2xpdW0vbWFzdGVyL2ZvbGl1bS90ZW1wbGF0ZXMvbGVhZmxldC5hd2Vzb21lLnJvdGF0ZS5jc3MiLz4KICAgIDxzdHlsZT5odG1sLCBib2R5IHt3aWR0aDogMTAwJTtoZWlnaHQ6IDEwMCU7bWFyZ2luOiAwO3BhZGRpbmc6IDA7fTwvc3R5bGU+CiAgICA8c3R5bGU+I21hcCB7cG9zaXRpb246YWJzb2x1dGU7dG9wOjA7Ym90dG9tOjA7cmlnaHQ6MDtsZWZ0OjA7fTwvc3R5bGU+CiAgICAKICAgICAgICAgICAgPG1ldGEgbmFtZT0idmlld3BvcnQiIGNvbnRlbnQ9IndpZHRoPWRldmljZS13aWR0aCwKICAgICAgICAgICAgICAgIGluaXRpYWwtc2NhbGU9MS4wLCBtYXhpbXVtLXNjYWxlPTEuMCwgdXNlci1zY2FsYWJsZT1ubyIgLz4KICAgICAgICAgICAgPHN0eWxlPgogICAgICAgICAgICAgICAgI21hcF81OWM5M2YyYWFlNzU0ZDU5YmE3M2FkNGU2NWVmMGM1MyB7CiAgICAgICAgICAgICAgICAgICAgcG9zaXRpb246IHJlbGF0aXZlOwogICAgICAgICAgICAgICAgICAgIHdpZHRoOiAxMDAuMCU7CiAgICAgICAgICAgICAgICAgICAgaGVpZ2h0OiAxMDAuMCU7CiAgICAgICAgICAgICAgICAgICAgbGVmdDogMC4wJTsKICAgICAgICAgICAgICAgICAgICB0b3A6IDAuMCU7CiAgICAgICAgICAgICAgICB9CiAgICAgICAgICAgIDwvc3R5bGU+CiAgICAgICAgCjwvaGVhZD4KPGJvZHk+ICAgIAogICAgCiAgICAgICAgICAgIDxkaXYgY2xhc3M9ImZvbGl1bS1tYXAiIGlkPSJtYXBfNTljOTNmMmFhZTc1NGQ1OWJhNzNhZDRlNjVlZjBjNTMiID48L2Rpdj4KICAgICAgICAKPC9ib2R5Pgo8c2NyaXB0PiAgICAKICAgIAogICAgICAgICAgICB2YXIgbWFwXzU5YzkzZjJhYWU3NTRkNTliYTczYWQ0ZTY1ZWYwYzUzID0gTC5tYXAoCiAgICAgICAgICAgICAgICAibWFwXzU5YzkzZjJhYWU3NTRkNTliYTczYWQ0ZTY1ZWYwYzUzIiwKICAgICAgICAgICAgICAgIHsKICAgICAgICAgICAgICAgICAgICBjZW50ZXI6IFs0MC40MDQ2LCAtMy43MTI5NF0sCiAgICAgICAgICAgICAgICAgICAgY3JzOiBMLkNSUy5FUFNHMzg1NywKICAgICAgICAgICAgICAgICAgICB6b29tOiAxNSwKICAgICAgICAgICAgICAgICAgICB6b29tQ29udHJvbDogdHJ1ZSwKICAgICAgICAgICAgICAgICAgICBwcmVmZXJDYW52YXM6IGZhbHNlLAogICAgICAgICAgICAgICAgfQogICAgICAgICAgICApOwogICAgICAgICAgICBMLmNvbnRyb2wuc2NhbGUoKS5hZGRUbyhtYXBfNTljOTNmMmFhZTc1NGQ1OWJhNzNhZDRlNjVlZjBjNTMpOwoKICAgICAgICAgICAgCgogICAgICAgIAogICAgCiAgICAgICAgICAgIHZhciB0aWxlX2xheWVyX2JiYzQxODkyZDRiMDRlNjhhNTI4MThkYmQ3NDQ5NTJlID0gTC50aWxlTGF5ZXIoCiAgICAgICAgICAgICAgICAiaHR0cHM6Ly97c30udGlsZS5vcGVuc3RyZWV0bWFwLm9yZy97en0ve3h9L3t5fS5wbmciLAogICAgICAgICAgICAgICAgeyJhdHRyaWJ1dGlvbiI6ICJEYXRhIGJ5IFx1MDAyNmNvcHk7IFx1MDAzY2EgaHJlZj1cImh0dHA6Ly9vcGVuc3RyZWV0bWFwLm9yZ1wiXHUwMDNlT3BlblN0cmVldE1hcFx1MDAzYy9hXHUwMDNlLCB1bmRlciBcdTAwM2NhIGhyZWY9XCJodHRwOi8vd3d3Lm9wZW5zdHJlZXRtYXAub3JnL2NvcHlyaWdodFwiXHUwMDNlT0RiTFx1MDAzYy9hXHUwMDNlLiIsICJkZXRlY3RSZXRpbmEiOiBmYWxzZSwgIm1heE5hdGl2ZVpvb20iOiAxOCwgIm1heFpvb20iOiAxOCwgIm1pblpvb20iOiAwLCAibm9XcmFwIjogZmFsc2UsICJvcGFjaXR5IjogMSwgInN1YmRvbWFpbnMiOiAiYWJjIiwgInRtcyI6IGZhbHNlfQogICAgICAgICAgICApLmFkZFRvKG1hcF81OWM5M2YyYWFlNzU0ZDU5YmE3M2FkNGU2NWVmMGM1Myk7CiAgICAgICAgCiAgICAKICAgICAgICAgICAgdmFyIG1hcmtlcl8wZGI5MTcyNTIxZmI0MTc5YjgwMGZkNTE2ZDlmNDYxZCA9IEwubWFya2VyKAogICAgICAgICAgICAgICAgWzQwLjQwNTY5MTU2MjY5MjksIC0zLjcxMDgxOTYxMjgyMTU1XSwKICAgICAgICAgICAgICAgIHt9CiAgICAgICAgICAgICkuYWRkVG8obWFwXzU5YzkzZjJhYWU3NTRkNTliYTczYWQ0ZTY1ZWYwYzUzKTsKICAgICAgICAKICAgIAogICAgICAgIHZhciBjdXN0b21faWNvbl83N2I4OTJhZDVmOTY0MzU5YTEyMTQ3NzY1MWViZWVmYSA9IEwuaWNvbih7Imljb25TaXplIjogWzQwLCA1MF0sICJpY29uVXJsIjogImRhdGE6aW1hZ2UvcG5nO2Jhc2U2NCxpVkJPUncwS0dnb0FBQUFOU1VoRVVnQUFBT0VBQUFEaENBTUFBQUFKYlNKSUFBQUEzbEJNVkVYLy8vL3I3ZkN5NGZYTjA5cDFnWkNib0tlc3M3enRYRmhZWVd4L3plNlduS1BGNWZQUzUvS3l1Y0dvcjduaDQrZmU2dkhEeWRCT1YyTzQ0dlJ3ZTRsZFpuS0l6dXk2d2NtQWk1blMyTjdzVWs3M3ZyMmJ6K2hrYm52dFgxenRXRlB6bjUzNjI5dnNTMGFwME9TNzB0L3hpSVpxZDRpeXJiWG82KzcrOXZhZ3FMTHI4L2JzdWJxMzR2V3Y1L3VaMS9IODZ1cnZjR3o1ejg3QW5LTHptcGpnY1hIclJEL3ZkWExTb0tucFpHTEF3dEhyMXRqc3pjNzFxYWY5N2UzeWs1RHdmbnZQa3BiUWhvbmVkWGJWZ0lMRmxabTNwcTNyMjkzRnVzamZvNmdPREV6eUFBQUdzMGxFUVZSNG5PM2RmVnZhUEJRR2NBRUZRUVJmRUtIT1J1dHd2QXdReHFZNHAyNWowMzMvTC9RVUt0alNrelFwZ1RUbnlYM3RuNjJseWMrVHBpM3Q3TmFXaVltSmlZbEpjbkp6OXFNeHNJbEY3RUhqeDltTjZ1NUlUbXM0c2gzTElpUTNEU0dXNWRpallVdDF0NlRsNXNLMlBKcy94TEl2Y0ZUeXBrR3NFTStMWlRYME43WkdUcmg4dmtJNkk4M0g2dENtMVc5UlIzdW91cE9yNUNMS056TmVxTzVtN0xSdWVZQXU4VmJUa2Zwb3MvWkFmNGo5cUxxemNmSTQ1Z1c2eExHR3hKWUFjRXJVYjZEZWlnQmQ0cTNxRG92bWlXK1NlWS8xcExyTFloazZZWUxqVC9nSDRHaDFYR3dCTlRvTHJIRUcxRmluWGZFcHZCTkdDNGxHNC9RU0tCQkhEYTFMUmYwVnp6TXdqM0lJeWJPYTdvcm5NanpOY0FsemppNUZiRUNIUWg0aGFTanFzV0JhNEtHUVI1aXoxamlkWnZlbDVTZDROc01sSkQ5RkdtclhtRmtTbHJMU0FwK3Y4UW0vaWpUVTNtYmxlbTNDVDBFWXNidy96cExRc2VieHIyNS9FbW1LS2F5c1RmZ2wwT1dMZVViQmVmSnl0RmdTK0lGODBVRDR5ejlJN2VnWllNdjJEOU5mSWszVjFBaC9yeVQ4TGRKVVFZMXdrRnRCbUJ1SU5MV2pSbWl2SkJ5TE5NV2NUTmNtREU2bHdzS2N5R1JhcWlnUldpc0ppYlREUlZLRmxwQ1FOWmthWVh3aFdVa29Oa3JWQ0ZlYlM4Vk8yNVFJcytPVmhFSkhDK1loZjMzQ3J5dWQwd2hkWENnU1RsWVNUb1RhWXAzVXJFLzR4eitaMnBlTEJPKzlQTDR2OEF1dFAwSnRzVTVxMWlmOEc1aE1GMWVCMzVhdUQ3K0IxNGZrcndiQzRGVHpUdVc1eGhlY2FJU0U3WktzQkhkRU1hRzdHd3ExMWI2dUFMbjJzaVJNZVNsTHlNTUszN1U5Q0xaMWVnakVvelMzd0tRa3BBTU9VeTdob0NQV1ZETURCYWJKRkg2R2VzOGp0RDdySVV5bGJLajNIRUpidENGVlFyQ0lQUGVlUkV1b3JvYXBRYXo3aHdQaGRwUUpPOEIwR2kyMEhrUkxtQ29ycTJGbkZBS1EyNFkvNGEvK3JaRXdVS0hRbld4Q0FoSk1hTEh3TktOVzJIa1JlNXpHRmI2SWwxQnBEYUZka1pVWU82RmlJZVc0VHdVS0h5alVDMTBpZERzZmpoTVBtS29yRmFZNncvQjhBb2FRWVR5Z05PRWVJd2VCTll2QmhmY0RybWVFeC9mQmp4VUQyenhndFA1QmtyQ2JwaWNvM0FzdTdIVW56T2ZZWndWMEp0MWU4R043UVNHajlhb2s0WEZjb1d0OEhiUExhSTFmZThzZjBrcVk3cVh2b1A5TzhsWS95NzVMaDRDYUNWM2oxZDBZSEt2RUdkOWRoWDBDd240eWhOTTZ2azRzSjFCSjR2NTk4Z3JVVDAraGErejE3djg5ajIweSsvcVEyT1BuZi9mdXYxSFc1aFpXa3lPY0lvdWR6c3YzaDJtK3YzUTZSUnBQUU5qTkowcVk5bzV5blk1M2NDOHkxdVN1WVNLRjh4Z2hqN0J2aE5vTHEraUZlU1BVWGRoSEw2eWlGK2FOVUhkaEg3dXdtOGN1VEtNWDlyRUx1MVhzd3RrZ1JTM3NveGRXMFF2ejJJVjk5TUs4RVdvdTdQYXhDK2NseEN2c3l4Ykd2a082TG1GZXRyRElTRFBZRzhhYUJ6SFhiSWFXNzEwdElrbVl0TURQSnlBU3dnOGtZaEpHbFZCN1lXUUp0UmRHbGxCM1lYUUpkUmRHbDFCeklmdzBJaVloUnduMUZ2S1VVRzhoRDFCcklWY0pkUlp5SENuaUNWblhGbkd2R0dLdGVSV0tKR0ZTcmc4WEY3N1NydytUY28wZkFpSVRldmRpTUF2RFl4U2JFQURpRWdKakZKY1FHcU80aENBUWt4QWNvNWlFOEJoRkpLUUI4UWhwUURSQ0toQ0xrRExMNEJFVzZVQWN3dkpINU1KeUJybXdtVUV1bkg0eGcxbzQrK1lKdFRDRFhWaEhMbXkrM2FMQUs1emZnOEVxYkM1dU1pRVYrcjYveHluMDM2QkFLUXpjZ1VFcHpHQVhIaHVoRVJwaEtKdStRN3A1WWV6ZkU4VllFL3p0VDhkZVBnYUZIeGlSSk54UW1qeFBBL0VrcVVLK0owbjBGVW9yWUZLRjhncVlVS0hFQWlaU0tMV0FDUlRLM0FNVEtaUmR3S1FKMStCTGxGRCtBRTJXY0UyKzVBalhNa0NUSTJ5dXp4ZEhTSHU1eEh5VTBaWTN3YTFCdnNOVFN0N2VxVXBiZkNwSnVFOTVHY25PMFN3bnRQZUsxQ20rOFA2WEJkODFVcWxzNzNwTlVCWlhhdUN1SEVOSWU4dkwwZTQwNTVUbHNCQ2NYN0swMS95ZHpGcllwUzFPb0xBTXo1OVloUFRwQlllUVVqNHNRaFlQZ1RDQ3A3c3dtcmRaWWIxY2xpYk0xcHRjdk0wS3B5dlVsMDlHNGdoTDdVSXR5OGZidk5CVCtwaGl3djJaem0yK2ttaGhnTWtyM04vUHRuY0tpM2VEYWlDY085czdiZkRsZ1Q1aHFlM1diZW05cDlvSU0vVmFaZHR0b2xhckZkeTAzMVB3bWo5eGFWQVhkQkpTdGw5NUU5SVdHNkVSR3FFUkdxRVJHcUVSR3FFUkprTEllM09wdmtFaDlKcnJ3NWpDN1JLNE5TZ2wyaWFpaE9EV21NSWpLTFR0UndsUHdLMUJvVytDTGF5QVcyTUtkNkhFRlo2RFc0TnlIbGNJYnMwSWpkQUlqZEFJamRBSWpkQUljUXBwemFzWGJnc0lDMTUyTU9UTnNpeFUzUzNwTVVMOVk0VDZ4d2oxanhIcUh5UFVQLzlESWI1c21aaVltSmlZOE9ZL2IrVFpORUJibm1zQUFBQUFTVVZPUks1Q1lJST0ifSk7CiAgICAgICAgbWFya2VyXzBkYjkxNzI1MjFmYjQxNzliODAwZmQ1MTZkOWY0NjFkLnNldEljb24oY3VzdG9tX2ljb25fNzdiODkyYWQ1Zjk2NDM1OWExMjE0Nzc2NTFlYmVlZmEpOwogICAgICAgIAogICAgCiAgICAgICAgICAgIG1hcmtlcl8wZGI5MTcyNTIxZmI0MTc5YjgwMGZkNTE2ZDlmNDYxZC5iaW5kVG9vbHRpcCgKICAgICAgICAgICAgICAgIGA8ZGl2PgogICAgICAgICAgICAgICAgICAgICBFbCBob3NwaXRhbCBtYXMgY2VyY2FubwogICAgICAgICAgICAgICAgIDwvZGl2PmAsCiAgICAgICAgICAgICAgICB7InN0aWNreSI6IHRydWV9CiAgICAgICAgICAgICk7CiAgICAgICAgCiAgICAKICAgICAgICAgICAgdmFyIG1hcmtlcl9jZGYwYTllOWJlOWQ0OTE5YTQ5ZWRmYmE0NzkwZjYwZCA9IEwubWFya2VyKAogICAgICAgICAgICAgICAgWzQwLjQwNDk0ODU1NTY5NjM3LCAtMy43MTI4MDM0NDkyMTM5MzMyXSwKICAgICAgICAgICAgICAgIHt9CiAgICAgICAgICAgICkuYWRkVG8obWFwXzU5YzkzZjJhYWU3NTRkNTliYTczYWQ0ZTY1ZWYwYzUzKTsKICAgICAgICAKICAgIAogICAgICAgIHZhciBjdXN0b21faWNvbl9jMDMxNDdlNmFkOWM0NjFhOGNhMzg5Nzc5MWE3ZmZhYyA9IEwuaWNvbih7Imljb25TaXplIjogWzQwLCA1MF0sICJpY29uVXJsIjogImRhdGE6aW1hZ2UvcG5nO2Jhc2U2NCxpVkJPUncwS0dnb0FBQUFOU1VoRVVnQUFBOEFBQUFQQUNBWUFBQUQ2MWhDYkFBQUFDWEJJV1hNQUFBN0VBQUFPeEFHVkt3NGJBQUFnQUVsRVFWUjRuT3pkWFc1Y1Y3N202WGNKZ2lBSUJJT21hYVdzYzFBb1ZOOFVHcWhKMUJ6cXRrZVF2RGpvUWZRQW1EYzloNTVDejZKUTNSZU5RdUhVU1p0SjB6U0RJQVNCSVBqdml3aEt5clFza1ZTUU85YmF6d01RdHI3U1MwaEVjUDlpZlNVQUFBQUFBQUFBQUFBQUFBQUFBQUFBQUFBQUFBQUFBQUFBQUFBQUFBQUFBQUFBQUFBQUFBQUFBQUFBQUFBQUFBQUFBQUFBQUFBQUFBQUFBQUFBQUFBQUFBQUFBQUFBQUFBQUFBQUFBQUFBQUFBQUFBQUFBQUFBQUFBQUFBQUFBQUFBQUFBQUFBQUFBQUFBQUFBQUFBQUFBQUFBQUFBQUFBQUFBQUFBQUFBQUFBQUFBQUFBQUFBQUFBQUFBQUFBQUFBQUFBQUFBQUFBQUFBQUFBQUFBQUFBQUFBQUFBQUFBQUFBQUFBQUFBQUFBQUFBQUFBQUFBQUFBQUFBQUFBQUFBQUFBQUFBQUFBQUFBQUFBQUFBQUFBQUFBQUFBQUFBQUFBQUFBQUFBQUFBQUFBQUFBQUFBQUFBQUFBQUFBQUFBQUFBQUFBQUFBQUFBQUFBQUFBQUFBQUFBQUFBQUFBQUFBQUFBQUFBQUFBQUFBQUFBQUFBQUFBQUFBQUFBQUFBQUFBQUFBQUFBQUFBQUFBQUFBQUFBQUFBQUFBQUFBQUFBQUFBQUFBQUFBQUFBQUFBQUFBQUFBQUFBQUFBQUFBQUFBQUFBQUFBQUFBQUFBQUFBQUFBQUFBQUFBQUFBQUFBQUFBQUFBQUFBQUFBQUFBQUFBQUFBQUFBQUFBQUFBQUFBQUFBQUFBQUFBQUFBQUFBQUFBQUFBQUFBQUFBQUFBQUFBQUFBQUFBQUFBQUFBQUFBQUFBQUFBQUFBQUFBQUFBQUFBQUFBQUFBQUFBQUFBQUFBQUFBQUFBQUFBQUFBQUFBQUFBQUFBQUFBQUFBQUFBQUFBQUFBQUFBQUFBQUFBQUFBQUFBQUFBQUFBQUFBQUFBQUFBQUFBQUFBQUFBQUFBQUFBQUFBQUFBQUFBQUFBQUFBQUFBQUFBQUFBQUFBQUFBQUFBQUFBQUFBQUFBQUFBQUFBQUFBQUFBQUFBQUFBQUFBQUFBQUFBQUFBQUFBQUFBQUFBQUFBQUFBQUFBQUFBQUFBQUFBQUFBQUFBQUFBQUFBQUFBQUFBQUFBQUFBQUFBQUFBQUFBQUFBQUFBQUFBQUFBQUFCTm9VdzhBZ0s5YkhDNmVKL2svVTltZGVpekFaN1Q4Nzh1ajViOU9QUXdBdmt3QUEzUmljYmo0ZjVMOHg2bkhBWHhHNVg5Wi9tWDUzNmNlQmdCZjltenFBUUJ3WjJkVER3RDR2RXFkVGowR0FMNU9BQU4wb2xMblU0OEIrS3l6MXRyVjFJTUE0T3NFTUVBdkttYVlZRHRkSkJIQUFCMFF3QUQ5T0o1NkFNQm5YU3lQbGpkVER3S0FyeFBBQUoxb3JmMDI5UmlBenpxWmVnQUEzSTBBQnVpSFE3QmdPMW1kQWRBSkFRelFpYXJ5a0ExYnFNb0owQUM5RU1BQW5XaXRXV1lKMjZqbDE2bUhBTURkQ0dDQWZyZ0dDYlpRU3pNREROQUpBUXpRai9Na1RwcUZMVk9wbjZZZUF3QjNJNEFCK25GY1ZRSVl0a3hMc3pvRG9CTUNHS0FUeTZObFloazBiSlZLSlJWTG9BRTZJWUFCT3RKYWN4VVNiSkdXZHBQbWd5bUFYZ2hnZ0w2WWFZSnRVcm1KZTRBQnVpR0FBVHBTY1Jjd2JKV1dzK1hSMHQ1OGdFNElZSUNlbEtXV3NHVzhKZ0U2SW9BQk90S2EwMlpoeTV4TVBRQUE3azRBQS9UbDU2a0hBUHdkMnhJQU9pS0FBWHJpdWhYWU5rNW1CK2lJQUFib1NMVVN3TEJkQkRCQVJ3UXdRRWRhN0FHR2JWS3BYNlllQXdCM0o0QUIrdkxUMUFNQVBtcHA5Z0FEZEVRQUEvVGxNc25WMUlNQTF1ekxCK2lLQUFib3k3c0lZTmdlVFFBRDlFUUFBM1JrZWJTOHJLcjNVNDhEK01DK2ZJQ09DR0NBenJSbXp5RnNpWGNSd0FCZEVjQUF2U25YcnNCV3FMeFBjakgxTUFDNHUrZFREd0NBZTJwbW5HQWJWT3J5NHVqaWV1cHhBSEIzWm9BQk9sTlZsa0RERm1pdE9RQUxvRE1DR0tBekhycGhPMVI4R0FYUUd3RU0wSi9mcGg0QWtMUTArL0VCT2lPQUFmcGpCaGkyZzljaVFHY0VNRUIvTEx1RTdmRHIxQU1BNEg0RU1FQi96RHJCTmlnZlJnSDBSZ0FEZEtaU3JrR0M3WEF5OVFBQXVCOEJETkNaRnFkQXcxWndKemRBZHdRd1FHY3FkWlY0OElZdDRNTW9nTTRJWUlET3RMU3JKSmRUandQSVQxTVBBSUQ3RWNBQW5Wa2VMYThqZ0dGcUYwbXVwaDRFQVBjamdBSDY1UFJabU5abHBhNm5IZ1FBOXlPQUFmcGs3eUZNNitMaTZNSU1NRUJuQkRCQW44Nm1IZ0RNbkZVWUFCMFN3QUFkcWlvQkRGTXFxekFBZWlTQUFUclVXdnQ1NmpIQXpBbGdnQTRKWUlBK2VmaUdLVFYzY1FQMFNBQUQ5TW5ETjB6TEtneUFEZ2xnZ0E1VmxSbGdtRkxsWk9vaEFIQi9BaGlnUjgwSnREQ3A1aVIyZ0I0SllJQU90VFFQM3pBdHIwR0FEZ2xnZ0E0dGo1YVhTYTZuSGdmTW1GVVlBQjBTd0FEOXNnY1JwbU1mUGtDSEJEQkF2d1F3VE9OeWViUjhQL1VnQUxnL0FRelFMMWNod1RUTS9nSjBTZ0FEOU1zaFBEQUZWeUFCZEVzQUEvVHJwNmtIQUxQVXpBQUQ5RW9BQS9UTEVtaVloZ0FHNkpRQUJ1alhMMU1QQUdiSzlnT0FUZ2xnZ0g1NUNJZHAvRHoxQUFCNEdBRU0wS2xLMlFNTTAzQUlGa0NuQkRCQXAxcWFQY0F3RGE4OWdFNEpZSUJPVmRWNWtwdXB4d0V6NUJBc2dFNEpZSUJPdGRiT2sxeE5QUTZZSVV1Z0FUb2xnQUg2ZFJFQkRFL3RLcFpBQTNSTEFBTjBhbm0wdk00cWdvR25VcmxLY2puMU1BQjRHQUVNMExHcWNoVVNQS1dXOTh1ajVidXBod0hBd3doZ2dJNjExbzZuSGdQTWpOY2NRTWNFTUVEZnpBREQwM0lBRmtESEJEQkEzeHpHQTAvTEZVZ0FIUlBBQUgwekd3VlB5NGRPQUIwVHdBQjkrOXZVQTRDWnNRY1lvR01DR0tCdmxtUEMwL3A1NmdFQThIQUNHS0J2bG1QQzAvS2FBK2lZQUFib216M0E4TFNzdWdEb21BQUc2SnNBaHFjbGdBRTZKb0FCK3ZZdXlkWFVnNEFaOGFFVFFNY0VNRURmcnBKY1RqMEltSWwzOFhvRDZKb0FCdWpZOG1qNUxnN2xnYWRpeFFWQTV3UXdRUDhFTUR5TmkrWFI4djNVZ3dEZzRRUXdRUC9PcGg0QXpFTGxlT29oQVBCdEJEQkEvNXhLQzAraFdXMEIwRHNCRE5BL3MxTHdCS3JLaDAwQW5SUEFBSjJyMUc5VGp3SG1vTFVtZ0FFNko0QUJPdGZpb1J5ZXlNOVREd0NBYnlPQUFmcDNNdlVBWUE0cTVjQTVnTTRKWUlEK21RR0dKMkMxQlVEL0JEQkEvOHhLd2RNUXdBQ2RFOEFBL1JQQThEU2N1QTdRT1FFTTBEOFA1ZkEwekFBRGRFNEFBL1R2cHFyT3B4NEVETzRxeWJ1cEJ3SEF0eEhBQUFOb3JRbGdlRnluU1c2bUhnUUEzMFlBQTNSdWViUzhpWDNBOE5pT1V3SVlvSGNDR0dBTTlnSEQ0enBmL21VNTlSZ0ErRVlDR0dBTWxrRERJNnFVVlJZQUF4REFBR1B3Y0E2UHFLVTVBUnBnQUFJWVlBU1ZuNmNlQWd6T2F3eGdBQUlZWUFRdEoxTVBBWVpXN2dBR0dJRUFCaGlEUGNEd21KclhHTUFJQkREQUdPd0Joc2RsbFFYQUFBUXd3QmgrbW5vQU1EaFhqUUVNUUFBRGpPRXl5ZlhVZzRCQlhjYzJBNEFoQ0dDQU1WeW1CREE4aXRWcjYzTHFZUUR3N1FRd3dBQ1dSOHZ6dEZ4TlBRNFlVc3ZWOG1ocEJoaGdBQUlZWUJ6MktNTGpzTWNlWUJBQ0dHQWNacWpnTVpUWEZzQW9CRERBSUNybElSMGVROHZwMUVNQVlETUVNTUFnV3BvbDBQQTQzTE1OTUFnQkREQU9zMVR3T093QkJoaUVBQVlZeHk5VER3QUc1YlVGTUFnQkREQU9lNERoY1hodEFReENBQU9Nd3pKTmVBUlZkVEwxR0FEWURBRU1NQTRIOWNBamFNMEJjd0NqRU1BQTQ3Qk1FeDVEK1hBSllCUUNHR0FjVG9HR3pidE95OFhVZ3dCZ013UXd3RGplSlI3VVljTXVrN3lmZWhBQWJJWUFCaGpIKzNoUWgwMjdXQjR0TDZjZUJBQ2JJWUFCQnJFOFdsNWxOVnNGYkk3OXZ3QURFY0FBWTNGYUxXeVd2ZlVBQXhIQUFHUHhzQTZiVkU1WEJ4aUpBQVlZaTRkMTJLU1dmNXQ2Q0FCc2pnQUdHSXNaWU5pc1g2Y2VBQUNiSTRBQnh2THoxQU9Bd1RnRUMyQWdBaGhnSUpVeUF3eWI1VFVGTUJBQkREQ1FsbVlQTUd4UXBaeXNEakFRQVF3d0ZyTlZzRUd0bWlYUUFBTVJ3QUJqTVZzRm05UjhxQVF3RWdFTU1CWkxvR0Z6YnVJUUxJQ2hDR0NBc1Z3a3VaNTZFRENJMDZ3aUdJQkJDR0NBc2R6RVBtRFlsTE1JWUlDaENHQ0FzVnpIa2szWWxQUGwwVklBQXd4RUFBTU1aSG0wVE93RGhrMnhtZ0pnTUFJWVlEQ1ZFc0N3Q1pXZnBoNENBSnNsZ0FFRzA2cDVhSWNOcUZabWdBRUdJNEFCeHVPaEhUYWdwZjAyOVJnQTJDd0JERENZU25sb2g4M3dZUkxBWUFRd3dHQmFheDdhWVRPT3B4NEFBSnNsZ0FIRzQ2RWROc09IU1FDREVjQUE0M0VQTUh5N20zZ3RBUXhIQUFNTXhqVklzQkhYU1M2bUhnUUFteVdBQVFiVDBzNlNYRTA5RHVoWnBhNWpDVFRBY0FRd3dIak9VN21aZWhEUXM1WjJ1anhhVGowTUFEWk1BQU1NWm5tMHZFckw1ZFRqZ0s2Vi9iOEFJeExBQUdQeThBN2ZvbmtOQVl4SUFBT015VlZJOEEwcTlkUFVZd0JnOHdRd3dKak1Yc0czc0FRYVlFZ0NHR0JBbFhKNkxYeUQxdG92VTQ4QmdNMFR3QUFEYXRVRU1Id2JyeUdBQVFsZ2dBRlZxNStuSGdOMDdtVHFBUUN3ZVFJWVlFQXQ3WHpxTVVEbkJEREFnQVF3d0lDcXlnRSs4RzI4aGdBR0pJQUJCdFJhTTNzRkQzZVRpbFVVQUFNU3dBQmpjb0FQUEZCVlhhYmxjdXB4QUxCNUFoaGdUSmRKcnFZZUJIVHFYU0tBQVVZa2dBSEc5SDc5QmR4VGErMWllYlM4bVhvY0FHeWVBQVlZMFBKb2VaSGtZdXB4UUtkc0lRQVlsQUFHR0pWRGZPQ2hqcWNlQUFDUFF3QURES3BTQWhnZXhnd3d3S0FFTU1DZ1hJVUVEeWFBQVFZbGdBSEdKWURoQVNyMTI5UmpBT0J4Q0dDQVFWV1ZXU3g0R0h1QUFRWWxnQUVHMVZveml3VVAwR0w3QU1Db0JEREFvQ3JsSVI0ZXh1b0pnRUVKWUlCUmxUM0E4RUJPVUFjWWxBQUdHRlh6RUE4UFpBOHd3S0FFTU1DZ1d0cloxR09BRHAwbHVaNTZFQUE4RGdFTU1DNnpXSEIvRnhIQUFNTVN3QURqdXM3cVlSNjR1N1BsMGZKbTZrRUE4RGdFTU1DNEJERGNueE9nQVFZbWdBRUd0VHhhWHNkcHRuQmZ0ZzRBREV3QUE0ek5WVWh3UHc2UEF4aVlBQVlZbTRkNXVKOWZweDRBQUk5SEFBT016WDVHdUIrckpnQUdKb0FCeHVaaEh1NmhVdllBQXd4TUFBT01yUExMMUVPQW5yUTBCOGNCREV3QUE0eXMyUU1NOTJUYkFNREFCRERBeU1vMVNIQVAxNVh5b1JIQXdBUXd3TWhhZnBwNkNOQ1JtNVptQmhoZ1lBSVlZR3puU1c2bUhnUjBvWEsrUEZwZVR6ME1BQjZQQUFZWTIwVUVNTnhKTmN1ZkFVWW5nQUVHdGp4YW5rVUF3NTFZL2d3d1BnRU1NRDczbXNMZGVLMEFERTRBQTR6UFNkQndOMmFBQVFZbmdBRUc1MW9YdURNZkZnRU1UZ0FEREs2bFdkWUpkL08zcVFjQXdPTVN3QURqTzVsNkFOQUo5MllEREU0QUE0elBzazY0aS9KYUFSaWRBQVlZMzY5VER3QzYwQnlDQlRBNkFRd3dQbnVBNFc0RU1NRGdCRERBNEtxY0FnMTM4SzZxTHFjZUJBQ1BTd0FEREs2MUpvRGg2OTYzMWdRd3dPQUVNTUQ0TE91RXI3dGNIaTJ2cGg0RUFJOUxBQU9NN3pMSnU2a0hBVnZPQjBVQU15Q0FBY2IzTHNuN3FRY0IyNnhTN2dBR21BRUJEREM0NWRIeWZRUXdmRkZMTXdNTU1BTUNHR0FlWElVRVgzWSs5UUFBZUh3Q0dHQWV6RzdCbC8weTlRQUFlSHdDR0dBT1NnRERWOWdERERBRHo2Y2VBSHhxY2JoNG05VUhNK2RKcmlwMWZYRjBjVFB4c0tCL3pmSk8rQXF2RWZoR2k4TkZVbmxSclY2MHRKMGt6NWRIeTMrYmVsendLUUhNdHZrL2t2eHZTYTZUbkxlMDg4WGg0cXlxenBNY3ArVzRwZjJXNUxSU0p5M3RKTWxaa3ZQbDBmSmt3bkhEdHZ2cjFBT0FMV2VWQlB5QnhlRmlQOGxlcGZhVHZHMXArMGtPa254WFZmL2MwZzdTc3Bma0lDMzdMVzAzeVl0VS9xOGsvMlhDb2NQdkNHQzIxZk9zM2xnUGtxUzE5cnZmMFBKM1AzZXorK2ZkbTdTY3RMVHpyQjVrVHRhUmZKcktiMms1VG5LU3lsbGF6cEpjcG5LeC9NdnkrdEgvTmpDOXM2a0hBRnRPQURPOHhlRWlTZlpTMmFsV3V5M3RJTW5iVlBiVHNsOVYzN2ZXM21iMS9MV1g1SFdTTjFsdm0yeHB2OXMrK2Jsbk5OaG1BcGhSUEd1dFBVdnlkdjJWNUpOSS92Uzl1U1dwM0tUbGZWcmU3eDd1bnEraitUaVY0MnAxbnVTWDllenk3UXp6V1ZhbjZGNVYxZFhGWHk1RU03Mnh2Qk8rekVucGRHVnh1SGhXcVJjdDdXV1MxUXh0MWV0MXdPNm44bjIxT2tqeXBxWHRWOVhCK3VkZnBlVkZTL3ZZQWJlUFMyS1dHUkRBekZQTHN5U3ZrcnhhTCtPNS9mbC9uRm4rUitldHRYZUx3OFY1Vm5GOGt0V3N3WGxWL2R4YU84a3FORDdNUUY4Y1hWdzkxbDhEN3NIc0Z2eXh5eVRlcTlrSzYvTlE5bExybFhBdGI3SmVicHlQTTdMN1ZiWFhXdHZOYXFaMk5VUDdhY0Qrd3pQTmgxL1R1TXljQUliNzJWdC92VTN5djM3NkMzKzBUSHR4dUxoSWNwNWFMOEZlTGI4K1RmSzNKS2RWZGRyYWVnWjZGYytYeTZQbHU4ZjlhekEzbFRyK3lvYzdNRnVWdW1ocFZ2YXdVWXMvTDU2blpiZXE5bHZhWHJYYWIybXZrN3l1cWg5YWEzdFp4ZXlickdad2IvZlZybnpsTGR0c0xUeU1BSWJIdDV0a055My83bk8vK0hmZndDcnYwM0s5T0Z5OHkzcUd1YXJPV211M1M3RC9sc3A1Mm1xR2VmMzFMc21WYU9aTFdyVnovUXVmMTlMT2wwZExNOEQ4b2NYaDRrV1NGMGxlWmhXc0I1WGFhOVZlcjJkb3YwdmxJQzBIdDcrZVpDZkp5N1M4VFA1Z05oWjRjZ0lZdHNuNm0yUlczelJmSjUvNUp2bjc3NW52azN5NkxQdDJ6L0pKMXJQTTYyZyt6c2RaNW9za041VzZ1VGk2ZUl5L0NkdG1kUTNTVGR6L0RyOVRLZnQvWjJUM2NQZjJRS2NYV1gydmZaMlBoejY5U2ZMamVubnh3ZTJ2clgvOEtxc1B0YlArODc4L1krUXpyTDZCN1NLQW9YOHYxMS83U2Y3RFozL0g3Ny8zWGljNWFkVk9kLys4ZS9iSkV1eWZzOXJQZk5yU1RxclY3YW5hbDh1anBWT0UrM2FWMVFjakIxLzdqVEEzTGMzN1crY1doNHVYK2JoTjZYV2w5dGRuZkx4SjhxZjhmZUMrenUzcXJEL3dqeDgrbTdHRmNRaGdtS2ZuU2Q2bTVlM25QcG0rL1VhLy9yWHJTbDB2RGhkWFdTM0pQbTlwcDJrNVNlVWt5Uy9yMmNYVkh1ZjF2Y3lWZXRmUzNpMlBsamRQOUhmaVN5clg2LytmQkREOG5rUGl0c2c2WmwvbDQzTGoxNm5zVjZ2OVZINU15MEZMTzBobEx5MXZLL1Y2L1h1Zlo3Vk0yYXdyOEljRU1QQTF6OWRYSmJ4TXN2dVBKMHorZ1p1V2RwSGtjbkc0T0svVWVhdDJuSmJqOVhMc1gzSzd4emwxMXRMT3F1bzRMVGN0N1VZMGI5N3lMOHViOVlGc3dPK1pBWDRFNnp0bm4yZTE5V0lucTVWS3R6T3dlMWw5SVBmaitwKzNoMEM5elNwK1YvdG5iN1UvWG5Jc2RvSDdFTURBWTNpV2owdlIvdm52SGxwK3Q2VjVQZHU4Q3V2VEpCZTdoN3RuU1U1YTJrbWxUcFA4MXRLT3ErcGtmU0RZaDYvbDBkTEpyWGRubGdzKzczOU9QWUNlTEE0WHU1WGFhMW1mWXJ3Ky9HbDlLTlEvclErQzJrOWxQKzFEN0w3ODh2OHF3Tk1Rd01BMk9VaHkwTkkrN0dYK3dxbVpWMG11UDF3emRic0V1M0tXbHROSy9hMmxuZWJqUGMzSExlMHlMZStYUjh2M1QvR1gyVGF1UW9JL2RENzFBS2F3bnFIZHlXckdkVGVyOStDUGQ5QzJmTC8rOGUxeTQ0Tkt2YW1xRjBtZXBhMmZJeitkaWIzRG9WQUFVeExBUUs5dXI2UjRsZFdTdXYrWTVBK1h4SzNqK2JKUzd4ZUhpOHQ4dkVicWRqYjU1NnlXWkordncvbWtVaWN0N1gyUzZ5Rm1taXVuSGtqaDk5WXJUYnEyT0Z3OHkrcTU3bmxWN2Evdm1EMm9xcmRwMlc5cCs1WDZJY21ibG5hUTliTGpxdHBabjI3ODk4K0UvL2hlOFVlUkM5QVpBUXpNeVU1TDI4bnF3ZS9mZis0My9OMk04K3JmTDFPNVhCd3VUdGRCZkxhK20vbTRVciswdE5PcU9tK3RIYThEODJKNXROekt2YmF0dGQrbUhnTnNvMjArQlhweHVQaDBmK3grcGQ2dUEvYTdyTzZpZmJ0ZWlyeWY5YjdhMXRxSDY4NCtYVG56cFVNUEFlWkNBQU44MlU1YWRyS2FOVW55dTFPeVB6NUF0dHdrdVZrY0x0NW5kV0wycDN1V2oxUDVXN1U2ejJwWjlrbExPOG5xVHViM1R4VE4zYzl5d1NPNHlXb0x4YU5hSEM2ZVo3WGMrSGIvN1A1Nm1mR2JKRDlrZlgxUFZpdGE5clBlRXBMVm1RcTNYNzlmM1dJNkZ1QmVCRERBNXR3K3BPNGsyV210L2YyOXpPMnpENnRYU2Q0dkRoZnY4ZzlMc05kZnYrUjJqM1BsSkcxMXpWU1NxMHBkWHh4ZDNPZkU3RWQveUlkTzNXc0dlUEhueGZPMFBLK3FGMmw1czU2QlBhalU2NVoyVUZVL1pEVVRlNUJWMEI1VWFpZkpxNWEyMHo2dUp3YmdpUWxnZ0duZDdtWGV6U2V6ekovMThaZXVrNXkzdFBQRjRlS3NxbTRQQVR0ZUwzTytYYTU5ZXlqWStmSm9lYkplcXYyWWZ4Zm8wYnZsMGZMOTRuRHhJaDluWFEreW5wR3RxaDliYTdkTGtGK244cnBhN2JXMG5mWFBmL0M3VlNHZitUVUFwaVdBQWZyelBCOGYwci84c0wzNng4M3VuM2R2V211elBPa1d2dUxsNG5EeGExWWZRbjFZYW56cmQ2K3Z6Ni9rQUtBVEFoaGdmTS9XaCtJY1REMFEyRUxQczVyZEJXQUdubjM5dHdBQUFFRC9CREFBQUFDeklJQUJBQUNZQlFFTUFBREFMQWhnQUFBQVprRUFBd0FBTUFzQ0dBQUFnRmtRd0FBQUFNeUNBQVlBQUdBV0JEQUFBQUN6SUlBQkFBQ1lCUUVNQUFEQUxBaGdBQUFBWmtFQUF3QUFNQXNDR0FBQWdGa1F3QUFBQU15Q0FBWUFBR0FXQkRBQUFBQ3pJSUFCQUFDWUJRRU1BQURBTEFoZ0FBQUFaa0VBQXdBQU1Bc0NHQUFBZ0ZrUXdBQUFBTXlDQUFZQUFHQVdCREFBQUFDeklJQUJBQUNZQlFFTUFBREFMQWhnQUFBQVprRUFBd0FBTUFzQ0dBQUFnRmtRd0FBQUFNeUNBQVlBQUdBV0JEQUFBQUN6SUlBQkFBQ1lCUUVNQUFEQUxBaGdBQUFBWmtFQUF3QUFNQXNDR0FBQWdGa1F3QUFBQU15Q0FBWUFBR0FXQkRBQUFBQ3pJSUFCQUFDWUJRRU1BQURBTEFoZ0FBQUFaa0VBQXdBQU1Bc0NHQUFBZ0ZrUXdBQUFBTXlDQUFZQUFHQVdCREFBQUFDeklJQUJBQUNZQlFFTUFBREFMQWhnQUFBQVprRUFBd0FBTUFzQ0dBQUFnRmtRd0FBQUFNeUNBQVlBQUdBV0JEQUFBQUN6SUlBQkFBQ1lCUUVNQUFEQUxBaGdBQUFBWmtFQUF3QUFNQXNDR0FBQWdGa1F3QUFBQU15Q0FBWUFBR0FXQkRBQUFBQ3pJSUFCQUFDWUJRRU1BQURBTEFoZ0FBQUFaa0VBQXdBQU1Bc0NHQUFBZ0ZrUXdBQUFBTXlDQUFZQUFHQVdCREFBQUFDeklJQUJBQUNZQlFFTUFBREFMQWhnQUFBQVprRUFBd0FBTUFzQ0dBQUFnRmtRd0FBQUFNeUNBQVlBQUdBV0JEQUFBQUN6SUlBQkFBQ1lCUUVNQUFEQUxBaGdBQUFBWmtFQUF3QUFNQXNDR0FBQWdGa1F3QUFBQU15Q0FBWUFBR0FXQkRBQUFBQ3pJSUFCQUFDWUJRRU1BQURBTEFoZ0FBQUFaa0VBQXdBQU1Bc0NHQUFBZ0ZrUXdBQUFBTXlDQUFZQUFHQVdCREFBQUFDeklJQUJBQUNZQlFFTUFBREFMQWhnQUFBQVprRUFBd0FBTUFzQ0dBQUFnRmtRd0FBQUFNeUNBQVlBQUdBV0JEQUFBQUN6SUlBQkFBQ1lCUUVNQUFEQUxBaGdBQUFBWmtFQUF3QUFNQXNDR0FBQWdGa1F3QUFBQU15Q0FBWUFBR0FXQkRBQUFBQ3pJSUFCQUFDWUJRRU1BQURBTEFoZ0FBQUFaa0VBQXdBQU1Bc0NHQUFBZ0ZrUXdBQUFBTXlDQUFZQUFHQVdCREFBQUFDeklJQUJBQUNZQlFFTUFBREFMQWhnQUFBQVprRUFBd0FBTUFzQ0dBQUFnRmtRd0FBQUFNeUNBQVlBQUdBV0JEQUFBQUN6SUlBQkFBQ1lCUUVNQUFEQUxBaGdBQUFBWmtFQUF3QUFNQXNDR0FBQWdGa1F3QUFBQU15Q0FBWUFBR0FXQkRBQUFBQ3pJSUFCQUFDWUJRRU1BQURBTEFoZ0FBQUFaa0VBQXdBQU1Bc0NHQUFBZ0ZrUXdBQUFBTXlDQUFZQUFHQVdCREFBQUFDeklJQUJBQUNZQlFFTUFBREFMQWhnQUFBQVprRUFBd0FBTUFzQ0dBQUFnRmtRd0FBQUFNeUNBQVlBQUdBV0JEQUFBQUN6SUlBQkFBQ1lCUUVNQUFEQUxBaGdBQUFBWmtFQUF3QUFNQXNDR0FBQWdGa1F3QUFBQU15Q0FBWUFBR0FXQkRBQUFBQ3pJSUFCQUFDWUJRRU1BQURBTEFoZ0FBQUFaa0VBQXdBQU1Bc0NHQUFBZ0ZrUXdBQUFBTXlDQUFZQUFHQVdCREFBQUFDeklJQUJBQUNZQlFFTUFBREFMQWhnQUFBQVprRUFBd0FBTUFzQ0dBQUFnRmtRd0FBQUFNeUNBQVlBQUdBV0JEQUFBQUN6SUlBQkFBQ1lCUUVNQUFEQUxBaGdBQUFBWmtFQUF3QUFNQXNDR0FBQWdGa1F3QUFBQU15Q0FBWUFBR0FXQkRBQUFBQ3pJSUFCQUFDWUJRRU1BQURBTEFoZ0FBQUFaa0VBQXdBQU1Bc0NHQUFBZ0ZrUXdBQUFBTXlDQUFZQUFHQVdCREFBQUFDeklJQUJBQUNZQlFFTU1LcktUVlhkcFBJdXliOG0rVzlURHdtMjBGV1MvNXJrMzZycWV2MmFBV0JRejZjZUFBRDNjbEZWbDYyMWl5VEhxWnltNVR6SlNaSy9KamxQY3JyK09tbXRuUytQbHBkSnNqaGMvT2NrLy9kVUE0ZXRWTGxaL21YNW4yNS91RGhjSEZScXI2WHRWZXB0U3p0SXNsK3A3MXZhbTZvNmFLMGRKTmxMY3Z0UHoxTUFuZkNHRFRDUlNsMjJ0UGRKTGl0MTJ0SitTbksyL3ZkZmt4d25PY3NxWnMvV1A3NXFyVjB0ajViWEQvaFA3bTlzOERDS2xoZUx3OFdyNWRIeVhaSXNqNWEzSHlCOTBlSndrU1F2MWw4N1djWHdtM3lNNG9Nay81VEtYclU2YUduN1NkNG1lZm5KRndCUFRBQURmTHViVDc1T1VqbFB5Mm1TNDBxZEp2bWxWVHRQOHRQNjU4K1RuTFcwaXlTWEQ0elpoemg0b3Y4TzlHWS95YnY3L0lIbDBUSlpMWisrU25LWjFRZFUvL1ZyZjI1eHVIaVY1RldTblZUZXBPVmcvZDgvU1BKalZlMjMxbFkvcnJ4WngvT3JyTGF0ZVc0RCtFYmVTQUUrN3pySldWV2R0ZGJPc3BxQlBjbnFJZmUzOVkrUEszV1M1S0tsbmExbmpyYlpqMU1QQUxiUXN5U3ZrL3piVS96SDFqUE43N0thWmY0ZmQva3ppOFBGaTBydHQ3UTNTZmJXeTdEM2sveFRWdkc4bitTZ1VxOWJ0ZjFxdGJPZWNRYmdId2hnWUE3ZVovWEErUzZyaUQzTjdWTGphbjlOeS9sNjJmRnExcmJxZkwzSDlucTkzSGpDb1cvVTN0UURnQzMxZXVvQmZNbnlhSG1WMVlkdngxLzd2WXZEeGZPV2RqdGIvRGJyNWRpVk9sanZZZjcrd3d6engxL2Z5KzJzdEFOU2djRUpZS0EzMSt1djI1ZzlUdVdzV3AyMmFtZHArYmxTWnkzdE5KV3p0QnhudFR6eC9lMGV2N2xhSCt3ejlUQmdHdzB6Vy9ySmxvcXJKUC9mWGY3TTRuRHhMS3NsMlR0cDJjMHFqbCtuOG5xOVJQdTdTcjFPOG1ZOXM3eWYxWWNHejlkZm9obm9oZ0FHdHNGWlZ2dGl6eXQxZTdMeGFVdjdMY2xQeWNkOXMxbEY3L2w2Um9SN2FHbHZweDREYktsWjc0OWZIaTF2a2x5c3YzNjY2NTliSEM3MmsreG1OWU44ZXdEWVFTcmZKWGxUclY2M3RQMzE4dTNidmM0dk52NFhBTGdIQVF4czBuVldzNjJYdVEzV3lrbGFqdGNIUS8yYTliN1psbmFleW1tbGpsdHJOMGx1MWc5aFBKYktnUWxnK0t3L1RUMkFIaTJQbHJmbkkzelIrc1RzMjVuaUQ4RmNxWU5VYnZjei8xaFZyOU95dDQ3bE4vbTRMTnVKMmNER0NHRGdqMXhYMVhWcjdTcXJHWUh6OVpMaTAvV1BmOHZIKzJadjk4MmVWK3BkUzNzblpyZkxlb21qUGNEd2VWdTlCN2gzNjNNVWJwZG0zMzdmK09yeTdNWGg0bVZXRWZ3eWxiZHBPYWlxdmZXczhqKzExbFozTmxjN1NQc3dBNzFUVmM5YjJnc2YrQUdmSTRCaFh0N240MzJ5SCsrWHJmeWNmSWpiMjE4L2I2MWRMbytXNTVPTmxrMTZudFZNQ3ZCN3MxNEN2YTJXUjh2M1dYM2ZTdTY0Tkh0eHVIalowbmFUN0ZmVlFaSzlkU2kvYVdrLzVPTWR6ZitjZk5qdjdNTkJtQkVCRFAyNi9PVHJPTWxwVloybTVieWwvVFdmN0p1dDFFL3JFNDV2RDRHNkdlaGtZKzdtWlR6a3d4OFJRSVA0SkpwUHZ2WjdkdzkzbjdXMFZOV3oxbEp1QURrQUFCRlZTVVJCVk5yYmZIS2xWRlpMc0wvLzhPUFZEUFRlK2pEQjNhcmFiYTA1L0FzNkpJQmhlamRabmRiNXZsSVhMZTEyQnZZa3E0RDlzRzgyeWZudFZUMVpmWU8vY2hnVWQrRUVhUGlpTjFNUGdLZDNjWFJ4dTFYbkpzbS9ycisrYUwyZDVHVnI3VlZXY1h3N283eTZVcXJ5dy9yazdEZWYvTnJyckE3L2VoSFAzakE1TDBKNFBKL3VtejJwcXVQVzJua3F2NnlYR2g4bk9hK3FzOWJhZVpLTGk2T0w2eS8vVDhMRHREUXpYUERIOW5ZUGQxOWNIRjM0UUpFdldwOXZjWHV2L09sZC85emljTEdYMVpMcm5heUMrRTArempqL2FmMXp0OHV4Yi9jek96RWJIb0VBaHErN3l1cHFpUFBiKzJXcjZpekpjV3Z0MStURHZ0bWYxckY3dGp4YTN2bWJJandSaC96QUg5dk42cGxJQVBNbzF1ZHAzSjZwOGQvdThtY1doNHZkU3UybDhxYTE5dW1NOHAvV3Avb2ZaTFhYK1hWcmJhOVNPeTN0MWVQOERXQWNBcGk1ZVovMWN1T3NabWpQS3JYYUsxdjVhMHM3VGN2WmVpL3RjVXM3cTlSbFM3dEs4djdpNkdMS3NjT0RWZXExSmREd2gxNmw4aklmejBtQXlTMlBscmQzTTk5bGFmYkxsdlk4bFpmckU3RmZaeDNNVmZXbXRmWkRQczQ0djBueXVxcGV0ZFpleGpWVHpJd0FwaytWcE9VbXljMTYzK3g1a3VOVVRxclYrWG9mN2MvNXVJLzJkc254WlZWZFh2emx3a01PczJJSk5IeFphKzExN25DbkxXeWo5ZUZmeWVwZ3pEdXRRbHNjTGw1a3RmcmgwOU93Yi9jdi81QlZQTyt2WjU5di8zMHZ5Yk5VbnZsTWxWNEpZTGJOUlpML3NmN25TZGI3WkpQOHN2N3hTWkxUdEE5UmUyclBGdHpKL3RRRGdLMVdlWjNrLzUxNkdQQlUxb2RvM3Q3TC9OL3Y4bWZXaDRDOXFmYmgvdVc5ckE0QTIwL3lRMVh0dDdTM2FkbFBaUytyNXpuWUtnS1liZk12VmZVdkYzOXhHQlJzMkk5VER3QzJXbk5OR0h6TitoQ3duM0tIZTVuWHNleXFLTGFPQUdhckxJK1d3aGNlUWFVTzdBR0dMN0pOQURab0hjczNYLzJOOE1SOEtnTXdBL1lBdzFlNUN4aGdCZ1F3d0R4WTNnbGZacHNBd0F3SVlJQjVNTHNGWDJhVkJNQU1DR0NBd1MzK3ZIaVY1TlhVNDRBdFo1VUV3QXdJWUlEQlZhdVhxYnlZZWh5dzVWNVBQUUFBSHA4QUJoaGNTOXRKTXdNTVgyRUdHR0FHQkREQStPei9oYS9iV1J3dVhrNDlDQUFlbHdBR0dGeWxITzREWDFHcFY1V3lVZ0pnY0FJWVlIRHVBSWF2YTJrdlc5ck8xT01BNEhFSllJRHh2WjE2QU5BSjJ3VUFCaWVBQWNiMy9kUURnQzZVZzdBQVJpZUFBY1puQ1RUY2pkY0t3T0FFTU1ENHpHckJYVFIzQVFPTVRnQURESzVTOWpYQ0hWVFZqMU9QQVlESEpZQUJCdGZTOXFjZUEvU2dOYThWZ05FSllJRHhlYWlIdS9GYUFSaWNBQVlZbjMyTmNEZGVLd0NERThBQUExc2NMZzRxNWIwZTdrWUFBd3pPUXhIQTJIWmJtdmQ2dUJzbnBnTU16a01Sd05qMjRyMGU3bXBuY2JoNFB2VWdBSGc4SG9vQXh1WUtKTGk3WjVVeUN3d3dNQUVNTUxLeXBCUHU0WGxMc3c4WVlHQUNHR0JrTFh0VER3RTY0elVETURBQkREQzI3NmNlQUhUR3FnbUFnUWxnZ0lGVjZ1M1VZNERPQ0dDQWdRbGdnSUcxTk1zNTRYNGNIQWN3TUFFTU1MYjlxUWNBbmJGdEFHQmdBaGhnYkU2MGhmdXhCQnBnWUFJWVlGQ0x3OFh6T05FVzdrc0FBd3hNQUFNTXFsSUNHTzZwVXZZQUF3eE1BQU1NcXFVOVQ3SXo5VGlnSnkxdGI3MTZBb0FCZVlNSEdKY3JrT0MrS3JzeFFRQXdMRy93QU9OeUFqVGNWOHRlbWdrQ2dGRUpZSUJCVlVvQXd3TlV5dW9KZ0VFSllJQkJ0VFFCREE5UkRvOERHSlVBQmhpWDAyemhJWnFya0FCR0pZQUJ4dlg5MUFPQVRnbGdnRUVKWUlCeFdjWUpEMlAxQk1DZ0JEREF1RjVQUFFEb1V1V0hxWWNBd09NUXdBQ0RxaW9CREEvUVdyTjZBbUJRQWhoZ1VDMGU0dUdCZkhnRU1DZ1h2UU1NYVBkdzkxa1MxeURCdzlnREREQW9NOEFBQTJwcE8wbDJwaDRIZE1xSFJ3Q0RFc0FBWTNxMS9nTHViM2R4dUxCS0RtQkFBaGhnUUZXMUU5dGM0S0Y4Z0FRd0tBRU1NS0RXbWlXYzhIQzdWYlU3OVNBQTJEd0JERENnU3IyZGVnelFNMWNoQVl4SkFBTU15QlZJOE0wT3BoNEFBSnNuZ0FIR1pBazBmQnV2SVlBQkNXQ0FNZjFwNmdGQTUyd2pBQmlRQUFZWVVGVlp2Z25meGd3d3dJQUVNTUNBbkFJTjM2YXF2cDk2REFCc25nQUdHSk1BaG0vUVdyT0tBbUJBQWhoZ1RHK21IZ0IwcmJ5R0FFWWtnQUhHWkFZWXZvM1hFTUNBQkREQVlCYUhpNWRKZHFZZUIzU3R1UWNZWUVRQ0dHQTh1MG1lVHowSTZGbWw5aGVIaTZtSEFjQ0dDV0NBMFZRT3Frb0F3emRvYWM4VHM4QUFveEhBQUtOcDJXK3RUVDBLNkZxbG5zYytZSURoQ0dDQThleE5QUURvWFV0N2x0VjJBZ0FHSW9BQnh2TjY2Z0hBSUN5QkJoaU1BQVlZandDR3pYZzc5UUFBMkN3QkREQ2U3NlllQUF6Q0REREFZQVF3d0dqS3dUMndJVDVNQWhpTUFBWVlUTFd5YkJNMnd3d3d3R0FFTU1CZ1dwcFRvR0V6ZkpnRU1CZ0JERENReGVFaWNRMFNiSXJ0QkFDREVjQUFZM2tlRCsyd0VaWGFYeHd1UENzQkRNU2JPc0JZbnNXK1JkaUk5WFlDejBvQUEvR21EakNXdmF4bWdZRnZkeERQU2dCRDhhWU9NQkpYSU1FbVdWRUJNQmdCRERDUzVtRWROc3FIU2dCREVjQUFZM2t6OVFCZ0tFMEFBNHhFQUFPTXhSVklzRm51QWdZWWlBQUdHSXZaS3Rnc3J5bUFnUWhnZ0xIOE9QVUFZREQyMVFNTVJBQURqTVZzRld6V2QxTVBBSURORWNBQVk3RUhHRGFwOHM5VER3R0F6UkhBQUdPeFhCTTJ5ZFZpQUVNUndBQmpjUTBTYkpaVkZRQURFY0FBZzFnY0xsNGsyWmw2SERDWS9jWGh3dk1Td0NDOG9RT000K1g2QzlpYzNTU3ZwaDRFQUpzaGdBSEc4U3FyaDNWZ2MzWlNBaGhnRkFJWVlCeXZweDRBRE9oNWJDMEFHSVlBQmhpSHczcmdFVlRLU2RBQWd4REFBSU9vcXYycHh3QWphcTA1WFIxZ0VBSVlZQkF0N2UzVVk0QkJtUUVHR0lRQUJoaEZpeGxnZUJ3Q0dHQVFBaGhnSE45TlBRQVlsTmNXd0NBRU1NQTR6RkxCNDdDOUFHQVFBaGhnRUpWeVVBODhEaDh1QVF4Q0FBTU1vcVc1QmdrZVE5bGZEekFLQVF3d0RnRU1qOEVCY3dEREVNQUE0N0FFR2g2SDF4YkFJQVF3d0FBV2g0dTlWRjVNUFE0WVV1WEY0bkJoaFFYQUFBUXd3QmgyMHZKODZrSEFrRmF2cmQycGh3SEF0eFBBQUdQWVN3UXdQQklCRERBSUFRd3dCbnNVNFhGNWpRRU1RQUFEak1FcHRmQzRYazg5QUFDK25RQUdHSU1EZXVCeCtaQUpZQUFDR0dBRWxZT3Bod0NERThBQUF4REFBQ05vK1hIcUljRGd2TVlBQmlDQUFjWmdkZ29lbHozQUFBTVF3QUJqc0FjWUhwZlhHTUFBQkREQUdGelJBbytvVWdlTHc4WFV3d0RnR3dsZ2dNNHREaGZQWWdrMFBLcVdkaERQVFFEZDgwWU9NSUNxc2p3VEhwY0FCaGlBTjNLQS9qMXJyUWxnZUZ3dktyVTc5U0FBK0RZQ0dLQi85di9DRTJqeFFSTkE3d1F3UVAvcy80V240Y01tZ000SllJRCtIVXc5QUpnSmR3RURkRTRBQTNTdVVnSVlua0NsckxZQTZKd0FCdWhkV1pZSlQ2R2xDV0NBemdsZ2dONjFPSmdIbnNhUFV3OEFnRzhqZ0FFNjE5SyttM29NTUFkVnRoc0E5RTRBQS9UUEVtaDRBcTAxQVF6UU9RRU0wRDhQNWZBMHZOWUFPaWVBQWZybllCNTRHZ0lZb0hNQ0dLQi9Ec0dDcDdHN09GeThuSG9RQUR5Y0FBYm8yT0p3OFNvQ0dKN0tUaElCRE5BeEFRelF0eGRaUFpRRGorOWxrbGRURHdLQWh4UEFBSDE3bFZVRUEwL2o5ZFFEQU9EaEJEQkEzenlNdzlOeTdSaEF4d1F3UU1jcTVXRWNucFk5OXdBZEU4QUFIV3ZWWElFRVQ4dFZTQUFkRThBQVBXdG1vK0NKL1REMUFBQjRPQUVNMExjL1RUMEFtQm5iRGdBNkpvQUIrdVlRTEhoYWxrQURkRXdBQS9UTkVtaDRXbDV6QUIwVHdBQjljd2dXUEMyckxnQTZKb0FCT2xibEdpUjRZbDV6QUIwVHdBQWRhODAxU1BDa0tpOFhoNHRYVXc4RGdJY1J3QUNkV2h3dW5pZlpuWG9jTUNzdEw1THNURDBNQUI1R0FBUDBhemZKaTZrSEFUUHpJZzdDQXVpV0FBYm9WRlh0UlFEREZCeUVCZEFwQVF6UXFkYmFYcnlQd3hUY0JRelFLUTlPQVAzeUVBN1Q4Tm9ENkpRQUJ1aVhaWmd3RGFldkEzUktBQVAweXl3VVRPUEhxUWNBd01NSVlJQitmVC8xQUdDV3lvZFBBTDBTd0FEOWNoVUxUS0ZaQWczUUt3RU0wSyszVXc4QVpza01NRUMzQkRCQXY4eEN3UVFxNWNNbmdFNEpZSUIrV1FJTkUxamZ3UTFBaHdRd1FMOWNnd1RUMkZrY0xsNU9QUWdBN2s4QUEvUkxBTU4wN0FNRzZKQUFCdWpRNG5DeGsrVDUxT09BR1hzejlRQUF1RDhCRE5DaFNqa0FDNmJsTlFqUUlRRU0wS015K3dTVEtnRU0wQ01CRE5DaDFwcjloekNsWmc4K1FJOEVNRUNmekQ3QnRINmNlZ0FBM0o4QUJ1aVRBSVlwbFh1NEFYb2tnQUU2VkZWbW4yQmF0aUVBZEVnQUEzU290V1lHR0tiVUJEQkFqd1F3UUo4RU1FeW9xdDVPUFFZQTdrOEFBL1RKN0JOTXFMVzJzM3U0KzJMcWNRQndQd0lZb0UvdUFZWnA3YlkwQVF6UUdRRU0wSm5GNGVKNWtwMnB4d0V6dDVQaytkU0RBT0IrQkRCQVp5cjFJZ0lZdG9GOXdBQ2RFY0FBblZrdnUzUUhLVXpQWG55QXpnaGdnTTVVeWtNM2JJUHlRUlJBYndRd1FHZGFtb2R1MkE2dnB4NEFBUGNqZ0FINll3WVl0a0Z6R2p0QWJ3UXdRSDg4ZE1OMitIN3FBUUJ3UHdJWW9EOW1nR0U3ZUMzeS83ZDNiNmx0QkVFVVFLdU1NTVlZVDZMRUp2RWV0YzJzSU1zSlZINUNIaUN3OHRWOTRad1YzQjhOZmRWVk0wQVlCUmdnejhmVkFZQ3FxVG12emdEQS8xR0FBY0xNZUFzMDdLQ3JyU01BaEZHQUFjSjBPM1RERHZ3WkJaQkhBUVpJNDl1anNJV3Vmam91eDJsMURnQnVwd0FEcE9teWR3Zzc2SHFvcXVmVk1RQzRuUUlNRUdabWpFRERIaDZyVEdRQUpERzJBeERrdUJ4UFZmV3dPZ2Z3bXdJTUVNUU5NRUNXeDZxNlh4MEMrR1Y4Q3hnZ2lRSU1rT1dwRkdEWVJ5dkFBRWtVWUlBc2I2c0RBSDlNMmNrSFNLSUFBd1NaR3Z1R3NKR3VmbG1kQVlEYktjQUFRYnBhQVlhOStDd1pRQkFGR0NDTGNVdllpd0lNRUVRQkJzanlkWFVBNEIvK2xBSUlvZ0FEQkpteEF3eWJlVjBkQUlEYktjQUFTYm9VWU5pTDN5UkFFQVVZSUVoWEc3ZUVuVXlkajh2aFBBVVF3Z01iSU12bjFRR0F2M1RkbFQxZ2dCZ0tNRUNRbWZIR1dkakkxTnpWR0lNR1NLRUFBNFE0TGtlVmZVUFlTbGRYdGNrTWdCUUtNRUNPTDkzdHVRMmJtZkoyZG9BVURsSUFPVDZVNXpac3A2dmZWbWNBNERZT1VnQTUzRExCaHFiR0NEUkFDQVVZSU1UVXZLN09BRnd4OVdsMUJBQnVvd0FEaE9ocUJSZzIxTjF1Z0FGQ0tNQUFPWXhBdzU1OEJ4Z2doQUlNRUdKbVhsWm5BSzR5blFFUVFnRUd5T0dXQ2ZiMGZGd09aeXFBQUI3V0FDbTY3Qm5DbnA2cjZuNTFDQURlcHdBRGhPaHFPOEN3cC9QTUtNQUFBUlJnZ0J6bjFRR0E2N3E4Q1JvZ3dXbDFBQURlZDF5T1UxVjlxNm52cTdNQVYzVDlXQjBCQUFBQUFBQUFBQUFBQUFBQUFBQUFBQUFBQUFBQUFBQUFBQUFBQUFBQUFBQUFBQUFBQUFBQUFBQUFBQUFBQUFBQUFBQUFBQUFBQUFBQUFBQUFBQUFBQUFBQUFBQUFBQUFBQUFBQUFBQUFBQUFBQUFBQUFBQUFBQUFBQUFBQUFBQUFBQUFBQUFBQUFBQUFBQUFBQUFBQUFBQUFBQUFBQUFBQUFBQUFBQUFBQUFBQUFBQUFBQUFBQUFBQUFBQUFBQUFBQUFBQUFBQUFBQUFBQUFBQUFBQUFBQUFBQUFBQUFBQUFBQUFBQUFBQUFBQUFBQUFBQUFBQUFBQUFBQUFBQUFBQUFBQUFBQUFBQUFBQUFBQUFBQUFBQUFBQUFBQUFBQUFBQUFBQUFBQUFBQUFBQUFBQUFBQUFBQUFBQUFBQUFBQUFBQUFBQUFBQUFBQUFBQUFBQUFBQUFBQUFBQUFBQUFBQUFBQUFBQUFBQUFBQUFBQUFBQUFBQUFBQUFBQUFBQUFBQUFBQUFBQUFBQUFBQUFBQUFBQUFBQUFBQUFBQUFBQUFBQUFBQUFBQUFBQUFBQUFBQUFBQUFBQUFBQUFBQUFBQUFBQUFBQUFBQUFBQUFBQUFBQUFBQUFBQUFBQUFBQUFBQUFBQUFBQUFBQUFBQUFBQUFBQUFBQUFBQUFBQUFBQUFBQUFBQUFBQUFBQUFBQUFBQUFBQUFBQUFBQUFBQUFBQUFBQUFBQUFBQUFBQUFBQUFBQUFBQUFBQUFBQUFBQUFBQUFBQUFBQUFBQUFBQUFBQUFBQUFBQUFBQUFBQUFBQUFBQUFBQUFBQUFBQUFBQUFBQUFBQUFBQUFBQUFBQUFBQUFBQUFBQUFBQUFBQUFBQUFBQUFBQUFBQUFBQUFBQUFBQUFBQUFBQUFBQUFBQUFBQUFBQUFBQUFBQUFBQUFBQUFBQUFBQUFBQUFBQUFBQUFBQUFBQUFBQUFBQUFBQUFBQUFBQUFBQUFBQUFBQUFBQUFBQUFBQUFBQUFBQUFBQUFBQUFBQUFBQUFBQUFBQUFBQUFBQUFBQUFBQUFBQUFBQUFBQUFBQUFBQUFBQUFBQUFBQUFDQVRmMEVQdnV0SnlYRW0vMEFBQUFBU1VWT1JLNUNZSUk9In0pOwogICAgICAgIG1hcmtlcl9jZGYwYTllOWJlOWQ0OTE5YTQ5ZWRmYmE0NzkwZjYwZC5zZXRJY29uKGN1c3RvbV9pY29uX2MwMzE0N2U2YWQ5YzQ2MWE4Y2EzODk3NzkxYTdmZmFjKTsKICAgICAgICAKICAgIAogICAgICAgICAgICBtYXJrZXJfY2RmMGE5ZTliZTlkNDkxOWE0OWVkZmJhNDc5MGY2MGQuYmluZFRvb2x0aXAoCiAgICAgICAgICAgICAgICBgPGRpdj4KICAgICAgICAgICAgICAgICAgICAgTGEgZmFybWFjaWEgbWFzIGNlcmNhbmEKICAgICAgICAgICAgICAgICA8L2Rpdj5gLAogICAgICAgICAgICAgICAgeyJzdGlja3kiOiB0cnVlfQogICAgICAgICAgICApOwogICAgICAgIAogICAgCiAgICAgICAgICAgIHZhciBtYXJrZXJfMGQ4MDk3YjJmZWZkNDM2MzkwYzYwYTNjOGJmZjViOWQgPSBMLm1hcmtlcigKICAgICAgICAgICAgICAgIFs0MC40MDQ2LCAtMy43MTI5NF0sCiAgICAgICAgICAgICAgICB7fQogICAgICAgICAgICApLmFkZFRvKG1hcF81OWM5M2YyYWFlNzU0ZDU5YmE3M2FkNGU2NWVmMGM1Myk7CiAgICAgICAgCiAgICAKICAgICAgICAgICAgdmFyIGljb25fNGY5OWU5MTUzZWVlNDc4NTkwYTMwZDM5ZGIxYWFiNWEgPSBMLkF3ZXNvbWVNYXJrZXJzLmljb24oCiAgICAgICAgICAgICAgICB7ImV4dHJhQ2xhc3NlcyI6ICJmYS1yb3RhdGUtMCIsICJpY29uIjogImhvbWUiLCAiaWNvbkNvbG9yIjogIndoaXRlIiwgImljb25TaXplIjogWzQwLCA1MF0sICJtYXJrZXJDb2xvciI6ICJyZWQiLCAicHJlZml4IjogImZhIn0KICAgICAgICAgICAgKTsKICAgICAgICAgICAgbWFya2VyXzBkODA5N2IyZmVmZDQzNjM5MGM2MGEzYzhiZmY1YjlkLnNldEljb24oaWNvbl80Zjk5ZTkxNTNlZWU0Nzg1OTBhMzBkMzlkYjFhYWI1YSk7CiAgICAgICAgCiAgICAKICAgICAgICAgICAgbWFya2VyXzBkODA5N2IyZmVmZDQzNjM5MGM2MGEzYzhiZmY1YjlkLmJpbmRUb29sdGlwKAogICAgICAgICAgICAgICAgYDxkaXY+CiAgICAgICAgICAgICAgICAgICAgIFR1IGNhc2EKICAgICAgICAgICAgICAgICA8L2Rpdj5gLAogICAgICAgICAgICAgICAgeyJzdGlja3kiOiB0cnVlfQogICAgICAgICAgICApOwogICAgICAgIAo8L3NjcmlwdD4= onload=\"this.contentDocument.open();this.contentDocument.write(atob(this.getAttribute('data-html')));this.contentDocument.close();\" allowfullscreen webkitallowfullscreen mozallowfullscreen></iframe></div></div>"
      ],
      "text/plain": [
       "<folium.folium.Map at 0x1d0278b8a90>"
      ]
     },
     "execution_count": 72,
     "metadata": {},
     "output_type": "execute_result"
    }
   ],
   "source": [
    "map_final = Map(location = casa, zoom_start=15, control_scale = True)\n",
    "\n",
    "#HOSPiTAL\n",
    "icon = CustomIcon( \n",
    "            icon_hosp, \n",
    "            icon_size=(40, 50))\n",
    "loc = coord_hospital_cercano\n",
    "\n",
    "hospital_cercano = Marker(location = loc, icon = icon, tooltip = \"El hospital mas cercano\")\n",
    "hospital_cercano.add_to(map_final)\n",
    "\n",
    "\n",
    "#FARMACIA\n",
    "icon = CustomIcon(\n",
    "            icon_farm,\n",
    "            icon_size=(40, 50))\n",
    "\n",
    "loc = coord_farm_cercana\n",
    "farmacia_cercana = Marker(location = loc,icon = icon, tooltip = \"La farmacia mas cercana\")\n",
    "farmacia_cercana.add_to(map_final)\n",
    "\n",
    "\n",
    "#HOME\n",
    "icon = Icon(color = \"red\",\n",
    "                    prefix = \"fa\",\n",
    "                    icon = \"home\",\n",
    "                    icon_color = \"white\",\n",
    "                    icon_size = (40, 50))\n",
    "loc = casa\n",
    "mi_casa = Marker(location = loc, icon = icon, tooltip = \"Tu casa\")\n",
    "mi_casa.add_to(map_final)\n",
    "\n",
    "\n",
    "map_final"
   ]
  },
  {
   "cell_type": "code",
   "execution_count": 75,
   "metadata": {},
   "outputs": [],
   "source": [
    "map_final = Map(location = casa, zoom_start=15, control_scale = True)\n",
    "\n",
    "def distancia_visual(map_final):\n",
    "    map_final = Map(location = casa, zoom_start=15, control_scale = True)\n",
    "    #HOSPiTAL\n",
    "    icon = CustomIcon( \n",
    "                icon_hosp, \n",
    "                icon_size=(40, 50))\n",
    "    loc = coord_hospital_cercano\n",
    "\n",
    "    hospital_cercano = Marker(location = loc, icon = icon, tooltip = \"El hospital mas cercano\")\n",
    "    hospital_cercano.add_to(map_final)\n",
    "\n",
    "\n",
    "    #FARMACIA\n",
    "    icon = CustomIcon(\n",
    "                icon_farm,\n",
    "                icon_size=(40, 50))\n",
    "\n",
    "    loc = coord_farm_cercana\n",
    "    farmacia_cercana = Marker(location = loc,icon = icon, tooltip = \"La farmacia mas cercana\")\n",
    "    farmacia_cercana.add_to(map_final)\n",
    "\n",
    "\n",
    "    #HOME\n",
    "    icon = Icon(color = \"red\",\n",
    "                        prefix = \"fa\",\n",
    "                        icon = \"home\",\n",
    "                        icon_color = \"white\",\n",
    "                        icon_size = (40, 50))\n",
    "    loc = casa\n",
    "    mi_casa = Marker(location = loc, icon = icon, tooltip = \"Tu casa\")\n",
    "    mi_casa.add_to(map_final)\n",
    "\n",
    "\n",
    "    return map_final"
   ]
  },
  {
   "cell_type": "code",
   "execution_count": 76,
   "metadata": {
    "scrolled": false
   },
   "outputs": [
    {
     "data": {
      "text/html": [
       "<div style=\"width:100%;\"><div style=\"position:relative;width:100%;height:0;padding-bottom:60%;\"><span style=\"color:#565656\">Make this Notebook Trusted to load map: File -> Trust Notebook</span><iframe src=\"about:blank\" style=\"position:absolute;width:100%;height:100%;left:0;top:0;border:none !important;\" data-html=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 onload=\"this.contentDocument.open();this.contentDocument.write(atob(this.getAttribute('data-html')));this.contentDocument.close();\" allowfullscreen webkitallowfullscreen mozallowfullscreen></iframe></div></div>"
      ],
      "text/plain": [
       "<folium.folium.Map at 0x1d027852d90>"
      ]
     },
     "execution_count": 76,
     "metadata": {},
     "output_type": "execute_result"
    }
   ],
   "source": [
    "distancia_visual(map_final)"
   ]
  },
  {
   "cell_type": "code",
   "execution_count": 52,
   "metadata": {},
   "outputs": [],
   "source": [
    "map_final_2 = Map(location = casa, zoom_start=15, control_scale = True)\n",
    "\n",
    "def distancia_visual(map_final_2):\n",
    "    \n",
    "    #FARMACIA\n",
    "    icon = CustomIcon(\n",
    "                icon_farm,\n",
    "                icon_size=(40, 50))\n",
    "\n",
    "    loc = coord_farm_cercana\n",
    "    farmacia_cercana = Marker(location = loc,icon = icon, tooltip = \"La farmacia mas cercana\")\n",
    "    farmacia_cercana.add_to(map_final_2)\n",
    "\n",
    "\n",
    "    #HOME\n",
    "    icon = Icon(color = \"red\",\n",
    "                        prefix = \"fa\",\n",
    "                        icon = \"home\",\n",
    "                        icon_color = \"white\",\n",
    "                        icon_size = (40, 50))\n",
    "    loc = casa\n",
    "    mi_casa = Marker(location = loc, icon = icon, tooltip = \"Tu casa\")\n",
    "    mi_casa.add_to(map_final_2)\n",
    "\n",
    "\n",
    "    return map_final_2"
   ]
  },
  {
   "cell_type": "code",
   "execution_count": 53,
   "metadata": {},
   "outputs": [
    {
     "data": {
      "text/html": [
       "<div style=\"width:100%;\"><div style=\"position:relative;width:100%;height:0;padding-bottom:60%;\"><span style=\"color:#565656\">Make this Notebook Trusted to load map: File -> Trust Notebook</span><iframe src=\"about:blank\" style=\"position:absolute;width:100%;height:100%;left:0;top:0;border:none !important;\" data-html=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 onload=\"this.contentDocument.open();this.contentDocument.write(atob(this.getAttribute('data-html')));this.contentDocument.close();\" allowfullscreen webkitallowfullscreen mozallowfullscreen></iframe></div></div>"
      ],
      "text/plain": [
       "<folium.folium.Map at 0x1d0278b8a30>"
      ]
     },
     "execution_count": 53,
     "metadata": {},
     "output_type": "execute_result"
    }
   ],
   "source": [
    "distancia_visual(map_final_2)"
   ]
  }
 ],
 "metadata": {
  "kernelspec": {
   "display_name": "Python 3",
   "language": "python",
   "name": "python3"
  },
  "language_info": {
   "codemirror_mode": {
    "name": "ipython",
    "version": 3
   },
   "file_extension": ".py",
   "mimetype": "text/x-python",
   "name": "python",
   "nbconvert_exporter": "python",
   "pygments_lexer": "ipython3",
   "version": "3.8.3"
  },
  "toc": {
   "base_numbering": 1,
   "nav_menu": {},
   "number_sections": true,
   "sideBar": true,
   "skip_h1_title": false,
   "title_cell": "Table of Contents",
   "title_sidebar": "Contents",
   "toc_cell": false,
   "toc_position": {},
   "toc_section_display": true,
   "toc_window_display": false
  }
 },
 "nbformat": 4,
 "nbformat_minor": 4
}
